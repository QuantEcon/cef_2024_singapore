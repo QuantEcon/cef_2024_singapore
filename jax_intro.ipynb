{
 "cells": [
  {
   "cell_type": "markdown",
   "id": "5b5c26c4",
   "metadata": {},
   "source": [
    "# An Introduction to JAX\n",
    "\n",
    "----\n",
    "\n",
    "#### John Stachurski\n",
    "\n",
    "#### Prepared for the CBC Workshop (May 2024)\n",
    "\n",
    "----\n",
    "\n",
    "\n",
    "This lecture provides a short introduction to [Google JAX](https://github.com/google/jax).\n",
    "\n",
    "What GPUs do we have access to?"
   ]
  },
  {
   "cell_type": "code",
   "execution_count": null,
   "id": "8e88c8f1",
   "metadata": {},
   "outputs": [],
   "source": [
    "!nvidia-smi"
   ]
  },
  {
   "cell_type": "markdown",
   "id": "34b73cf5",
   "metadata": {},
   "source": [
    "## Speed Test -- JAX vs NumPy\n",
    "\n",
    "Let's start with some speed comparisons between NumPy and JAX.\n",
    "\n",
    "(After that we'll look at learning how to use JAX more systematically.)\n",
    "\n",
    "\n",
    "### Transformations\n",
    "\n",
    "Let's evaluate the cosine function at 50 points."
   ]
  },
  {
   "cell_type": "code",
   "execution_count": null,
   "id": "a5bfc9c3",
   "metadata": {},
   "outputs": [],
   "source": [
    "x = np.linspace(0, 10, 50)\n",
    "y = np.cos(x)\n",
    "\n",
    "fig, ax = plt.subplots()\n",
    "ax.scatter(x, y)\n",
    "plt.show()"
   ]
  },
  {
   "cell_type": "markdown",
   "id": "52fe18b5",
   "metadata": {},
   "source": [
    "Now suppose we want to evaluate the cosine function at many points."
   ]
  },
  {
   "cell_type": "code",
   "execution_count": null,
   "id": "034ae1a4",
   "metadata": {},
   "outputs": [],
   "source": [
    "n = 50_000_000\n",
    "x = np.linspace(0, 10, n)"
   ]
  },
  {
   "cell_type": "markdown",
   "id": "f7f55515",
   "metadata": {},
   "source": [
    "### With NumPy"
   ]
  },
  {
   "cell_type": "code",
   "execution_count": null,
   "id": "ea920c17",
   "metadata": {},
   "outputs": [],
   "source": [
    "%time np.cos(x)"
   ]
  },
  {
   "cell_type": "code",
   "execution_count": null,
   "id": "72af277c",
   "metadata": {},
   "outputs": [],
   "source": [
    "%time np.cos(x)"
   ]
  },
  {
   "cell_type": "markdown",
   "id": "0e890850",
   "metadata": {},
   "source": [
    "The next line of code frees some memory."
   ]
  },
  {
   "cell_type": "code",
   "execution_count": null,
   "id": "1b21c98b",
   "metadata": {},
   "outputs": [],
   "source": [
    "x = None"
   ]
  },
  {
   "cell_type": "markdown",
   "id": "1b655795",
   "metadata": {},
   "source": [
    "### With JAX"
   ]
  },
  {
   "cell_type": "code",
   "execution_count": null,
   "id": "e41e8c6d",
   "metadata": {},
   "outputs": [],
   "source": [
    "x_jax = jnp.linspace(0, 10, n)"
   ]
  },
  {
   "cell_type": "markdown",
   "id": "4e218252",
   "metadata": {},
   "source": [
    "Let's run the same operation on JAX\n",
    "\n",
    "(The `block_until_ready()` method is explained a bit later.)"
   ]
  },
  {
   "cell_type": "code",
   "execution_count": null,
   "id": "8c5cc6f1",
   "metadata": {},
   "outputs": [],
   "source": [
    "%time jnp.cos(x_jax).block_until_ready()"
   ]
  },
  {
   "cell_type": "code",
   "execution_count": null,
   "id": "5099d287",
   "metadata": {},
   "outputs": [],
   "source": [
    "%time jnp.cos(x_jax).block_until_ready()"
   ]
  },
  {
   "cell_type": "code",
   "execution_count": null,
   "id": "0183da31",
   "metadata": {},
   "outputs": [],
   "source": [
    "x_jax = None  # Free memory"
   ]
  },
  {
   "cell_type": "markdown",
   "id": "8feb83f7",
   "metadata": {},
   "source": [
    "### Evaluating a more complicated function"
   ]
  },
  {
   "cell_type": "code",
   "execution_count": null,
   "id": "095e566c",
   "metadata": {},
   "outputs": [],
   "source": [
    "def f(x):\n",
    "    y = np.cos(2 * x**2) + np.sqrt(np.abs(x)) + 2 * np.sin(x**4) - 0.1 * x**2\n",
    "    return y"
   ]
  },
  {
   "cell_type": "code",
   "execution_count": null,
   "id": "3ba4e521",
   "metadata": {},
   "outputs": [],
   "source": [
    "fig, ax = plt.subplots()\n",
    "x = np.linspace(0, 10, 100)\n",
    "ax.plot(x, f(x))\n",
    "ax.scatter(x, f(x))\n",
    "plt.show()"
   ]
  },
  {
   "cell_type": "markdown",
   "id": "3e01d32b",
   "metadata": {},
   "source": [
    "Now let's try with a large array."
   ]
  },
  {
   "cell_type": "markdown",
   "id": "a9828a84",
   "metadata": {},
   "source": [
    "### With NumPy"
   ]
  },
  {
   "cell_type": "code",
   "execution_count": null,
   "id": "c4f41aa1",
   "metadata": {},
   "outputs": [],
   "source": [
    "n = 50_000_000\n",
    "x = np.linspace(0, 10, n)"
   ]
  },
  {
   "cell_type": "code",
   "execution_count": null,
   "id": "b0c578a4",
   "metadata": {},
   "outputs": [],
   "source": [
    "%time f(x)"
   ]
  },
  {
   "cell_type": "code",
   "execution_count": null,
   "id": "85680268",
   "metadata": {},
   "outputs": [],
   "source": [
    "%time f(x)"
   ]
  },
  {
   "cell_type": "markdown",
   "id": "2b034728",
   "metadata": {},
   "source": [
    "### With JAX"
   ]
  },
  {
   "cell_type": "code",
   "execution_count": null,
   "id": "54c912bd",
   "metadata": {},
   "outputs": [],
   "source": [
    "def f(x):\n",
    "    y = jnp.cos(2 * x**2) + jnp.sqrt(jnp.abs(x)) + 2 * jnp.sin(x**4) - x**2\n",
    "    return y"
   ]
  },
  {
   "cell_type": "code",
   "execution_count": null,
   "id": "b2b8d198",
   "metadata": {},
   "outputs": [],
   "source": [
    "x_jax = jnp.linspace(0, 10, n)"
   ]
  },
  {
   "cell_type": "code",
   "execution_count": null,
   "id": "e84d0dab",
   "metadata": {},
   "outputs": [],
   "source": [
    "%time f(x_jax).block_until_ready()"
   ]
  },
  {
   "cell_type": "code",
   "execution_count": null,
   "id": "1008dad6",
   "metadata": {},
   "outputs": [],
   "source": [
    "%time f(x_jax).block_until_ready()"
   ]
  },
  {
   "cell_type": "markdown",
   "id": "37fd3f01",
   "metadata": {},
   "source": [
    "### Compiling the Whole Function"
   ]
  },
  {
   "cell_type": "code",
   "execution_count": null,
   "id": "65fc516b",
   "metadata": {},
   "outputs": [],
   "source": [
    "f_jax = jax.jit(f)"
   ]
  },
  {
   "cell_type": "code",
   "execution_count": null,
   "id": "439cb6d7",
   "metadata": {},
   "outputs": [],
   "source": [
    "%time f_jax(x_jax).block_until_ready()"
   ]
  },
  {
   "cell_type": "code",
   "execution_count": null,
   "id": "5e2f67b8",
   "metadata": {},
   "outputs": [],
   "source": [
    "%time f_jax(x_jax).block_until_ready()"
   ]
  },
  {
   "cell_type": "markdown",
   "id": "f690f231",
   "metadata": {},
   "source": [
    "## JAX as a NumPy Replacement\n",
    "\n",
    "Now let's slow down and try to figure out how JAX works.\n",
    "\n",
    "One way to use JAX is as a plug-in NumPy replacement. \n",
    "\n",
    "Let's look at the similarities and differences.\n",
    "\n",
    "### Similarities\n",
    "\n",
    "\n",
    "The following import is standard, replacing `import numpy as np`:"
   ]
  },
  {
   "cell_type": "code",
   "execution_count": null,
   "id": "92375f3d",
   "metadata": {},
   "outputs": [],
   "source": [
    "import jax\n",
    "import jax.numpy as jnp"
   ]
  },
  {
   "cell_type": "markdown",
   "id": "3c62e48c",
   "metadata": {},
   "source": [
    "Now we can use `jnp` in place of `np` for the usual array operations:"
   ]
  },
  {
   "cell_type": "code",
   "execution_count": null,
   "id": "28fd2618",
   "metadata": {},
   "outputs": [],
   "source": [
    "a = jnp.array((1.0, 3.2, -1.5))"
   ]
  },
  {
   "cell_type": "code",
   "execution_count": null,
   "id": "621a8841",
   "metadata": {},
   "outputs": [],
   "source": [
    "print(a)"
   ]
  },
  {
   "cell_type": "code",
   "execution_count": null,
   "id": "5bfd6d05",
   "metadata": {},
   "outputs": [],
   "source": [
    "print(jnp.sum(a))"
   ]
  },
  {
   "cell_type": "code",
   "execution_count": null,
   "id": "7f2bbd7e",
   "metadata": {},
   "outputs": [],
   "source": [
    "print(jnp.mean(a))"
   ]
  },
  {
   "cell_type": "code",
   "execution_count": null,
   "id": "dab4e7ba",
   "metadata": {},
   "outputs": [],
   "source": [
    "print(jnp.dot(a, a))"
   ]
  },
  {
   "cell_type": "code",
   "execution_count": null,
   "id": "f74c9b74",
   "metadata": {},
   "outputs": [],
   "source": [
    "print(a @ a)  # Equivalent"
   ]
  },
  {
   "cell_type": "markdown",
   "id": "d058c4b0",
   "metadata": {},
   "source": [
    "However, the array object `a` is not a NumPy array:"
   ]
  },
  {
   "cell_type": "code",
   "execution_count": null,
   "id": "6297d385",
   "metadata": {},
   "outputs": [],
   "source": [
    "a"
   ]
  },
  {
   "cell_type": "code",
   "execution_count": null,
   "id": "8e244024",
   "metadata": {},
   "outputs": [],
   "source": [
    "type(a)"
   ]
  },
  {
   "cell_type": "markdown",
   "id": "a0b32d9e",
   "metadata": {},
   "source": [
    "Even scalar-valued maps on arrays return JAX arrays."
   ]
  },
  {
   "cell_type": "code",
   "execution_count": null,
   "id": "a3a72f43",
   "metadata": {},
   "outputs": [],
   "source": [
    "jnp.sum(a)"
   ]
  },
  {
   "cell_type": "markdown",
   "id": "52bb7466",
   "metadata": {},
   "source": [
    "Operations on higher dimensional arrays are also similar to NumPy:"
   ]
  },
  {
   "cell_type": "code",
   "execution_count": null,
   "id": "708297db",
   "metadata": {},
   "outputs": [],
   "source": [
    "A = jnp.ones((2, 2))\n",
    "B = jnp.identity(2)\n",
    "A @ B"
   ]
  },
  {
   "cell_type": "code",
   "execution_count": null,
   "id": "69aa0470",
   "metadata": {},
   "outputs": [],
   "source": [
    "jnp.linalg.inv(B)   # Inverse of identity is identity"
   ]
  },
  {
   "cell_type": "code",
   "execution_count": null,
   "id": "5e6f4da9",
   "metadata": {},
   "outputs": [],
   "source": [
    "result = jnp.linalg.eigh(B)  # Computes eigenvalues and eigenvectors\n",
    "result.eigenvalues"
   ]
  },
  {
   "cell_type": "code",
   "execution_count": null,
   "id": "f3749d94",
   "metadata": {},
   "outputs": [],
   "source": [
    "result.eigenvectors"
   ]
  },
  {
   "cell_type": "markdown",
   "id": "1d726874",
   "metadata": {},
   "source": [
    "### Differences\n",
    "\n",
    "Let's now look at the differences between JAX and NumPy\n",
    "\n",
    "#### 32 bit floats\n",
    "\n",
    "JAX uses 32 bit floats by default.\n",
    "\n",
    "If necessary we can enforce 64 bit floats via"
   ]
  },
  {
   "cell_type": "code",
   "execution_count": null,
   "id": "f9cbe210",
   "metadata": {},
   "outputs": [],
   "source": [
    "jax.config.update(\"jax_enable_x64\", True)"
   ]
  },
  {
   "cell_type": "markdown",
   "id": "6381b96c",
   "metadata": {},
   "source": [
    "Let's check this works:"
   ]
  },
  {
   "cell_type": "code",
   "execution_count": null,
   "id": "8502b20e",
   "metadata": {},
   "outputs": [],
   "source": [
    "jnp.ones(3)"
   ]
  },
  {
   "cell_type": "markdown",
   "id": "5a920bfc",
   "metadata": {},
   "source": [
    "#### Mutability\n",
    "\n",
    "\n",
    "For example, with NumPy we can write"
   ]
  },
  {
   "cell_type": "code",
   "execution_count": null,
   "id": "0d430b98",
   "metadata": {},
   "outputs": [],
   "source": [
    "import numpy as np\n",
    "a = np.linspace(0, 1, 3)\n",
    "a"
   ]
  },
  {
   "cell_type": "markdown",
   "id": "12888752",
   "metadata": {},
   "source": [
    "and then mutate the data in memory:"
   ]
  },
  {
   "cell_type": "code",
   "execution_count": null,
   "id": "f1607634",
   "metadata": {},
   "outputs": [],
   "source": [
    "a[0] = 1\n",
    "a"
   ]
  },
  {
   "cell_type": "markdown",
   "id": "f7c5d81d",
   "metadata": {},
   "source": [
    "In JAX this fails because arrays are immutable:"
   ]
  },
  {
   "cell_type": "code",
   "execution_count": null,
   "id": "2478785f",
   "metadata": {},
   "outputs": [],
   "source": [
    "a = jnp.linspace(0, 1, 3)\n",
    "a"
   ]
  },
  {
   "cell_type": "code",
   "execution_count": null,
   "id": "11832fdd",
   "metadata": {
    "tags": [
     "raises-exception"
    ]
   },
   "outputs": [],
   "source": [
    "a[0] = 1   # uncommenting produces a TypeError"
   ]
  },
  {
   "cell_type": "markdown",
   "id": "d54283bb",
   "metadata": {},
   "source": [
    "Why???"
   ]
  },
  {
   "cell_type": "markdown",
   "id": "8cd9827e",
   "metadata": {},
   "source": [
    "## Random Numbers\n",
    "\n",
    "Random numbers are also a bit different in JAX, relative to NumPy.  \n",
    "\n",
    "(There are good reasons why, which we'll discuss later.)"
   ]
  },
  {
   "cell_type": "markdown",
   "id": "cc9de821",
   "metadata": {},
   "source": [
    "### Controlling the state\n",
    "\n",
    "In JAX, the state of the random number generator needs to be controlled explicitly.\n",
    "\n",
    "\n",
    "First we produce a key, which seeds the random number generator."
   ]
  },
  {
   "cell_type": "code",
   "execution_count": null,
   "id": "6fc51b34",
   "metadata": {},
   "outputs": [],
   "source": [
    "key = jax.random.PRNGKey(1)"
   ]
  },
  {
   "cell_type": "code",
   "execution_count": null,
   "id": "79728d3b",
   "metadata": {},
   "outputs": [],
   "source": [
    "type(key)"
   ]
  },
  {
   "cell_type": "code",
   "execution_count": null,
   "id": "92e06656",
   "metadata": {},
   "outputs": [],
   "source": [
    "print(key)"
   ]
  },
  {
   "cell_type": "markdown",
   "id": "a9b7c2a8",
   "metadata": {},
   "source": [
    "Now we can use the key to generate some random numbers:"
   ]
  },
  {
   "cell_type": "code",
   "execution_count": null,
   "id": "1948dac2",
   "metadata": {},
   "outputs": [],
   "source": [
    "x = jax.random.normal(key, (3, 3))\n",
    "x"
   ]
  },
  {
   "cell_type": "markdown",
   "id": "9ee5776e",
   "metadata": {},
   "source": [
    "If we use the same key again, we initialize at the same seed, so the random numbers are the same:"
   ]
  },
  {
   "cell_type": "code",
   "execution_count": null,
   "id": "a87b8c0e",
   "metadata": {},
   "outputs": [],
   "source": [
    "jax.random.normal(key, (3, 3))"
   ]
  },
  {
   "cell_type": "markdown",
   "id": "5f7c50f3",
   "metadata": {},
   "source": [
    "### Generating fresh draws"
   ]
  },
  {
   "cell_type": "markdown",
   "id": "59a1301d",
   "metadata": {},
   "source": [
    "To produce a (quasi-) independent draw, we can use `split`"
   ]
  },
  {
   "cell_type": "code",
   "execution_count": null,
   "id": "0204fad7",
   "metadata": {},
   "outputs": [],
   "source": [
    "new_keys = jax.random.split(key, 5)   # Generate 5 new keys"
   ]
  },
  {
   "cell_type": "code",
   "execution_count": null,
   "id": "18e24d0a",
   "metadata": {},
   "outputs": [],
   "source": [
    "len(new_keys)"
   ]
  },
  {
   "cell_type": "code",
   "execution_count": null,
   "id": "228f4568",
   "metadata": {},
   "outputs": [],
   "source": [
    "for key in new_keys:\n",
    "    print(jax.random.normal(key, (3, )))"
   ]
  },
  {
   "cell_type": "markdown",
   "id": "d8a0faa1",
   "metadata": {},
   "source": [
    "## JIT compilation\n",
    "\n",
    "The JAX just-in-time (JIT) compiler generates efficient, parallelized machine\n",
    "code optimized for either the CPU or the GPU/TPU, depending on whether one of\n",
    "these accelerators is detected.\n",
    "\n",
    "### A first example\n",
    "\n",
    "To see the JIT compiler in action, consider the following function."
   ]
  },
  {
   "cell_type": "code",
   "execution_count": null,
   "id": "42d0694a",
   "metadata": {},
   "outputs": [],
   "source": [
    "def f(x):\n",
    "    a = jnp.sin(x) + jnp.cos(x**2)\n",
    "    return jnp.sum(a)"
   ]
  },
  {
   "cell_type": "markdown",
   "id": "35de3ebe",
   "metadata": {},
   "source": [
    "Let's build an array to call the function on."
   ]
  },
  {
   "cell_type": "code",
   "execution_count": null,
   "id": "6939f260",
   "metadata": {},
   "outputs": [],
   "source": [
    "n = 50_000_000\n",
    "x = jnp.ones(n)"
   ]
  },
  {
   "cell_type": "markdown",
   "id": "7c36092f",
   "metadata": {},
   "source": [
    "How long does the function take to execute?"
   ]
  },
  {
   "cell_type": "code",
   "execution_count": null,
   "id": "c871334e",
   "metadata": {},
   "outputs": [],
   "source": [
    "%time f(x).block_until_ready()"
   ]
  },
  {
   "cell_type": "markdown",
   "id": "8ed4cfe0",
   "metadata": {},
   "source": [
    "What is `block_until_ready()` for?"
   ]
  },
  {
   "cell_type": "markdown",
   "id": "29cce6b4",
   "metadata": {},
   "source": [
    "If we run it a second time it becomes much faster:"
   ]
  },
  {
   "cell_type": "code",
   "execution_count": null,
   "id": "2d8e5820",
   "metadata": {},
   "outputs": [],
   "source": [
    "%time f(x).block_until_ready()"
   ]
  },
  {
   "cell_type": "markdown",
   "id": "dba318f2",
   "metadata": {},
   "source": [
    "Why?"
   ]
  },
  {
   "cell_type": "markdown",
   "id": "023b0238",
   "metadata": {},
   "source": [
    "### When does JAX recompile?\n",
    "\n",
    "Let's run `f()` on new data:"
   ]
  },
  {
   "cell_type": "code",
   "execution_count": null,
   "id": "83724e86",
   "metadata": {},
   "outputs": [],
   "source": [
    "y = jnp.ones(n + 1)"
   ]
  },
  {
   "cell_type": "code",
   "execution_count": null,
   "id": "522589bf",
   "metadata": {},
   "outputs": [],
   "source": [
    "%time f(y).block_until_ready()"
   ]
  },
  {
   "cell_type": "markdown",
   "id": "d4ad7178",
   "metadata": {},
   "source": [
    "Notice that the execution time increases again --- why??!\n",
    "\n",
    "(This wouldn't happen with Julia/Numba, which recompile only if we change the\n",
    "*types* of variables in a function call.)"
   ]
  },
  {
   "cell_type": "code",
   "execution_count": null,
   "id": "5ccfb7db",
   "metadata": {},
   "outputs": [],
   "source": [
    "%time f(y).block_until_ready()"
   ]
  },
  {
   "cell_type": "markdown",
   "id": "575edc8b",
   "metadata": {},
   "source": [
    "And now runtime goes down again --- why?"
   ]
  },
  {
   "cell_type": "markdown",
   "id": "07ccfc1e",
   "metadata": {},
   "source": [
    "Note that the previous compiled versions are still available in memory\n",
    "too, and the following call is dispatched to the correct compiled code."
   ]
  },
  {
   "cell_type": "code",
   "execution_count": null,
   "id": "3b70c203",
   "metadata": {},
   "outputs": [],
   "source": [
    "%time f(x).block_until_ready()"
   ]
  },
  {
   "cell_type": "markdown",
   "id": "48837baf",
   "metadata": {},
   "source": [
    "### Compiling user-built functions\n",
    "\n",
    "As we saw above, we can also instruct JAX to compile an entire user-defined function.\n",
    "\n",
    "For example, consider"
   ]
  },
  {
   "cell_type": "code",
   "execution_count": null,
   "id": "b9fe186a",
   "metadata": {},
   "outputs": [],
   "source": [
    "def g(x):\n",
    "    y = jnp.zeros_like(x)\n",
    "    for i in range(10):\n",
    "        y += x**i\n",
    "    return y"
   ]
  },
  {
   "cell_type": "code",
   "execution_count": null,
   "id": "4830937e",
   "metadata": {},
   "outputs": [],
   "source": [
    "n = 1_000_000\n",
    "x = jnp.ones(n)"
   ]
  },
  {
   "cell_type": "markdown",
   "id": "a79ba80b",
   "metadata": {},
   "source": [
    "Let's time it."
   ]
  },
  {
   "cell_type": "code",
   "execution_count": null,
   "id": "3cdf3689",
   "metadata": {},
   "outputs": [],
   "source": [
    "%time g(x).block_until_ready()"
   ]
  },
  {
   "cell_type": "code",
   "execution_count": null,
   "id": "57a13e07",
   "metadata": {},
   "outputs": [],
   "source": [
    "%time g(x).block_until_ready()"
   ]
  },
  {
   "cell_type": "code",
   "execution_count": null,
   "id": "604af1b7",
   "metadata": {},
   "outputs": [],
   "source": [
    "g_jit = jax.jit(g)   # target for JIT compilation"
   ]
  },
  {
   "cell_type": "markdown",
   "id": "ecbb8db1",
   "metadata": {},
   "source": [
    "Let's run once to compile it:"
   ]
  },
  {
   "cell_type": "code",
   "execution_count": null,
   "id": "0a7ba60b",
   "metadata": {},
   "outputs": [],
   "source": [
    "g_jit(x)"
   ]
  },
  {
   "cell_type": "markdown",
   "id": "e579f1d3",
   "metadata": {},
   "source": [
    "And now let's time it."
   ]
  },
  {
   "cell_type": "code",
   "execution_count": null,
   "id": "add7fee0",
   "metadata": {},
   "outputs": [],
   "source": [
    "%time g_jit(x).block_until_ready()"
   ]
  },
  {
   "cell_type": "markdown",
   "id": "42c90cdc",
   "metadata": {},
   "source": [
    "Why do we get a speed gain?\n",
    "\n",
    "Incidentally, a more common syntax when targetting a function for the JIT\n",
    "compiler is"
   ]
  },
  {
   "cell_type": "code",
   "execution_count": null,
   "id": "693a19f1",
   "metadata": {},
   "outputs": [],
   "source": [
    "@jax.jit\n",
    "def g_jit_2(x):\n",
    "    y = jnp.zeros_like(x)\n",
    "    for i in range(10):\n",
    "        y += x**i\n",
    "    return y"
   ]
  },
  {
   "cell_type": "code",
   "execution_count": null,
   "id": "37eea1f2",
   "metadata": {},
   "outputs": [],
   "source": [
    "%time g_jit_2(x).block_until_ready()"
   ]
  },
  {
   "cell_type": "code",
   "execution_count": null,
   "id": "a93bfaa6",
   "metadata": {},
   "outputs": [],
   "source": [
    "%time g_jit_2(x).block_until_ready()"
   ]
  },
  {
   "cell_type": "markdown",
   "id": "72ca0f5e",
   "metadata": {},
   "source": [
    "## Functional Programming\n",
    "\n",
    "From JAX's documentation:\n",
    "\n",
    "*When walking about the countryside of Italy, the people will not hesitate to tell you that JAX has “una anima di pura programmazione funzionale”.*\n",
    "\n",
    "In other words, JAX assumes a functional programming style.\n",
    "\n",
    "The major implication is that JAX functions should be pure.\n",
    "    \n",
    "A pure function \n",
    "\n",
    "* will always return the same result if invoked with the same inputs (no dependence on external state) and\n",
    "* have no side effects"
   ]
  },
  {
   "cell_type": "markdown",
   "id": "3afe13b8",
   "metadata": {},
   "source": [
    "### Examples: Python/NumPy/Numba style code is not generally pure"
   ]
  },
  {
   "cell_type": "markdown",
   "id": "3ba7fc89",
   "metadata": {},
   "source": [
    "#### Example 1"
   ]
  },
  {
   "cell_type": "markdown",
   "id": "a064625d",
   "metadata": {},
   "source": [
    "Here's an example to show that NumPy functions are *not* pure:"
   ]
  },
  {
   "cell_type": "code",
   "execution_count": null,
   "id": "8b452231",
   "metadata": {},
   "outputs": [],
   "source": [
    "np.random.randn(3)"
   ]
  },
  {
   "cell_type": "code",
   "execution_count": null,
   "id": "ffe25f70",
   "metadata": {},
   "outputs": [],
   "source": [
    "np.random.randn(3)"
   ]
  },
  {
   "cell_type": "markdown",
   "id": "fdb0c941",
   "metadata": {},
   "source": [
    "This function returns the different results when called on the same inputs!\n",
    "\n",
    "The issue is that the function maintains state between function calls --- the state of the random number generator."
   ]
  },
  {
   "cell_type": "code",
   "execution_count": null,
   "id": "2cd29f04",
   "metadata": {},
   "outputs": [],
   "source": [
    "np.random.get_state()[2]"
   ]
  },
  {
   "cell_type": "code",
   "execution_count": null,
   "id": "5ea77c19",
   "metadata": {},
   "outputs": [],
   "source": [
    "np.random.randn(3)"
   ]
  },
  {
   "cell_type": "code",
   "execution_count": null,
   "id": "d3f43e58",
   "metadata": {},
   "outputs": [],
   "source": [
    "np.random.get_state()[2]"
   ]
  },
  {
   "cell_type": "markdown",
   "id": "c3fe5a25",
   "metadata": {},
   "source": [
    "#### Example 2\n",
    "\n",
    "Is this guy pure?"
   ]
  },
  {
   "cell_type": "code",
   "execution_count": null,
   "id": "aa37437b",
   "metadata": {},
   "outputs": [],
   "source": [
    "a = 10\n",
    "def f(x): \n",
    "    return a * x"
   ]
  },
  {
   "cell_type": "code",
   "execution_count": null,
   "id": "90921134",
   "metadata": {},
   "outputs": [],
   "source": [
    "f(1)"
   ]
  },
  {
   "cell_type": "markdown",
   "id": "b6600b43",
   "metadata": {},
   "source": [
    "Now let's change the global:"
   ]
  },
  {
   "cell_type": "code",
   "execution_count": null,
   "id": "65be2b79",
   "metadata": {},
   "outputs": [],
   "source": [
    "a = 20"
   ]
  },
  {
   "cell_type": "code",
   "execution_count": null,
   "id": "3c95f5dc",
   "metadata": {},
   "outputs": [],
   "source": [
    "f(1)"
   ]
  },
  {
   "cell_type": "markdown",
   "id": "95b2a737",
   "metadata": {},
   "source": [
    "#### Example 3"
   ]
  },
  {
   "cell_type": "markdown",
   "id": "2e3395d0",
   "metadata": {},
   "source": [
    "Is this guy pure?  Why? / Why not?"
   ]
  },
  {
   "cell_type": "code",
   "execution_count": null,
   "id": "620eadd2",
   "metadata": {},
   "outputs": [],
   "source": [
    "def change_input(x):   # Not pure -- side effects\n",
    "    x[0] = 42\n",
    "    return None\n",
    "\n",
    "x = np.ones(5)\n",
    "x"
   ]
  },
  {
   "cell_type": "code",
   "execution_count": null,
   "id": "7acc99d9",
   "metadata": {},
   "outputs": [],
   "source": [
    "change_input(x)\n",
    "x"
   ]
  },
  {
   "cell_type": "markdown",
   "id": "5282278d",
   "metadata": {},
   "source": [
    "### Compiling impure functions\n",
    "\n",
    "JAX will *not* usually throw errors when compiling impure functions \n",
    "\n",
    "However, execution becomes unpredictable!\n",
    "\n",
    "Here's an illustration of this fact, using global variables:"
   ]
  },
  {
   "cell_type": "code",
   "execution_count": null,
   "id": "b3c88a3d",
   "metadata": {},
   "outputs": [],
   "source": [
    "a = 1  # global\n",
    "\n",
    "@jax.jit\n",
    "def f(x):\n",
    "    return a + x"
   ]
  },
  {
   "cell_type": "code",
   "execution_count": null,
   "id": "af1f850b",
   "metadata": {},
   "outputs": [],
   "source": [
    "x = jnp.ones(2)"
   ]
  },
  {
   "cell_type": "code",
   "execution_count": null,
   "id": "c8086bd7",
   "metadata": {},
   "outputs": [],
   "source": [
    "f(x)"
   ]
  },
  {
   "cell_type": "markdown",
   "id": "79469fd6",
   "metadata": {},
   "source": [
    "In the code above, the global value `a=1` is fused into the jitted function.\n",
    "\n",
    "Even if we change `a`, the output of `f` will not be affected --- as long as the same compiled version is called."
   ]
  },
  {
   "cell_type": "code",
   "execution_count": null,
   "id": "278b5bb0",
   "metadata": {},
   "outputs": [],
   "source": [
    "a = 42"
   ]
  },
  {
   "cell_type": "code",
   "execution_count": null,
   "id": "4828a019",
   "metadata": {},
   "outputs": [],
   "source": [
    "f(x)"
   ]
  },
  {
   "cell_type": "markdown",
   "id": "32c5a5af",
   "metadata": {},
   "source": [
    "Notice that the change in the value of `a` takes effect in the code below:"
   ]
  },
  {
   "cell_type": "code",
   "execution_count": null,
   "id": "f6ff45c5",
   "metadata": {},
   "outputs": [],
   "source": [
    "x = jnp.ones(3)"
   ]
  },
  {
   "cell_type": "code",
   "execution_count": null,
   "id": "a11ac9c3",
   "metadata": {},
   "outputs": [],
   "source": [
    "f(x)"
   ]
  },
  {
   "cell_type": "markdown",
   "id": "05e0feef",
   "metadata": {},
   "source": [
    "Why?"
   ]
  },
  {
   "cell_type": "markdown",
   "id": "4d6f6fd1",
   "metadata": {},
   "source": [
    "#### Moral"
   ]
  },
  {
   "cell_type": "markdown",
   "id": "96080beb",
   "metadata": {},
   "source": [
    "Moral of the story: write pure functions when using JAX!"
   ]
  },
  {
   "cell_type": "markdown",
   "id": "45c333d5",
   "metadata": {},
   "source": [
    "## Gradients\n",
    "\n",
    "JAX can use automatic differentiation to compute gradients.\n",
    "\n",
    "This can be extremely useful for optimization and solving nonlinear systems.\n",
    "\n",
    "We will see significant applications later in this lecture series.\n",
    "\n",
    "For now, here's a very simple illustration involving the function"
   ]
  },
  {
   "cell_type": "code",
   "execution_count": null,
   "id": "29f90ddf",
   "metadata": {},
   "outputs": [],
   "source": [
    "def f(x):\n",
    "    return (x**2) / 2"
   ]
  },
  {
   "cell_type": "markdown",
   "id": "8c8bf825",
   "metadata": {},
   "source": [
    "Let's take the derivative:"
   ]
  },
  {
   "cell_type": "code",
   "execution_count": null,
   "id": "86bcf16e",
   "metadata": {},
   "outputs": [],
   "source": [
    "f_prime = jax.grad(f)"
   ]
  },
  {
   "cell_type": "code",
   "execution_count": null,
   "id": "63d7a982",
   "metadata": {},
   "outputs": [],
   "source": [
    "f_prime(10.0)"
   ]
  },
  {
   "cell_type": "markdown",
   "id": "1323f0ce",
   "metadata": {},
   "source": [
    "Let's plot the function and derivative, noting that $f'(x) = x$."
   ]
  },
  {
   "cell_type": "code",
   "execution_count": null,
   "id": "5d510de6",
   "metadata": {},
   "outputs": [],
   "source": [
    "import matplotlib.pyplot as plt\n",
    "\n",
    "fig, ax = plt.subplots()\n",
    "x_grid = jnp.linspace(-4, 4, 200)\n",
    "ax.plot(x_grid, f(x_grid), label=\"$f$\")\n",
    "ax.plot(x_grid, [f_prime(x) for x in x_grid], label=\"$f'$\")\n",
    "ax.legend(loc='upper center')\n",
    "plt.show()"
   ]
  },
  {
   "cell_type": "markdown",
   "id": "7cd6f660",
   "metadata": {},
   "source": [
    "## Writing vectorized code\n",
    "\n",
    "Consider the function\n",
    "\n",
    "$$\n",
    "    f(x,y) = \\frac{\\cos(x^2 + y^2)}{1 + x^2 + y^2}\n",
    "$$\n",
    "\n",
    "Suppose that we want to evaluate this function on a square grid of $x$ and $y$ points.\n",
    "\n",
    "\n",
    "### A slow version with loops\n",
    "\n",
    "Here's a slow `for` loop version, which we run in a setting where `len(x) = len(y)` is very small."
   ]
  },
  {
   "cell_type": "code",
   "execution_count": null,
   "id": "f0edadec",
   "metadata": {},
   "outputs": [],
   "source": [
    "@jax.jit\n",
    "def f(x, y):\n",
    "    return jnp.cos(x**2 + y**2) / (1 + x**2 + y**2)\n",
    "\n",
    "n = 80\n",
    "x = jnp.linspace(-2, 2, n)\n",
    "y = x\n",
    "\n",
    "z_loops = np.empty((n, n))"
   ]
  },
  {
   "cell_type": "code",
   "execution_count": null,
   "id": "d3f19dea",
   "metadata": {},
   "outputs": [],
   "source": [
    "%%time\n",
    "for i in range(n):\n",
    "    for j in range(n):\n",
    "        z_loops[i, j] = f(x[i], y[j])"
   ]
  },
  {
   "cell_type": "markdown",
   "id": "82e361f2",
   "metadata": {},
   "source": [
    "Even for this small grid, the run time is very slow.\n",
    "\n",
    "(Notice that we used a NumPy array for `z_loops` because we wanted to write to it.)"
   ]
  },
  {
   "cell_type": "markdown",
   "id": "3cbb9f11",
   "metadata": {},
   "source": [
    "OK, so how can we do the same operation in vectorized form?\n",
    "\n",
    "If you are new to vectorization, you might guess that we can simply write"
   ]
  },
  {
   "cell_type": "code",
   "execution_count": null,
   "id": "d013fc28",
   "metadata": {},
   "outputs": [],
   "source": [
    "z_bad = f(x, y)"
   ]
  },
  {
   "cell_type": "markdown",
   "id": "7ebc267f",
   "metadata": {},
   "source": [
    "But this gives us the wrong result because JAX doesn't understand the nested for loop."
   ]
  },
  {
   "cell_type": "code",
   "execution_count": null,
   "id": "f33d3c8d",
   "metadata": {},
   "outputs": [],
   "source": [
    "z_bad.shape"
   ]
  },
  {
   "cell_type": "code",
   "execution_count": null,
   "id": "7c249775",
   "metadata": {},
   "outputs": [],
   "source": [
    "z_loops.shape"
   ]
  },
  {
   "cell_type": "markdown",
   "id": "7b3faeeb",
   "metadata": {},
   "source": [
    "### Vectorization attempt 1"
   ]
  },
  {
   "cell_type": "markdown",
   "id": "27cea2a4",
   "metadata": {},
   "source": [
    "To get the right shape and the correct nested for loop calculation, we can use a `meshgrid` operation that originated in MATLAB and was replicated in NumPy and then JAX:"
   ]
  },
  {
   "cell_type": "code",
   "execution_count": null,
   "id": "9e3687ad",
   "metadata": {},
   "outputs": [],
   "source": [
    "x_mesh, y_mesh = jnp.meshgrid(x, y)"
   ]
  },
  {
   "cell_type": "markdown",
   "id": "b1b26b01",
   "metadata": {},
   "source": [
    "Now we get what we want and the execution time is fast."
   ]
  },
  {
   "cell_type": "code",
   "execution_count": null,
   "id": "c8e3d38c",
   "metadata": {},
   "outputs": [],
   "source": [
    "z_mesh = f(x_mesh, y_mesh) "
   ]
  },
  {
   "cell_type": "markdown",
   "id": "7855f67e",
   "metadata": {},
   "source": [
    "Let's confirm that we got the right answer."
   ]
  },
  {
   "cell_type": "code",
   "execution_count": null,
   "id": "afe3b4c5",
   "metadata": {},
   "outputs": [],
   "source": [
    "jnp.allclose(z_mesh, z_loops)"
   ]
  },
  {
   "cell_type": "markdown",
   "id": "03234bca",
   "metadata": {},
   "source": [
    "Now we can set up a serious grid and run the same calculation (on the larger grid) in a short amount of time."
   ]
  },
  {
   "cell_type": "code",
   "execution_count": null,
   "id": "63cefcd3",
   "metadata": {},
   "outputs": [],
   "source": [
    "n = 6000\n",
    "x = jnp.linspace(-2, 2, n)\n",
    "y = x\n",
    "x_mesh, y_mesh = jnp.meshgrid(x, y)"
   ]
  },
  {
   "cell_type": "code",
   "execution_count": null,
   "id": "443d876e",
   "metadata": {},
   "outputs": [],
   "source": [
    "%time z_mesh = f(x_mesh, y_mesh) "
   ]
  },
  {
   "cell_type": "code",
   "execution_count": null,
   "id": "82f20636",
   "metadata": {},
   "outputs": [],
   "source": [
    "%time z_mesh = f(x_mesh, y_mesh) "
   ]
  },
  {
   "cell_type": "markdown",
   "id": "d512b141",
   "metadata": {},
   "source": [
    "But there is one problem here: the mesh grids use a lot of memory."
   ]
  },
  {
   "cell_type": "code",
   "execution_count": null,
   "id": "b21e6b37",
   "metadata": {},
   "outputs": [],
   "source": [
    "(x_mesh.nbytes + y_mesh.nbytes) / 1_000_000  # MB of memory"
   ]
  },
  {
   "cell_type": "markdown",
   "id": "d6048ac3",
   "metadata": {},
   "source": [
    "By comparison, the flat array `x` is just"
   ]
  },
  {
   "cell_type": "code",
   "execution_count": null,
   "id": "5e69850f",
   "metadata": {},
   "outputs": [],
   "source": [
    "x.nbytes / 1_000_000   # and y is just a pointer to x"
   ]
  },
  {
   "cell_type": "markdown",
   "id": "630adf9f",
   "metadata": {},
   "source": [
    "This extra memory usage can be a big problem in actual research calculations."
   ]
  },
  {
   "cell_type": "code",
   "execution_count": null,
   "id": "f2d84345",
   "metadata": {},
   "outputs": [],
   "source": [
    "del x_mesh  # Free memory\n",
    "del y_mesh  # Free memory"
   ]
  },
  {
   "cell_type": "markdown",
   "id": "59a56a91",
   "metadata": {},
   "source": [
    "### Vectorization attempt 2"
   ]
  },
  {
   "cell_type": "markdown",
   "id": "db5ca424",
   "metadata": {},
   "source": [
    "We can achieve a similar effect through NumPy style broadcasting rules."
   ]
  },
  {
   "cell_type": "code",
   "execution_count": null,
   "id": "ece3a7ca",
   "metadata": {},
   "outputs": [],
   "source": [
    "x_reshaped = jnp.reshape(x, (n, 1))   # Give x another dimension (column)\n",
    "y_reshaped = jnp.reshape(y, (1, n))   # Give y another dimension (row)"
   ]
  },
  {
   "cell_type": "markdown",
   "id": "f8d1430b",
   "metadata": {},
   "source": [
    "When we evaluate $f$ on these reshaped arrays, we replicate the nested for loops in the original version."
   ]
  },
  {
   "cell_type": "code",
   "execution_count": null,
   "id": "1a2c981d",
   "metadata": {},
   "outputs": [],
   "source": [
    "%time z_reshaped = f(x_reshaped, y_reshaped)"
   ]
  },
  {
   "cell_type": "code",
   "execution_count": null,
   "id": "3cabb89d",
   "metadata": {},
   "outputs": [],
   "source": [
    "%time z_reshaped = f(x_reshaped, y_reshaped)"
   ]
  },
  {
   "cell_type": "markdown",
   "id": "a74e0d51",
   "metadata": {},
   "source": [
    "Let's check that we got the same result"
   ]
  },
  {
   "cell_type": "code",
   "execution_count": null,
   "id": "ee65cdc0",
   "metadata": {},
   "outputs": [],
   "source": [
    "jnp.allclose(z_reshaped, z_mesh)"
   ]
  },
  {
   "cell_type": "markdown",
   "id": "70512f9a",
   "metadata": {},
   "source": [
    "The memory usage for the inputs is much more moderate."
   ]
  },
  {
   "cell_type": "code",
   "execution_count": null,
   "id": "c80a9dfb",
   "metadata": {},
   "outputs": [],
   "source": [
    "(x_reshaped.nbytes + y_reshaped.nbytes) / 1_000_000"
   ]
  },
  {
   "cell_type": "markdown",
   "id": "855341da",
   "metadata": {},
   "source": [
    "### Vectorization attempt 3\n",
    "\n",
    "\n",
    "There's another approach to vectorization we can pursue, using [jax.vmap](https://jax.readthedocs.io/en/latest/_autosummary/jax.vmap.html)"
   ]
  },
  {
   "cell_type": "code",
   "execution_count": null,
   "id": "aceb3d6b",
   "metadata": {},
   "outputs": [],
   "source": [
    "f = jax.vmap(f, in_axes=(None, 0))   # vectorize in y\n",
    "f = jax.vmap(f, in_axes=(0, None))   # and then vectorize in x"
   ]
  },
  {
   "cell_type": "markdown",
   "id": "dcfb63a7",
   "metadata": {},
   "source": [
    "With this construction, we can now call the function $f$ on flat (low memory) arrays."
   ]
  },
  {
   "cell_type": "code",
   "execution_count": null,
   "id": "62eedc10",
   "metadata": {},
   "outputs": [],
   "source": [
    "%time z_vmap = f(x, y)"
   ]
  },
  {
   "cell_type": "code",
   "execution_count": null,
   "id": "c4c6f9f1",
   "metadata": {},
   "outputs": [],
   "source": [
    "%time z_vmap = f(x, y)"
   ]
  },
  {
   "cell_type": "markdown",
   "id": "57f5c5ed",
   "metadata": {},
   "source": [
    "Let's check we produce the correct answer:"
   ]
  },
  {
   "cell_type": "code",
   "execution_count": null,
   "id": "237c126f",
   "metadata": {},
   "outputs": [],
   "source": [
    "jnp.allclose(z_vmap, z_mesh)"
   ]
  },
  {
   "cell_type": "markdown",
   "id": "4bb86460",
   "metadata": {},
   "source": [
    "Let's finish by cleaning up."
   ]
  },
  {
   "cell_type": "code",
   "execution_count": null,
   "id": "f3bc70e7",
   "metadata": {},
   "outputs": [],
   "source": [
    "del z_mesh\n",
    "del z_vmap\n",
    "del z_reshaped"
   ]
  },
  {
   "cell_type": "markdown",
   "id": "a4cb38dc",
   "metadata": {},
   "source": [
    "### Exercises"
   ]
  },
  {
   "cell_type": "markdown",
   "id": "a30258de",
   "metadata": {},
   "source": [
    "Compute an approximation to $\\pi$ by simulation:\n",
    "\n",
    "1. draw $n$ observations of a bivariate uniform on the unit square\n",
    "2. count the fraction that fall in the unit circle (radius 0.5) centered on (0.5, 0.5)\n",
    "3. multiply the result by 4\n",
    "\n",
    "Use JAX"
   ]
  },
  {
   "cell_type": "code",
   "execution_count": null,
   "id": "1e51ae46",
   "metadata": {},
   "outputs": [],
   "source": [
    "for i in range(12):\n",
    "    print(\"Solution below 🐠\")"
   ]
  },
  {
   "cell_type": "code",
   "execution_count": null,
   "id": "eeb0e30a",
   "metadata": {},
   "outputs": [],
   "source": [
    "def approx_pi(n, key):\n",
    "    u = jax.random.uniform(key, (2, n))\n",
    "    distances = jnp.sqrt((u[0, :] - 0.5)**2 + (u[1, :] - 0.5)**2)\n",
    "    fraction_in_circle = jnp.mean(distances < 0.5)\n",
    "    return fraction_in_circle * 4  # dividing by radius**2\n",
    "\n",
    "n = 1_000_000 # sample size for Monte Carlo simulation\n",
    "key = jax.random.PRNGKey(1234)"
   ]
  },
  {
   "cell_type": "code",
   "execution_count": null,
   "id": "c7e1ad54",
   "metadata": {},
   "outputs": [],
   "source": [
    "%time approx_pi(n, key)"
   ]
  },
  {
   "cell_type": "code",
   "execution_count": null,
   "id": "40dddf97",
   "metadata": {},
   "outputs": [],
   "source": [
    "%time approx_pi(n, key)"
   ]
  },
  {
   "cell_type": "code",
   "execution_count": null,
   "id": "9e438e03",
   "metadata": {},
   "outputs": [],
   "source": [
    "approx_pi_jitted = jax.jit(approx_pi, static_argnums=(0,))"
   ]
  },
  {
   "cell_type": "code",
   "execution_count": null,
   "id": "2b18218a",
   "metadata": {},
   "outputs": [],
   "source": [
    "%time approx_pi_jitted(n, key)"
   ]
  },
  {
   "cell_type": "code",
   "execution_count": null,
   "id": "db1e4a1e",
   "metadata": {},
   "outputs": [],
   "source": [
    "%time approx_pi_jitted(n, key)"
   ]
  },
  {
   "cell_type": "markdown",
   "id": "1475cacd",
   "metadata": {},
   "source": [
    "**Exercise**\n",
    "\n",
    "In a previous notebook we used Monte Carlo to price a European call option and\n",
    "constructed a solution using Numba.\n",
    "\n",
    "The code looked like this:"
   ]
  },
  {
   "cell_type": "code",
   "execution_count": null,
   "id": "21aeef18",
   "metadata": {},
   "outputs": [],
   "source": [
    "import numba\n",
    "from numpy.random import randn\n",
    "M = 10_000_000\n",
    "\n",
    "n, β, K = 20, 0.99, 100\n",
    "μ, ρ, ν, S0, h0 = 0.0001, 0.1, 0.001, 10, 0\n",
    "\n",
    "@numba.jit(parallel=True)\n",
    "def compute_call_price_parallel(β=β,\n",
    "                                μ=μ,\n",
    "                                S0=S0,\n",
    "                                h0=h0,\n",
    "                                K=K,\n",
    "                                n=n,\n",
    "                                ρ=ρ,\n",
    "                                ν=ν,\n",
    "                                M=M):\n",
    "    current_sum = 0.0\n",
    "    # For each sample path\n",
    "    for m in numba.prange(M):\n",
    "        s = np.log(S0)\n",
    "        h = h0\n",
    "        # Simulate forward in time\n",
    "        for t in range(n):\n",
    "            s = s + μ + np.exp(h) * randn()\n",
    "            h = ρ * h + ν * randn()\n",
    "        # And add the value max{S_n - K, 0} to current_sum\n",
    "        current_sum += np.maximum(np.exp(s) - K, 0)\n",
    "        \n",
    "    return β**n * current_sum / M"
   ]
  },
  {
   "cell_type": "markdown",
   "id": "4f651f61",
   "metadata": {},
   "source": [
    "Let's run it once to compile it:"
   ]
  },
  {
   "cell_type": "code",
   "execution_count": null,
   "id": "ea3ca458",
   "metadata": {},
   "outputs": [],
   "source": [
    "compute_call_price_parallel()"
   ]
  },
  {
   "cell_type": "markdown",
   "id": "c426fb32",
   "metadata": {},
   "source": [
    "And now let's time it:"
   ]
  },
  {
   "cell_type": "code",
   "execution_count": null,
   "id": "28f10928",
   "metadata": {},
   "outputs": [],
   "source": [
    "%%time \n",
    "compute_call_price_parallel()"
   ]
  },
  {
   "cell_type": "markdown",
   "id": "ea407feb",
   "metadata": {},
   "source": [
    "Try writing a version of this operation for JAX, using all the same\n",
    "parameters.\n",
    "\n",
    "If you are running your code on a GPU, you should be able to achieve\n",
    "significantly faster execution."
   ]
  },
  {
   "cell_type": "code",
   "execution_count": null,
   "id": "bdfbcb53",
   "metadata": {},
   "outputs": [],
   "source": [
    "for i in range(12):\n",
    "    print(\"Solution below 🐠\")"
   ]
  },
  {
   "cell_type": "markdown",
   "id": "32aaddee",
   "metadata": {},
   "source": [
    "**Solution**\n",
    "\n",
    "Here is one solution:"
   ]
  },
  {
   "cell_type": "code",
   "execution_count": null,
   "id": "975c4f5f",
   "metadata": {},
   "outputs": [],
   "source": [
    "@jax.jit\n",
    "def compute_call_price_jax(β=β,\n",
    "                           μ=μ,\n",
    "                           S0=S0,\n",
    "                           h0=h0,\n",
    "                           K=K,\n",
    "                           n=n,\n",
    "                           ρ=ρ,\n",
    "                           ν=ν,\n",
    "                           M=M,\n",
    "                           key=jax.random.PRNGKey(1)):\n",
    "\n",
    "    s = jnp.full(M, np.log(S0))\n",
    "    h = jnp.full(M, h0)\n",
    "    for t in range(n):\n",
    "        key, subkey = jax.random.split(key)\n",
    "        Z = jax.random.normal(subkey, (2, M))\n",
    "        s = s + μ + jnp.exp(h) * Z[0, :]\n",
    "        h = ρ * h + ν * Z[1, :]\n",
    "    expectation = jnp.mean(jnp.maximum(jnp.exp(s) - K, 0))\n",
    "        \n",
    "    return β**n * expectation"
   ]
  },
  {
   "cell_type": "markdown",
   "id": "d9ac461e",
   "metadata": {},
   "source": [
    "Let's run it once to compile it:"
   ]
  },
  {
   "cell_type": "code",
   "execution_count": null,
   "id": "b376b21d",
   "metadata": {},
   "outputs": [],
   "source": [
    "compute_call_price_jax()"
   ]
  },
  {
   "cell_type": "markdown",
   "id": "33e4fcb4",
   "metadata": {},
   "source": [
    "And now let's time it:"
   ]
  },
  {
   "cell_type": "code",
   "execution_count": null,
   "id": "db7eae8f",
   "metadata": {},
   "outputs": [],
   "source": [
    "%%time \n",
    "compute_call_price_jax().block_until_ready()"
   ]
  },
  {
   "cell_type": "code",
   "execution_count": null,
   "id": "748bc1e2",
   "metadata": {},
   "outputs": [],
   "source": []
  }
 ],
 "metadata": {
  "kernelspec": {
   "display_name": "Python 3 (ipykernel)",
   "language": "python",
   "name": "python3"
  }
 },
 "nbformat": 4,
 "nbformat_minor": 5
}
