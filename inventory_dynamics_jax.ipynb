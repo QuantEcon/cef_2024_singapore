{
 "cells": [
  {
   "cell_type": "markdown",
   "id": "bfba618f",
   "metadata": {},
   "source": [
    "# Inventory Dynamics"
   ]
  },
  {
   "cell_type": "markdown",
   "id": "2123dd01",
   "metadata": {},
   "source": [
    "----\n",
    "\n",
    "#### John Stachurski\n",
    "#### Prepared for the CBC Computational Workshop (May 2024)\n",
    "\n",
    "----"
   ]
  },
  {
   "cell_type": "markdown",
   "id": "79355016",
   "metadata": {},
   "source": [
    "## Overview\n",
    "\n",
    "This lecture explores s-S inventory dynamics.\n",
    "\n",
    "We also studied this model in an earlier notebook using NumPy.\n",
    "\n",
    "Here we study the same problem using JAX.\n",
    "\n",
    "One issue we will consider is whether or not we can improve execution speed by using JAX's `fori_loop` function (as a replacement for looping in Python).\n",
    "\n",
    "We will use the following imports:"
   ]
  },
  {
   "cell_type": "code",
   "execution_count": 1,
   "id": "0d7c5ebb",
   "metadata": {
    "hide-output": false
   },
   "outputs": [],
   "source": [
    "import matplotlib.pyplot as plt\n",
    "import numpy as np\n",
    "import jax\n",
    "import jax.numpy as jnp\n",
    "from jax import random, lax\n",
    "from collections import namedtuple"
   ]
  },
  {
   "cell_type": "markdown",
   "id": "71d39b79",
   "metadata": {},
   "source": [
    "Here’s a description of our GPU:"
   ]
  },
  {
   "cell_type": "code",
   "execution_count": 2,
   "id": "fb5b024f",
   "metadata": {
    "hide-output": false
   },
   "outputs": [
    {
     "name": "stdout",
     "output_type": "stream",
     "text": [
      "Wed May 15 08:56:05 2024       \n",
      "+-----------------------------------------------------------------------------------------+\n",
      "| NVIDIA-SMI 550.54.15              Driver Version: 550.54.15      CUDA Version: 12.4     |\n",
      "|-----------------------------------------+------------------------+----------------------+\n",
      "| GPU  Name                 Persistence-M | Bus-Id          Disp.A | Volatile Uncorr. ECC |\n",
      "| Fan  Temp   Perf          Pwr:Usage/Cap |           Memory-Usage | GPU-Util  Compute M. |\n",
      "|                                         |                        |               MIG M. |\n",
      "|=========================================+========================+======================|\n",
      "|   0  NVIDIA GeForce RTX 3080        Off |   00000000:3E:00.0 Off |                  N/A |\n",
      "| 30%   29C    P8             25W /  320W |       6MiB /  10240MiB |      0%      Default |\n",
      "|                                         |                        |                  N/A |\n",
      "+-----------------------------------------+------------------------+----------------------+\n",
      "                                                                                         \n",
      "+-----------------------------------------------------------------------------------------+\n",
      "| Processes:                                                                              |\n",
      "|  GPU   GI   CI        PID   Type   Process name                              GPU Memory |\n",
      "|        ID   ID                                                               Usage      |\n",
      "|=========================================================================================|\n",
      "|    0   N/A  N/A      1252      G   /usr/lib/xorg/Xorg                              3MiB |\n",
      "+-----------------------------------------------------------------------------------------+\n"
     ]
    },
    {
     "name": "stderr",
     "output_type": "stream",
     "text": [
      "/home/john/anaconda3/lib/python3.11/pty.py:89: RuntimeWarning: os.fork() was called. os.fork() is incompatible with multithreaded code, and JAX is multithreaded, so this will likely lead to a deadlock.\n",
      "  pid, fd = os.forkpty()\n"
     ]
    }
   ],
   "source": [
    "!nvidia-smi"
   ]
  },
  {
   "cell_type": "markdown",
   "id": "495159de",
   "metadata": {},
   "source": [
    "## Model\n",
    "\n",
    "We briefly recall the dynamics.\n",
    "\n",
    "Let $a \\vee b = \\max\\{a, b\\}$\n",
    "\n",
    "Consider a firm with inventory $ X_t $.\n",
    "\n",
    "The firm waits until $ X_t \\leq s $ and then restocks up to $ S $ units.\n",
    "\n",
    "It faces stochastic demand $ \\{ D_t \\} $, which we assume is IID across time and\n",
    "firms.\n",
    "\n",
    "$$\n",
    "X_{t+1} =\n",
    "    \\begin{cases}\n",
    "      (S - D_{t+1}) \\vee  0 & \\quad \\text{if } X_t \\leq s \\\\\n",
    "      (X_t - D_{t+1}) \\vee 0 &  \\quad \\text{if } X_t > s\n",
    "    \\end{cases}\n",
    "$$\n",
    "\n",
    "In what follows, we will assume that each $ D_t $ is lognormal, so that\n",
    "\n",
    "$$\n",
    "D_t = \\exp(\\mu + \\sigma Z_t)\n",
    "$$\n",
    "\n",
    "where $ \\mu $ and $ \\sigma $ are parameters and $ \\{Z_t\\} $ is IID\n",
    "and standard normal.\n",
    "\n",
    "Here’s a `namedtuple` that stores parameters."
   ]
  },
  {
   "cell_type": "code",
   "execution_count": 3,
   "id": "d188748c",
   "metadata": {
    "hide-output": false
   },
   "outputs": [],
   "source": [
    "Parameters = namedtuple('Parameters', ('s', 'S', 'μ', 'σ'))\n",
    "\n",
    "# Create a default instance\n",
    "params = Parameters(s=10, S=100, μ=1.0, σ=0.5)"
   ]
  },
  {
   "cell_type": "markdown",
   "id": "18a79abc",
   "metadata": {},
   "source": [
    "## Cross-sectional distributions\n",
    "\n",
    "Let's simulate the inventories of a cross-section of firms.\n",
    "\n",
    "We will use the following code to update the cross-section by one period."
   ]
  },
  {
   "cell_type": "code",
   "execution_count": 4,
   "id": "b0abb05e",
   "metadata": {
    "hide-output": false
   },
   "outputs": [],
   "source": [
    "@jax.jit\n",
    "def update_cross_section(params, X_vec, D):\n",
    "    \"\"\"\n",
    "    Update by one period a cross-section of firms with inventory levels \n",
    "    X_vec, given the vector of demand shocks in D.\n",
    "\n",
    "       * X_vec[i] is the inventory of firm i\n",
    "       * D[i] is the demand shock for firm i \n",
    "\n",
    "    \"\"\"\n",
    "    # Unpack\n",
    "    s, S = params.s, params.S\n",
    "    # Restock if the inventory is below the threshold\n",
    "    X_new = jnp.where(X_vec <= s, \n",
    "                      jnp.maximum(S - D, 0), jnp.maximum(X_vec - D, 0))\n",
    "    return X_new"
   ]
  },
  {
   "cell_type": "markdown",
   "id": "93712db7",
   "metadata": {},
   "source": [
    "### For loop version\n",
    "\n",
    "Now we provide code to compute the cross-sectional distribution $ \\psi_T $ given some\n",
    "initial distribution $ \\psi_0 $ and a positive integer $ T $.\n",
    "\n",
    "In this code we use an ordinary Python `for` loop to step forward through time\n",
    "\n",
    "While Python loops are slow, this approach is reasonable here because\n",
    "efficiency of outer loops has far less influence on runtime than efficiency of inner loops.\n",
    "\n",
    "(Below we will squeeze out more speed by compiling the outer loop as well as the\n",
    "update rule.)\n",
    "\n",
    "In the code below, the initial distribution $ \\psi_0 $ takes all firms to have\n",
    "initial inventory `x_init`."
   ]
  },
  {
   "cell_type": "code",
   "execution_count": 5,
   "id": "4c2ca583",
   "metadata": {
    "hide-output": false
   },
   "outputs": [],
   "source": [
    "def compute_cross_section(params, x_init, T, key, num_firms=50_000):\n",
    "    # Unpack\n",
    "    μ, σ = params.μ, params.σ\n",
    "    # Set up initial distribution\n",
    "    X = jnp.full((num_firms, ), x_init)\n",
    "    # Loop\n",
    "    for i in range(T):\n",
    "        Z = random.normal(key, shape=(num_firms, ))\n",
    "        D = jnp.exp(params.μ + params.σ * Z)\n",
    "        X = update_cross_section(params, X, D)\n",
    "        key = random.fold_in(key, i)\n",
    "\n",
    "    return X"
   ]
  },
  {
   "cell_type": "markdown",
   "id": "cfcf688d",
   "metadata": {},
   "source": [
    "We’ll use the following specification"
   ]
  },
  {
   "cell_type": "code",
   "execution_count": 6,
   "id": "d5d687fe",
   "metadata": {
    "hide-output": false
   },
   "outputs": [],
   "source": [
    "x_init = 50\n",
    "T = 500\n",
    "# Initialize random number generator\n",
    "key = random.PRNGKey(10)"
   ]
  },
  {
   "cell_type": "markdown",
   "id": "07269fac",
   "metadata": {},
   "source": [
    "Let’s look at the timing."
   ]
  },
  {
   "cell_type": "code",
   "execution_count": 7,
   "id": "d977d812",
   "metadata": {
    "hide-output": false
   },
   "outputs": [
    {
     "name": "stdout",
     "output_type": "stream",
     "text": [
      "CPU times: user 543 ms, sys: 74.9 ms, total: 618 ms\n",
      "Wall time: 473 ms\n"
     ]
    }
   ],
   "source": [
    "%time X_vec = compute_cross_section(params, x_init, T, key).block_until_ready()"
   ]
  },
  {
   "cell_type": "code",
   "execution_count": 8,
   "id": "c6d780e4",
   "metadata": {
    "hide-output": false
   },
   "outputs": [
    {
     "name": "stdout",
     "output_type": "stream",
     "text": [
      "CPU times: user 365 ms, sys: 48.5 ms, total: 414 ms\n",
      "Wall time: 264 ms\n"
     ]
    }
   ],
   "source": [
    "%time X_vec = compute_cross_section(params, x_init, T, key).block_until_ready()"
   ]
  },
  {
   "cell_type": "markdown",
   "id": "aa2bcab1",
   "metadata": {},
   "source": [
    "Here’s a histogram of inventory levels at time $ T $."
   ]
  },
  {
   "cell_type": "code",
   "execution_count": 9,
   "id": "d94bda47",
   "metadata": {
    "hide-output": false
   },
   "outputs": [
    {
     "data": {
      "image/png": "[encoded data removed]",
      "text/plain": [
       "<Figure size 640x480 with 1 Axes>"
      ]
     },
     "metadata": {},
     "output_type": "display_data"
    }
   ],
   "source": [
    "fig, ax = plt.subplots()\n",
    "ax.hist(X_vec, bins=50, \n",
    "        density=True, \n",
    "        histtype='step', \n",
    "        label=f'cross-section when $T = {T}$')\n",
    "ax.set_xlabel('inventory')\n",
    "ax.set_ylabel('probability')\n",
    "ax.legend()\n",
    "plt.show()"
   ]
  },
  {
   "cell_type": "markdown",
   "id": "8d4edc21",
   "metadata": {},
   "source": [
    "### Compiling the outer loop\n",
    "\n",
    "Now let’s see if we can gain some speed by compiling the outer loop, which steps\n",
    "through the time dimension.\n",
    "\n",
    "We will do this using `jax.jit` and a `fori_loop`, which is a compiler-ready version of a `for` loop provided by JAX."
   ]
  },
  {
   "cell_type": "code",
   "execution_count": 10,
   "id": "c46696cb",
   "metadata": {
    "hide-output": false
   },
   "outputs": [],
   "source": [
    "def compute_cross_section_fori(params, x_init, T, key, num_firms=50_000):\n",
    "\n",
    "    s, S, μ, σ = params.s, params.S, params.μ, params.σ\n",
    "\n",
    "    # Define the function for each update\n",
    "    def fori_update(t, state):\n",
    "        # Unpack\n",
    "        X, key = state\n",
    "        # Draw shocks using key\n",
    "        Z = random.normal(key, shape=(num_firms,))\n",
    "        D = jnp.exp(μ + σ * Z)\n",
    "        # Update X\n",
    "        X = jnp.where(X <= s,\n",
    "                  jnp.maximum(S - D, 0),\n",
    "                  jnp.maximum(X - D, 0))\n",
    "        # Refresh the key\n",
    "        key = random.fold_in(key, t)\n",
    "        new_state = X, key\n",
    "        return new_state\n",
    "\n",
    "    # Loop t from 0 to T, applying fori_update each time.\n",
    "    X = jnp.full((num_firms, ), x_init)\n",
    "    initial_state = X, key\n",
    "    X, key = lax.fori_loop(0, T, fori_update, initial_state)\n",
    "\n",
    "    return X\n",
    "\n",
    "# Compile taking T and num_firms as static (changes trigger recompile)\n",
    "compute_cross_section_fori = jax.jit(\n",
    "    compute_cross_section_fori, static_argnums=(2, 4))"
   ]
  },
  {
   "cell_type": "markdown",
   "id": "c9add3df",
   "metadata": {},
   "source": [
    "Let’s see how fast this runs with compile time."
   ]
  },
  {
   "cell_type": "code",
   "execution_count": 11,
   "id": "b32d56cd",
   "metadata": {
    "hide-output": false
   },
   "outputs": [
    {
     "name": "stdout",
     "output_type": "stream",
     "text": [
      "CPU times: user 190 ms, sys: 10.6 ms, total: 201 ms\n",
      "Wall time: 125 ms\n"
     ]
    }
   ],
   "source": [
    "%time X_vec = compute_cross_section_fori(params, x_init, T, key).block_until_ready()"
   ]
  },
  {
   "cell_type": "markdown",
   "id": "c1f75663",
   "metadata": {},
   "source": [
    "And let’s see how fast it runs without compile time."
   ]
  },
  {
   "cell_type": "code",
   "execution_count": 12,
   "id": "aa9e5992",
   "metadata": {
    "hide-output": false
   },
   "outputs": [
    {
     "name": "stdout",
     "output_type": "stream",
     "text": [
      "CPU times: user 8.99 ms, sys: 0 ns, total: 8.99 ms\n",
      "Wall time: 10.7 ms\n"
     ]
    }
   ],
   "source": [
    "%time X_vec = compute_cross_section_fori(params, x_init, T, key).block_until_ready()"
   ]
  },
  {
   "cell_type": "markdown",
   "id": "e22bb6e3",
   "metadata": {},
   "source": [
    "Compared to the original version with a pure Python outer loop, we have\n",
    "produced a nontrivial speed gain.\n",
    "\n",
    "This is due to the fact that we have compiled the whole operation.\n",
    "\n",
    "Let's check that we get a similar cross-section."
   ]
  },
  {
   "cell_type": "code",
   "execution_count": 13,
   "id": "6ef9154d",
   "metadata": {
    "hide-output": false
   },
   "outputs": [
    {
     "data": {
      "image/png": "[encoded data removed]",
      "text/plain": [
       "<Figure size 640x480 with 1 Axes>"
      ]
     },
     "metadata": {},
     "output_type": "display_data"
    }
   ],
   "source": [
    "fig, ax = plt.subplots()\n",
    "ax.hist(X_vec, bins=50, \n",
    "        density=True, \n",
    "        histtype='step', \n",
    "        label=f'cross-section when $T = {T}$')\n",
    "ax.set_xlabel('inventory')\n",
    "ax.set_ylabel('probability')\n",
    "ax.legend()\n",
    "plt.show()"
   ]
  },
  {
   "cell_type": "markdown",
   "id": "bbb06ca2",
   "metadata": {},
   "source": [
    "### Further vectorization\n",
    "\n",
    "For relatively small problems, we can make this code run even faster by generating\n",
    "all random variables at once.\n",
    "\n",
    "This improves efficiency because we are taking more operations out of the loop."
   ]
  },
  {
   "cell_type": "code",
   "execution_count": 14,
   "id": "b88f6519",
   "metadata": {
    "hide-output": false
   },
   "outputs": [],
   "source": [
    "def compute_cross_section_fori(params, x_init, T, key, num_firms=50_000):\n",
    "\n",
    "    s, S, μ, σ = params.s, params.S, params.μ, params.σ\n",
    "    X = jnp.full((num_firms, ), x_init)\n",
    "    Z = random.normal(key, shape=(T, num_firms))\n",
    "    D = jnp.exp(μ + σ * Z)\n",
    "\n",
    "    def update_cross_section(i, X):\n",
    "        X = jnp.where(X <= s,\n",
    "                  jnp.maximum(S - D[i, :], 0),\n",
    "                  jnp.maximum(X - D[i, :], 0))\n",
    "        return X\n",
    "\n",
    "    X = lax.fori_loop(0, T, update_cross_section, X)\n",
    "\n",
    "    return X\n",
    "\n",
    "# Compile taking T and num_firms as static (changes trigger recompile)\n",
    "compute_cross_section_fori = jax.jit(\n",
    "    compute_cross_section_fori, static_argnums=(2, 4))"
   ]
  },
  {
   "cell_type": "markdown",
   "id": "7d46b5fa",
   "metadata": {},
   "source": [
    "Let’s test it with compile time included."
   ]
  },
  {
   "cell_type": "code",
   "execution_count": 15,
   "id": "48d125b1",
   "metadata": {
    "hide-output": false
   },
   "outputs": [
    {
     "name": "stdout",
     "output_type": "stream",
     "text": [
      "CPU times: user 104 ms, sys: 0 ns, total: 104 ms\n",
      "Wall time: 108 ms\n"
     ]
    }
   ],
   "source": [
    "%time X_vec = compute_cross_section_fori(params, x_init, T, key).block_until_ready()"
   ]
  },
  {
   "cell_type": "markdown",
   "id": "76c4f134",
   "metadata": {},
   "source": [
    "Let’s run again to eliminate compile time."
   ]
  },
  {
   "cell_type": "code",
   "execution_count": 16,
   "id": "9b70f74a",
   "metadata": {
    "hide-output": false
   },
   "outputs": [
    {
     "name": "stdout",
     "output_type": "stream",
     "text": [
      "CPU times: user 2.3 ms, sys: 0 ns, total: 2.3 ms\n",
      "Wall time: 4.95 ms\n"
     ]
    }
   ],
   "source": [
    "%time X_vec = compute_cross_section_fori(params, x_init, T, key).block_until_ready()"
   ]
  },
  {
   "cell_type": "markdown",
   "id": "c4dc3736",
   "metadata": {},
   "source": [
    "On one hand, this version is faster than the previous one, where random variables were\n",
    "generated inside the loop.\n",
    "\n",
    "On the other hand, this implementation consumes far more memory, as we need to\n",
    "store large arrays of random draws.\n",
    "\n",
    "The high memory consumption becomes problematic for large problems."
   ]
  },
  {
   "cell_type": "markdown",
   "id": "b37622a7",
   "metadata": {},
   "source": [
    "## Restock frequency\n",
    "\n",
    "As an exercise, let’s study the probability that firms need to restock over a given time period.\n",
    "\n",
    "In the exercise, we will\n",
    "\n",
    "- set the starting stock level to $ X_0 = 70 $ and  \n",
    "- calculate the proportion of firms that need to order twice or more in the first 50 periods.  \n",
    "\n",
    "\n",
    "This proportion approximates the probability of the event when the sample size\n",
    "is large."
   ]
  },
  {
   "cell_type": "markdown",
   "id": "93f84e6a",
   "metadata": {},
   "source": [
    "### For loop version\n",
    "\n",
    "We start with an easier `for` loop implementation"
   ]
  },
  {
   "cell_type": "code",
   "execution_count": 17,
   "id": "388898aa",
   "metadata": {
    "hide-output": false
   },
   "outputs": [],
   "source": [
    "# Define a jitted function for each update\n",
    "@jax.jit\n",
    "def update_stock(params, counter, X, D):\n",
    "    s, S = params.s, params.S\n",
    "    X = jnp.where(X <= s,\n",
    "                  jnp.maximum(S - D, 0),\n",
    "                  jnp.maximum(X - D, 0))\n",
    "    counter = jnp.where(X <= s, counter + 1, counter)\n",
    "    return counter, X\n",
    "\n",
    "def compute_freq(params, key,\n",
    "                 x_init=70,\n",
    "                 sim_length=50,\n",
    "                 num_firms=1_000_000):\n",
    "\n",
    "    # Prepare initial arrays\n",
    "    X = jnp.full((num_firms, ), x_init)\n",
    "    counter = jnp.zeros((num_firms, ))\n",
    "\n",
    "    # Use a for loop to perform the calculations on all states\n",
    "    for i in range(sim_length):\n",
    "        Z = random.normal(key, (num_firms, ))\n",
    "        D = jnp.exp(params.μ + params.σ * Z)\n",
    "        counter, X = update_stock(params, counter, X, D)\n",
    "        key = random.fold_in(key, i)\n",
    "\n",
    "    return jnp.mean(counter > 1, axis=0)"
   ]
  },
  {
   "cell_type": "code",
   "execution_count": 18,
   "id": "1bd2cb69",
   "metadata": {
    "hide-output": false
   },
   "outputs": [],
   "source": [
    "key = random.PRNGKey(42)"
   ]
  },
  {
   "cell_type": "code",
   "execution_count": 19,
   "id": "0e044467",
   "metadata": {
    "hide-output": false
   },
   "outputs": [
    {
     "name": "stdout",
     "output_type": "stream",
     "text": [
      "CPU times: user 301 ms, sys: 2.74 ms, total: 303 ms\n",
      "Wall time: 315 ms\n",
      "Frequency of at least two stock outs = 0.5549740195274353\n"
     ]
    }
   ],
   "source": [
    "%time freq = compute_freq(params, key).block_until_ready()\n",
    "print(f\"Frequency of at least two stock outs = {freq}\")"
   ]
  },
  {
   "cell_type": "code",
   "execution_count": 20,
   "id": "2a0d9225",
   "metadata": {
    "hide-output": false
   },
   "outputs": [
    {
     "name": "stdout",
     "output_type": "stream",
     "text": [
      "CPU times: user 33.3 ms, sys: 9.56 ms, total: 42.9 ms\n",
      "Wall time: 30 ms\n",
      "Frequency of at least two stock outs = 0.5549740195274353\n"
     ]
    }
   ],
   "source": [
    "%time freq = compute_freq(params, key).block_until_ready()\n",
    "print(f\"Frequency of at least two stock outs = {freq}\")"
   ]
  },
  {
   "cell_type": "markdown",
   "id": "b4300ed1",
   "metadata": {},
   "source": [
    "### Exercise 4.1\n",
    "\n",
    "Write a `fori_loop` version of the last function.  See if you can increase the\n",
    "speed while generating a similar answer."
   ]
  },
  {
   "cell_type": "markdown",
   "id": "dfae9440",
   "metadata": {},
   "source": [
    "### Solution to[ Exercise 4.1](https://jax.quantecon.org/#inventory_dynamics_ex1)\n",
    "\n",
    "Here is a `fori_loop` version that JIT compiles the whole function"
   ]
  },
  {
   "cell_type": "code",
   "execution_count": 21,
   "id": "88189a24",
   "metadata": {
    "hide-output": false
   },
   "outputs": [],
   "source": [
    "def compute_freq_fori_loop(params, \n",
    "                 key,\n",
    "                 x_init=70,\n",
    "                 sim_length=50,\n",
    "                 num_firms=1_000_000):\n",
    "\n",
    "    s, S, μ, σ = params\n",
    "    Z = random.normal(key, shape=(sim_length, num_firms))\n",
    "    D = jnp.exp(μ + σ * Z)\n",
    "\n",
    "    # Define the function for each update\n",
    "    def update(t, state):\n",
    "        # Separate the inventory and restock counter\n",
    "        X, counter = state\n",
    "        X = jnp.where(X <= s,\n",
    "                      jnp.maximum(S - D[t, :], 0),\n",
    "                      jnp.maximum(X - D[t, :], 0))\n",
    "        counter = jnp.where(X <= s, counter + 1, counter)\n",
    "        return X, counter\n",
    "\n",
    "    X = jnp.full((num_firms, ), x_init)\n",
    "    counter = jnp.zeros(num_firms)\n",
    "    initial_state = X, counter\n",
    "    X, counter = lax.fori_loop(0, sim_length, update, initial_state)\n",
    "\n",
    "    return jnp.mean(counter > 1)\n",
    "\n",
    "compute_freq_fori_loop = jax.jit(compute_freq_fori_loop, static_argnums=((3, 4)))"
   ]
  },
  {
   "cell_type": "markdown",
   "id": "27553c9c",
   "metadata": {},
   "source": [
    "Note the time the routine takes to run, as well as the output"
   ]
  },
  {
   "cell_type": "code",
   "execution_count": 22,
   "id": "c0c4e905",
   "metadata": {
    "hide-output": false
   },
   "outputs": [
    {
     "name": "stdout",
     "output_type": "stream",
     "text": [
      "CPU times: user 185 ms, sys: 11.2 ms, total: 196 ms\n",
      "Wall time: 159 ms\n"
     ]
    }
   ],
   "source": [
    "%time freq = compute_freq_fori_loop(params, key).block_until_ready()"
   ]
  },
  {
   "cell_type": "code",
   "execution_count": 23,
   "id": "ebfdb1d3",
   "metadata": {
    "hide-output": false
   },
   "outputs": [
    {
     "name": "stdout",
     "output_type": "stream",
     "text": [
      "CPU times: user 1.02 ms, sys: 294 µs, total: 1.31 ms\n",
      "Wall time: 4.26 ms\n"
     ]
    }
   ],
   "source": [
    "%time freq = compute_freq_fori_loop(params, key).block_until_ready()"
   ]
  },
  {
   "cell_type": "code",
   "execution_count": 24,
   "id": "b001f451",
   "metadata": {
    "hide-output": false
   },
   "outputs": [
    {
     "name": "stdout",
     "output_type": "stream",
     "text": [
      "Frequency of at least two stock outs = 0.5542809963226318\n"
     ]
    }
   ],
   "source": [
    "print(f\"Frequency of at least two stock outs = {freq}\")"
   ]
  },
  {
   "cell_type": "code",
   "execution_count": null,
   "id": "5ce3245d",
   "metadata": {},
   "outputs": [],
   "source": []
  }
 ],
 "metadata": {
  "kernelspec": {
   "display_name": "Python 3 (ipykernel)",
   "language": "python",
   "name": "python3"
  },
  "language_info": {
   "codemirror_mode": {
    "name": "ipython",
    "version": 3
   },
   "file_extension": ".py",
   "mimetype": "text/x-python",
   "name": "python",
   "nbconvert_exporter": "python",
   "pygments_lexer": "ipython3",
   "version": "3.11.7"
  }
 },
 "nbformat": 4,
 "nbformat_minor": 5
}
