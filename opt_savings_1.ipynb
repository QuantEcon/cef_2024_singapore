{
 "cells": [
  {
   "cell_type": "markdown",
   "id": "dd309dad",
   "metadata": {},
   "source": [
    "# Optimal Savings I: Value Function Iteration\n",
    "\n",
    "-----\n",
    "\n",
    "#### John Stachurski\n",
    "\n",
    "#### Prepared for the CEF Workshop (June 2024)\n",
    "\n",
    "-----\n",
    "\n",
    "Uncomment if necessary:"
   ]
  },
  {
   "cell_type": "code",
   "execution_count": 1,
   "id": "042ebc94",
   "metadata": {},
   "outputs": [],
   "source": [
    "#!pip install quantecon"
   ]
  },
  {
   "cell_type": "markdown",
   "id": "843084b2",
   "metadata": {},
   "source": [
    "We will use the following imports:"
   ]
  },
  {
   "cell_type": "code",
   "execution_count": 8,
   "id": "64a44b4f",
   "metadata": {},
   "outputs": [],
   "source": [
    "import quantecon as qe\n",
    "import numpy as np\n",
    "import jax\n",
    "import jax.numpy as jnp\n",
    "from collections import namedtuple\n",
    "import matplotlib.pyplot as plt\n",
    "import time"
   ]
  },
  {
   "cell_type": "markdown",
   "id": "0c03cd41",
   "metadata": {},
   "source": [
    "Let's check available GPUs"
   ]
  },
  {
   "cell_type": "code",
   "execution_count": 9,
   "id": "3ddae6d7",
   "metadata": {},
   "outputs": [
    {
     "name": "stdout",
     "output_type": "stream",
     "text": [
      "Wed Jun 19 04:18:15 2024       \n",
      "+---------------------------------------------------------------------------------------+\n",
      "| NVIDIA-SMI 535.171.04             Driver Version: 535.171.04   CUDA Version: 12.2     |\n",
      "|-----------------------------------------+----------------------+----------------------+\n",
      "| GPU  Name                 Persistence-M | Bus-Id        Disp.A | Volatile Uncorr. ECC |\n",
      "| Fan  Temp   Perf          Pwr:Usage/Cap |         Memory-Usage | GPU-Util  Compute M. |\n",
      "|                                         |                      |               MIG M. |\n",
      "|=========================================+======================+======================|\n",
      "|   0  NVIDIA RTX A2000 8GB Lap...    Off | 00000000:01:00.0 Off |                  N/A |\n",
      "| N/A   44C    P0              N/A /  35W |      7MiB /  8192MiB |      0%      Default |\n",
      "|                                         |                      |                  N/A |\n",
      "+-----------------------------------------+----------------------+----------------------+\n",
      "                                                                                         \n",
      "+---------------------------------------------------------------------------------------+\n",
      "| Processes:                                                                            |\n",
      "|  GPU   GI   CI        PID   Type   Process name                            GPU Memory |\n",
      "|        ID   ID                                                             Usage      |\n",
      "|=======================================================================================|\n",
      "|    0   N/A  N/A      3259      G   /usr/lib/xorg/Xorg                            4MiB |\n",
      "+---------------------------------------------------------------------------------------+\n"
     ]
    }
   ],
   "source": [
    "!nvidia-smi"
   ]
  },
  {
   "cell_type": "markdown",
   "id": "a63df0a5",
   "metadata": {},
   "source": [
    "## Overview\n",
    "\n",
    "We consider an optimal savings problem with Bellman equation\n",
    "\n",
    "$$   \n",
    "    v(w) = \\max_{0 \\leq w' \\leq Rw + y}\n",
    "    \\left\\{\n",
    "        u(Rw + y - w') + β \\sum_{y'} v(w', y') Q(y, y') \n",
    "    \\right\\}\n",
    "$$\n",
    "\n",
    "where\n",
    "\n",
    "$$\n",
    "    u(c) = \\frac{c^{1-\\gamma}}{1-\\gamma} \n",
    "$$\n",
    "\n",
    "In the code we use the function\n",
    "\n",
    "$$   \n",
    "    B((w, y), w', v) = u(Rw + y - w') + β \\sum_{y'} v(w', y') Q(y, y'). \n",
    "$$\n",
    "\n",
    "to represent the (unmaximized) right hand side of the Bellman equation.\n",
    "\n",
    "\n",
    "\n",
    "## Starting with NumPy\n",
    "\n",
    "Let's start with a standard NumPy version running on the CPU.\n",
    "\n",
    "Starting with this traditional approach will allow us to record the speed gain\n",
    "associated with switching to JAX.\n",
    "\n",
    "(NumPy operations are similar to MATLAB operations, so this also serves as a\n",
    "rough comparison with MATLAB.)\n",
    "\n",
    "\n",
    "\n",
    "### Functions and operators\n",
    "\n",
    "We start with a namedtuple to store parameters and arrays"
   ]
  },
  {
   "cell_type": "code",
   "execution_count": 10,
   "id": "5ee4b8b3",
   "metadata": {},
   "outputs": [],
   "source": [
    "Model = namedtuple('Model', ('β', 'R', 'γ', 'w_grid', 'y_grid', 'Q'))"
   ]
  },
  {
   "cell_type": "markdown",
   "id": "16c43b7e",
   "metadata": {},
   "source": [
    "The following function contains default parameters and returns a namedtuple\n",
    "that contain the key computational components of the model."
   ]
  },
  {
   "cell_type": "code",
   "execution_count": 11,
   "id": "32790366",
   "metadata": {},
   "outputs": [],
   "source": [
    "def create_consumption_model(R=1.01,                    # Gross interest rate\n",
    "                             β=0.95,                    # Discount factor\n",
    "                             γ=2.0,                     # CRRA parameter\n",
    "                             w_min=0.01,                # Min wealth\n",
    "                             w_max=15.0,                # Max wealth\n",
    "                             w_size=200,                # Grid size\n",
    "                             ρ=0.9, ν=0.1, y_size=100): # Income parameters\n",
    "    \"\"\"\n",
    "    A function that takes in parameters and returns parameters and grids \n",
    "    for the optimal savings problem.\n",
    "    \"\"\"\n",
    "    # Build grids and transition probabilities\n",
    "    w_grid = np.linspace(w_min, w_max, w_size)\n",
    "    mc = qe.tauchen(n=y_size, rho=ρ, sigma=ν)\n",
    "    y_grid, Q = np.exp(mc.state_values), mc.P\n",
    "    # Pack and return\n",
    "    return Model(β, R, γ, w_grid, y_grid, Q)"
   ]
  },
  {
   "cell_type": "markdown",
   "id": "737fe27e",
   "metadata": {},
   "source": [
    "To produce efficient NumPy code, we will use a vectorized approach. \n",
    "\n",
    "The first step is to create the right hand side of the Bellman equation as a\n",
    "multi-dimensional array with dimensions over all states and controls."
   ]
  },
  {
   "cell_type": "code",
   "execution_count": 12,
   "id": "cfc615e8",
   "metadata": {},
   "outputs": [],
   "source": [
    "def B(v, model):\n",
    "    \"\"\"\n",
    "    A vectorized version of the right-hand side of the Bellman equation\n",
    "    (before maximization), which is a 3D array representing\n",
    "\n",
    "        B(w, y, w′) = u(Rw + y - w′) + β Σ_y′ v(w′, y′) Q(y, y′)\n",
    "\n",
    "    for all (w, y, w′).\n",
    "    \"\"\"\n",
    "\n",
    "    # Unpack\n",
    "    β, R, γ, w_grid, y_grid, Q = model\n",
    "    w_size, y_size = len(w_grid), len(y_grid)\n",
    "\n",
    "    # Compute current consumption c(w, y, wp) as array c[i, j, ip]\n",
    "    w  = np.reshape(w_grid, (w_size, 1, 1))    # w[i]   ->  w[i, j, ip]\n",
    "    y  = np.reshape(y_grid, (1, y_size, 1))    # z[j]   ->  z[i, j, ip]\n",
    "    wp = np.reshape(w_grid, (1, 1, w_size))    # wp[ip] -> wp[i, j, ip]\n",
    "    c = R * w + y - wp\n",
    "\n",
    "    # Calculate continuation rewards at all combinations of (w, y, wp)\n",
    "    v = np.reshape(v, (1, 1, w_size, y_size))  # v[ip, jp] -> v[i, j, ip, jp]\n",
    "    Q = np.reshape(Q, (1, y_size, 1, y_size))  # Q[j, jp]  -> Q[i, j, ip, jp]\n",
    "    EV = np.sum(v * Q, axis=3)                 # sum over last index jp\n",
    "\n",
    "    # Compute the right-hand side of the Bellman equation\n",
    "    return np.where(c > 0, c**(1-γ)/(1-γ) + β * EV, -np.inf)"
   ]
  },
  {
   "cell_type": "markdown",
   "id": "970b21ef",
   "metadata": {},
   "source": [
    "Here are two functions we need for value function iteration.\n",
    "\n",
    "The first is the Bellman operator.\n",
    "\n",
    "The second computes a $v$-greedy policy given $v$ (i.e., the policy that\n",
    "maximizes the right-hand side of the Bellman equation.)"
   ]
  },
  {
   "cell_type": "code",
   "execution_count": 13,
   "id": "ce482cc3",
   "metadata": {},
   "outputs": [],
   "source": [
    "def T(v, model):\n",
    "    \"The Bellman operator.\"\n",
    "    return np.max(B(v, model), axis=2)\n",
    "\n",
    "def get_greedy(v, model):\n",
    "    \"Computes a v-greedy policy, returned as a set of indices.\"\n",
    "    return np.argmax(B(v, model), axis=2)"
   ]
  },
  {
   "cell_type": "markdown",
   "id": "5fb86d6f",
   "metadata": {},
   "source": [
    "### Value function iteration\n",
    "\n",
    "Here's a routine that performs value function iteration."
   ]
  },
  {
   "cell_type": "code",
   "execution_count": 14,
   "id": "f16fafa9",
   "metadata": {},
   "outputs": [],
   "source": [
    "def value_function_iteration(model, max_iter=10_000, tol=1e-5):\n",
    "    β, R, γ, w_grid, y_grid, Q = model\n",
    "    w_size, y_size = len(w_grid), len(y_grid)\n",
    "    v = np.zeros((w_size, y_size))\n",
    "\n",
    "    i, error = 0, tol + 1\n",
    "    while error > tol and i < max_iter:\n",
    "        v_new = T(v, model)\n",
    "        error = np.max(np.abs(v_new - v))\n",
    "        i += 1\n",
    "        v = v_new\n",
    "    return v, get_greedy(v, model)"
   ]
  },
  {
   "cell_type": "markdown",
   "id": "abd1a191",
   "metadata": {},
   "source": [
    "Now we create an instance, unpack it, and test how long it takes to solve the\n",
    "model."
   ]
  },
  {
   "cell_type": "code",
   "execution_count": 15,
   "id": "65d54bbb",
   "metadata": {},
   "outputs": [
    {
     "name": "stdout",
     "output_type": "stream",
     "text": [
      "Starting VFI on the CPU using NumPy.\n",
      "VFI completed in 7.057530879974365 seconds.\n"
     ]
    }
   ],
   "source": [
    "model = create_consumption_model()\n",
    "β, R, γ, w_grid, y_grid, Q = model\n",
    "w_size, y_size = len(w_grid), len(y_grid)\n",
    "\n",
    "print(\"Starting VFI on the CPU using NumPy.\")\n",
    "start_time = time.time()\n",
    "v_star, σ_star = value_function_iteration(model)\n",
    "numpy_elapsed = time.time() - start_time\n",
    "print(f\"VFI completed in {numpy_elapsed} seconds.\")"
   ]
  },
  {
   "cell_type": "markdown",
   "id": "0249fca1",
   "metadata": {},
   "source": [
    "Here's a plot of the policy function."
   ]
  },
  {
   "cell_type": "code",
   "execution_count": 10,
   "id": "dbcccf2f",
   "metadata": {},
   "outputs": [
    {
     "data": {
      "image/png": "[encoded data removed]",
      "text/plain": [
       "<Figure size 640x480 with 1 Axes>"
      ]
     },
     "metadata": {},
     "output_type": "display_data"
    }
   ],
   "source": [
    "fig, ax = plt.subplots()\n",
    "ax.plot(w_grid, w_grid, \"k--\", label=\"45\")\n",
    "ax.plot(w_grid, w_grid[σ_star[:, 1]], label=\"$\\\\sigma^*(\\cdot, y_1)$\")\n",
    "ax.plot(w_grid, w_grid[σ_star[:, -1]], label=\"$\\\\sigma^*(\\cdot, y_N)$\")\n",
    "ax.legend()\n",
    "plt.show()"
   ]
  },
  {
   "cell_type": "markdown",
   "id": "a3c241a7",
   "metadata": {},
   "source": [
    "## Switching to JAX\n",
    "\n",
    "To switch over to JAX, we change `np` to `jnp` throughout and add some\n",
    "`jax.jit` requests.\n",
    "\n",
    "\n",
    "### Functions and operators\n",
    "\n",
    "We redefine `create_consumption_model` to produce JAX arrays."
   ]
  },
  {
   "cell_type": "code",
   "execution_count": 17,
   "id": "e4feeb2f",
   "metadata": {},
   "outputs": [],
   "source": [
    "def create_consumption_model(R=1.01,                    # Gross interest rate\n",
    "                             β=0.98,                    # Discount factor\n",
    "                             γ=2,                       # CRRA parameter\n",
    "                             w_min=0.01,                # Min wealth\n",
    "                             w_max=5.0,                 # Max wealth\n",
    "                             w_size=150,                # Grid size\n",
    "                             ρ=0.9, ν=0.1, y_size=100): # Income parameters\n",
    "    \"\"\"\n",
    "    A function that takes in parameters and returns parameters and grids \n",
    "    for the optimal savings problem.\n",
    "    \"\"\"\n",
    "    w_grid = jnp.linspace(w_min, w_max, w_size)\n",
    "    mc = qe.tauchen(n=y_size, rho=ρ, sigma=ν)\n",
    "    y_grid, Q = jnp.exp(mc.state_values), jnp.array(mc.P)\n",
    "    return Model(β, R, γ, w_grid, y_grid, Q)"
   ]
  },
  {
   "cell_type": "markdown",
   "id": "b52133d2",
   "metadata": {},
   "source": [
    "The right hand side of the Bellman equation is the same as the NumPy version\n",
    "after switching `np` to `jnp`."
   ]
  },
  {
   "cell_type": "code",
   "execution_count": 18,
   "id": "091042e2",
   "metadata": {},
   "outputs": [],
   "source": [
    "@jax.jit\n",
    "def B(v, model):\n",
    "    \"\"\"\n",
    "    A vectorized version of the right-hand side of the Bellman equation\n",
    "    (before maximization), which is a 3D array representing\n",
    "\n",
    "        B(w, y, w′) = u(Rw + y - w′) + β Σ_y′ v(w′, y′) Q(y, y′)\n",
    "\n",
    "    for all (w, y, w′).\n",
    "    \"\"\"\n",
    "\n",
    "    # Unpack\n",
    "    β, R, γ, w_grid, y_grid, Q = model\n",
    "    w_size, y_size = len(w_grid), len(y_grid)\n",
    "\n",
    "    # Compute current rewards r(w, y, wp) as array r[i, j, ip]\n",
    "    w  = jnp.reshape(w_grid, (w_size, 1, 1))    # w[i]   ->  w[i, j, ip]\n",
    "    y  = jnp.reshape(y_grid, (1, y_size, 1))    # z[j]   ->  z[i, j, ip]\n",
    "    wp = jnp.reshape(w_grid, (1, 1, w_size))    # wp[ip] -> wp[i, j, ip]\n",
    "    c = R * w + y - wp\n",
    "\n",
    "    # Calculate continuation rewards at all combinations of (w, y, wp)\n",
    "    v = jnp.reshape(v, (1, 1, w_size, y_size))  # v[ip, jp] -> v[i, j, ip, jp]\n",
    "    Q = jnp.reshape(Q, (1, y_size, 1, y_size))  # Q[j, jp]  -> Q[i, j, ip, jp]\n",
    "    EV = jnp.sum(v * Q, axis=3)                 # sum over last index jp\n",
    "\n",
    "    # Compute the right-hand side of the Bellman equation\n",
    "    return jnp.where(c > 0, c**(1-γ)/(1-γ) + β * EV, -jnp.inf)"
   ]
  },
  {
   "cell_type": "markdown",
   "id": "5b85b9e6",
   "metadata": {},
   "source": [
    "The Bellman operator $T$ can be implemented by"
   ]
  },
  {
   "cell_type": "code",
   "execution_count": 19,
   "id": "d618b8a4",
   "metadata": {},
   "outputs": [],
   "source": [
    "@jax.jit\n",
    "def T(v, model):\n",
    "    \"The Bellman operator.\"\n",
    "    return jnp.max(B(v, model), axis=2)"
   ]
  },
  {
   "cell_type": "markdown",
   "id": "0f760c67",
   "metadata": {},
   "source": [
    "The next function computes a $v$-greedy policy given $v$ (i.e., the policy that\n",
    "maximizes the right-hand side of the Bellman equation.)"
   ]
  },
  {
   "cell_type": "code",
   "execution_count": 20,
   "id": "b434f646",
   "metadata": {},
   "outputs": [],
   "source": [
    "@jax.jit\n",
    "def get_greedy(v, model):\n",
    "    \"Computes a v-greedy policy, returned as a set of indices.\"\n",
    "    return jnp.argmax(B(v, model), axis=2)"
   ]
  },
  {
   "cell_type": "markdown",
   "id": "baa6b76e",
   "metadata": {},
   "source": [
    "### Successive approximation\n",
    "\n",
    "Now we define a solver that implements VFI.\n",
    "\n",
    "We could use the one we built for NumPy above, after changing `np` to `jnp`.\n",
    "\n",
    "Alternatively, we can push a bit harder and write a compiled version using\n",
    "`jax.lax.while_loop`.\n",
    "\n",
    "This will give us just a bit more speed.\n",
    "\n",
    "The first step is to write a compiled successive approximation routine that\n",
    "performs fixed point iteration on some given function `T`."
   ]
  },
  {
   "cell_type": "code",
   "execution_count": 21,
   "id": "f7a3a364",
   "metadata": {},
   "outputs": [],
   "source": [
    "def successive_approx_jax(T,                     # Operator (callable)\n",
    "                          v_0,                   # Initial condition                \n",
    "                          tolerance=1e-6,        # Error tolerance\n",
    "                          max_iter=10_000):      # Max iteration bound\n",
    "    def body_fun(state):\n",
    "        i, v, error = state\n",
    "        v_new = T(v)\n",
    "        error = jnp.max(jnp.abs(v_new - v))\n",
    "        return i + 1, v_new, error\n",
    "\n",
    "    def cond_fun(state):\n",
    "        i, v, error = state\n",
    "        return jnp.logical_and(error > tolerance, i < max_iter)\n",
    "\n",
    "    initial_state = 1, v_0, tolerance + 1\n",
    "    i, x, error = jax.lax.while_loop(cond_fun, body_fun, initial_state)\n",
    "    return x\n",
    "\n",
    "successive_approx_jax = jax.jit(successive_approx_jax, static_argnums=(0,))"
   ]
  },
  {
   "cell_type": "markdown",
   "id": "fb7fd88b",
   "metadata": {},
   "source": [
    "Our value function iteration routine calls `successive_approx_jax` while passing\n",
    "in the Bellman operator."
   ]
  },
  {
   "cell_type": "code",
   "execution_count": 22,
   "id": "fe06ac7f",
   "metadata": {},
   "outputs": [],
   "source": [
    "def value_function_iteration(model, tol=1e-5):\n",
    "    β, R, γ, w_grid, y_grid, Q = model\n",
    "    w_size, y_size = len(w_grid), len(y_grid)\n",
    "    v_0 = jnp.zeros((w_size, y_size))\n",
    "    v_star = successive_approx_jax(lambda v: T(v, model), v_0, tolerance=tol)\n",
    "    return v_star, get_greedy(v_star, model)"
   ]
  },
  {
   "cell_type": "markdown",
   "id": "cde594d8",
   "metadata": {},
   "source": [
    "### Timing\n",
    "\n",
    "Let's create an instance for the test"
   ]
  },
  {
   "cell_type": "code",
   "execution_count": 23,
   "id": "513c6b3a",
   "metadata": {},
   "outputs": [
    {
     "name": "stderr",
     "output_type": "stream",
     "text": [
      "An NVIDIA GPU may be present on this machine, but a CUDA-enabled jaxlib is not installed. Falling back to cpu.\n"
     ]
    }
   ],
   "source": [
    "model = create_consumption_model()"
   ]
  },
  {
   "cell_type": "markdown",
   "id": "6a7e3f23",
   "metadata": {},
   "source": [
    "Let's see how long it takes to solve this model."
   ]
  },
  {
   "cell_type": "code",
   "execution_count": 24,
   "id": "a34fb5cc",
   "metadata": {},
   "outputs": [
    {
     "name": "stdout",
     "output_type": "stream",
     "text": [
      "Starting VFI using JAX / vectorization.\n",
      "VFI completed in 3.6547272205352783 seconds.\n"
     ]
    }
   ],
   "source": [
    "print(\"Starting VFI using JAX / vectorization.\")\n",
    "start_time = time.time()\n",
    "v_star_jax, σ_star_jax = value_function_iteration(model)\n",
    "jax_elapsed = time.time() - start_time\n",
    "print(f\"VFI completed in {jax_elapsed} seconds.\")"
   ]
  },
  {
   "cell_type": "markdown",
   "id": "19cf8ef0",
   "metadata": {},
   "source": [
    "One more time:"
   ]
  },
  {
   "cell_type": "code",
   "execution_count": 25,
   "id": "1f8c447f",
   "metadata": {},
   "outputs": [
    {
     "name": "stdout",
     "output_type": "stream",
     "text": [
      "Starting VFI on using JAX / vectorization.\n",
      "VFI completed in 3.531599760055542 seconds.\n"
     ]
    }
   ],
   "source": [
    "print(\"Starting VFI on using JAX / vectorization.\")\n",
    "start_time = time.time()\n",
    "v_star_jax, σ_star_jax = value_function_iteration(model)\n",
    "jax_elapsed = time.time() - start_time\n",
    "print(f\"VFI completed in {jax_elapsed} seconds.\")"
   ]
  },
  {
   "cell_type": "markdown",
   "id": "710d32dd",
   "metadata": {},
   "source": [
    "The relative speed gain is"
   ]
  },
  {
   "cell_type": "code",
   "execution_count": 26,
   "id": "9cc5b963",
   "metadata": {},
   "outputs": [
    {
     "name": "stdout",
     "output_type": "stream",
     "text": [
      "Relative speed gain = 1.9983948803596505\n"
     ]
    }
   ],
   "source": [
    "print(f\"Relative speed gain = {numpy_elapsed / jax_elapsed}\")"
   ]
  },
  {
   "cell_type": "markdown",
   "id": "d4d9c481",
   "metadata": {},
   "source": [
    "## Switching to vmap\n",
    "\n",
    "For this simple optimal savings problem, direct vectorization is relatively easy.\n",
    "\n",
    "In particular, it's straightforward to express the right hand side of the\n",
    "Bellman equation as an array that stores evaluations of the function at every\n",
    "state and control.\n",
    "\n",
    "For more complex models direct vectorization can be much harder.\n",
    "\n",
    "For this reason, it helps to have another approach to fast JAX implementations\n",
    "up our sleeves.\n",
    "\n",
    "Here's a version that \n",
    "\n",
    "1. writes the right hand side of the Bellman operator as a function of individual states and controls, and \n",
    "1. applies `jax.vmap` on the outside to achieve a parallelized solution.\n",
    "\n",
    "First let's rewrite `B`"
   ]
  },
  {
   "cell_type": "code",
   "execution_count": 27,
   "id": "c83bd349",
   "metadata": {},
   "outputs": [],
   "source": [
    "def B(v, model, i, j, ip):\n",
    "    \"\"\"\n",
    "    The right-hand side of the Bellman equation before maximization, which takes\n",
    "    the form\n",
    "\n",
    "        B(w, y, w′) = u(Rw + y - w′) + β Σ_y′ v(w′, y′) Q(y, y′)\n",
    "\n",
    "    The indices are (i, j, ip) -> (w, y, w′).\n",
    "    \"\"\"\n",
    "    β, R, γ, w_grid, y_grid, Q = model\n",
    "    w, y, wp  = w_grid[i], y_grid[j], w_grid[ip]\n",
    "    c = R * w + y - wp\n",
    "    EV = jnp.sum(v[ip, :] * Q[j, :]) \n",
    "    return jnp.where(c > 0, c**(1-γ)/(1-γ) + β * EV, -jnp.inf)"
   ]
  },
  {
   "cell_type": "markdown",
   "id": "02656e6d",
   "metadata": {},
   "source": [
    "Now we successively apply `vmap` to simulate nested loops."
   ]
  },
  {
   "cell_type": "code",
   "execution_count": 28,
   "id": "4f482a2c",
   "metadata": {},
   "outputs": [],
   "source": [
    "B = jax.vmap(B, in_axes=(None, None, None, None, 0))\n",
    "B = jax.vmap(B, in_axes=(None, None, None, 0,    None))\n",
    "B = jax.vmap(B, in_axes=(None, None, 0,    None, None))"
   ]
  },
  {
   "cell_type": "markdown",
   "id": "de1db856",
   "metadata": {},
   "source": [
    "Here's the Bellman operator and the `get_greedy` functions for the `vmap` case."
   ]
  },
  {
   "cell_type": "code",
   "execution_count": 29,
   "id": "92b25f81",
   "metadata": {},
   "outputs": [],
   "source": [
    "@jax.jit\n",
    "def T_vmap(v, model):\n",
    "    \"The Bellman operator.\"\n",
    "    β, R, γ, w_grid, y_grid, Q = model\n",
    "    w_size, y_size = len(w_grid), len(y_grid)\n",
    "    w_indices, y_indices = jnp.arange(w_size), jnp.arange(y_size)\n",
    "    B_values = B(v, model, w_indices, y_indices, w_indices)\n",
    "    return jnp.max(B_values, axis=-1)\n",
    "\n",
    "\n",
    "@jax.jit\n",
    "def get_greedy_vmap(v, model):\n",
    "    \"Computes a v-greedy policy, returned as a set of indices.\"\n",
    "    β, R, γ, w_grid, y_grid, Q = model\n",
    "    w_size, y_size = len(w_grid), len(y_grid)\n",
    "    w_indices, y_indices = jnp.arange(w_size), jnp.arange(y_size)\n",
    "    B_values = B_vmap(v, model, w_indices, y_indices, w_indices)\n",
    "    return jnp.argmax(B_values, axis=-1)\n"
   ]
  },
  {
   "cell_type": "markdown",
   "id": "0f27c6bb",
   "metadata": {},
   "source": [
    "Here's the iteration routine."
   ]
  },
  {
   "cell_type": "code",
   "execution_count": 30,
   "id": "e6099f44",
   "metadata": {},
   "outputs": [],
   "source": [
    "def value_iteration_vmap(model, tol=1e-5):\n",
    "    β, R, γ, w_grid, y_grid, Q = model\n",
    "    w_size, y_size = len(w_grid), len(y_grid)\n",
    "    vz = jnp.zeros((w_size, y_size))\n",
    "    _T = lambda v: T_vmap(v, model)\n",
    "    v_star = successive_approx_jax(_T, vz, tolerance=tol)\n",
    "    return v_star, get_greedy(v_star, model)"
   ]
  },
  {
   "cell_type": "markdown",
   "id": "e3488a5e",
   "metadata": {},
   "source": [
    "Let's see how long it takes to solve the model using the `vmap` method."
   ]
  },
  {
   "cell_type": "code",
   "execution_count": 31,
   "id": "4167fb02",
   "metadata": {},
   "outputs": [
    {
     "name": "stdout",
     "output_type": "stream",
     "text": [
      "Starting VFI using JAX / vmap.\n",
      "VFI completed in 3.602388858795166 seconds.\n"
     ]
    }
   ],
   "source": [
    "print(\"Starting VFI using JAX / vmap.\")\n",
    "start_time = time.time()\n",
    "v_star_vmap, σ_star_vmap = value_iteration_vmap(model)\n",
    "jax_vmap_elapsed = time.time() - start_time\n",
    "print(f\"VFI completed in {jax_vmap_elapsed} seconds.\")"
   ]
  },
  {
   "cell_type": "markdown",
   "id": "e2622baf",
   "metadata": {},
   "source": [
    "One more time:"
   ]
  },
  {
   "cell_type": "code",
   "execution_count": 32,
   "id": "111fa173",
   "metadata": {},
   "outputs": [
    {
     "name": "stdout",
     "output_type": "stream",
     "text": [
      "Starting VFI using JAX / vmap.\n",
      "VFI completed in 3.5972061157226562 seconds.\n"
     ]
    }
   ],
   "source": [
    "print(\"Starting VFI using JAX / vmap.\")\n",
    "start_time = time.time()\n",
    "v_star_vmap, σ_star_vmap = value_iteration_vmap(model)\n",
    "jax_vmap_elapsed = time.time() - start_time\n",
    "print(f\"VFI completed in {jax_vmap_elapsed} seconds.\")"
   ]
  },
  {
   "cell_type": "markdown",
   "id": "70c81591",
   "metadata": {},
   "source": [
    "We need to make sure that we got the same result."
   ]
  },
  {
   "cell_type": "code",
   "execution_count": 33,
   "id": "1865522c",
   "metadata": {},
   "outputs": [
    {
     "name": "stdout",
     "output_type": "stream",
     "text": [
      "True\n",
      "True\n"
     ]
    }
   ],
   "source": [
    "print(jnp.allclose(v_star_vmap, v_star_jax))\n",
    "print(jnp.allclose(σ_star_vmap, σ_star_jax))"
   ]
  },
  {
   "cell_type": "markdown",
   "id": "9aa64524",
   "metadata": {},
   "source": [
    "Here's the speed gain associated with switching from the NumPy version to JAX with `vmap`:"
   ]
  },
  {
   "cell_type": "code",
   "execution_count": 34,
   "id": "31433c78",
   "metadata": {},
   "outputs": [
    {
     "name": "stdout",
     "output_type": "stream",
     "text": [
      "Relative speed = 1.9619478709121874\n"
     ]
    }
   ],
   "source": [
    "print(f\"Relative speed = {numpy_elapsed / jax_vmap_elapsed}\")"
   ]
  },
  {
   "cell_type": "markdown",
   "id": "6c44226e",
   "metadata": {},
   "source": [
    "And here's the comparison with the first JAX implementation (which used direct vectorization)."
   ]
  },
  {
   "cell_type": "code",
   "execution_count": 35,
   "id": "1f2a141a",
   "metadata": {},
   "outputs": [
    {
     "name": "stdout",
     "output_type": "stream",
     "text": [
      "Relative speed = 0.981761858076366\n"
     ]
    }
   ],
   "source": [
    "print(f\"Relative speed = {jax_elapsed / jax_vmap_elapsed}\")"
   ]
  },
  {
   "cell_type": "markdown",
   "id": "00342696",
   "metadata": {},
   "source": [
    "The execution times for the two JAX versions are relatively similar.\n",
    "\n",
    "However, as emphasized above, having a second method up our sleeves (i.e, the\n",
    "`vmap` approach) will be helpful when confronting dynamic programs with more\n",
    "sophisticated Bellman equations."
   ]
  },
  {
   "cell_type": "markdown",
   "id": "4677cbda",
   "metadata": {},
   "source": [
    "## Exercise\n",
    "\n",
    "In recent times, Epstein-Zin preferences have become popular for modeling applications such as business cycles, asset prices, and climate change.\n",
    "\n",
    "Let's switch to Epstein-Zin preferences, so that the Bellman equation takes the form\n",
    "\n",
    "$$\n",
    "    v(w) = \\max_{0 \\leq w' \\leq Rw + y}\n",
    "    \\left\\{\n",
    "        c^\\delta + β \\left[ \\sum_{y'} v(w', y')^\\gamma Q(y, y') \\right]^{\\delta/\\gamma}\n",
    "    \\right\\}^{1/\\delta}\n",
    "$$\n",
    "\n",
    "where $c = Rw + y - w'$.\n",
    "\n",
    "Here $\\gamma$ governs risk preferences and $\\delta$ controls the elasticity of intertemporal substitution.\n",
    "\n",
    "Try solving the model under these preferences, using parameter values contained in the following function.\n",
    "\n",
    "After generating a solution, plot the policy functions in a plot similar to the one given above (for policy functions with CRRA preferences)."
   ]
  },
  {
   "cell_type": "markdown",
   "id": "81bb5566",
   "metadata": {},
   "source": [
    "We start with a namedtuple to store parameters and arrays"
   ]
  },
  {
   "cell_type": "code",
   "execution_count": 36,
   "id": "b35127a0",
   "metadata": {},
   "outputs": [],
   "source": [
    "Model = namedtuple('Model', ('β', 'R', 'γ', 'δ', 'w_grid', 'y_grid', 'Q'))"
   ]
  },
  {
   "cell_type": "code",
   "execution_count": 37,
   "id": "a5a4e992",
   "metadata": {},
   "outputs": [],
   "source": [
    "def create_ez_model(R=1.01,                    # Gross interest rate\n",
    "                    β=0.96,                    # Discount factor\n",
    "                    γ=0.25,                    # Risk preference parameter\n",
    "                    δ=0.25,                    # EIS parameter\n",
    "                    w_min=0.01,                # Min wealth\n",
    "                    w_max=5.0,                 # Max wealth\n",
    "                    w_size=500,                # Wealth grid size\n",
    "                    ρ=0.9, ν=0.1, y_size=10): # Income parameters\n",
    "    \"\"\"\n",
    "    A function that takes in parameters and returns parameters and grids \n",
    "    for the optimal savings problem.\n",
    "    \"\"\"\n",
    "    # Build grids and transition probabilities\n",
    "    w_grid = jnp.linspace(w_min, w_max, w_size)\n",
    "    mc = qe.tauchen(n=y_size, rho=ρ, sigma=ν)\n",
    "    y_grid, Q = np.exp(mc.state_values), mc.P\n",
    "    y_grid, Q = [jnp.array(v) for v in (y_grid, Q)]\n",
    "    # Pack and return\n",
    "    return Model(β, R, γ, δ, w_grid, y_grid, Q)"
   ]
  },
  {
   "cell_type": "code",
   "execution_count": 38,
   "id": "e3ae0eb9",
   "metadata": {},
   "outputs": [],
   "source": [
    "# Put your code here"
   ]
  },
  {
   "cell_type": "code",
   "execution_count": 39,
   "id": "78c79250",
   "metadata": {},
   "outputs": [
    {
     "name": "stdout",
     "output_type": "stream",
     "text": [
      "Solution below. 🐾\n",
      "Solution below. 🐾\n",
      "Solution below. 🐾\n",
      "Solution below. 🐾\n",
      "Solution below. 🐾\n",
      "Solution below. 🐾\n",
      "Solution below. 🐾\n",
      "Solution below. 🐾\n",
      "Solution below. 🐾\n",
      "Solution below. 🐾\n",
      "Solution below. 🐾\n",
      "Solution below. 🐾\n",
      "Solution below. 🐾\n",
      "Solution below. 🐾\n",
      "Solution below. 🐾\n",
      "Solution below. 🐾\n"
     ]
    }
   ],
   "source": [
    "for i in range(16):\n",
    "    print(\"Solution below. 🐾\")"
   ]
  },
  {
   "cell_type": "markdown",
   "id": "e07db7cc",
   "metadata": {},
   "source": [
    "## Solution"
   ]
  },
  {
   "cell_type": "code",
   "execution_count": 40,
   "id": "88a882f7",
   "metadata": {},
   "outputs": [],
   "source": [
    "def B_ez(v, model, i, j, ip):\n",
    "    \"\"\"\n",
    "    The right-hand side of the Bellman equation before maximization.\n",
    "    The indices are (i, j, ip) -> (w, y, w′).\n",
    "    \"\"\"\n",
    "    β, R, γ, δ, w_grid, y_grid, Q = model\n",
    "    w, y, wp = w_grid[i], y_grid[j], w_grid[ip]\n",
    "    c = R * w + y - wp\n",
    "    RV = (jnp.sum(v[ip, :]**γ * Q[j, :]))**(1/γ)\n",
    "    return jnp.where(c > 0, (c**δ + β * RV**δ)**(1/δ), -jnp.inf)"
   ]
  },
  {
   "cell_type": "markdown",
   "id": "3e87f99e",
   "metadata": {},
   "source": [
    "Now we successively apply `vmap` to simulate nested loops."
   ]
  },
  {
   "cell_type": "code",
   "execution_count": 41,
   "id": "b9377657",
   "metadata": {},
   "outputs": [],
   "source": [
    "B_ez = jax.vmap(B_ez, in_axes=(None, None, None, None, 0))\n",
    "B_ez = jax.vmap(B_ez, in_axes=(None, None, None, 0,    None))\n",
    "B_ez = jax.vmap(B_ez, in_axes=(None, None, 0,    None, None))"
   ]
  },
  {
   "cell_type": "markdown",
   "id": "d192a611",
   "metadata": {},
   "source": [
    "Here's the Bellman operator and the `get_greedy` functions."
   ]
  },
  {
   "cell_type": "code",
   "execution_count": 42,
   "id": "1b921b31",
   "metadata": {},
   "outputs": [],
   "source": [
    "@jax.jit\n",
    "def T_ez(v, model):\n",
    "    \"The Bellman operator.\"\n",
    "    β, R, γ, δ, w_grid, y_grid, Q = model\n",
    "    w_size, y_size = len(w_grid), len(y_grid)\n",
    "    w_indices, y_indices = jnp.arange(w_size), jnp.arange(y_size)\n",
    "    B_values = B_ez(v, model, w_indices, y_indices, w_indices)\n",
    "    return jnp.max(B_values, axis=(-1))\n",
    "\n",
    "\n",
    "@jax.jit\n",
    "def get_greedy_ez(v, model):\n",
    "    \"Computes a v-greedy policy, returned as a set of indices.\"\n",
    "    β, R, γ, δ, w_grid, y_grid, Q = model\n",
    "    w_size, y_size = len(w_grid), len(y_grid)\n",
    "    w_indices, y_indices = jnp.arange(w_size), jnp.arange(y_size)\n",
    "    B_values = B_ez(v, model, w_indices, y_indices, w_indices)\n",
    "    return jnp.argmax(B_values, axis=(-1))"
   ]
  },
  {
   "cell_type": "markdown",
   "id": "7e7ef208",
   "metadata": {},
   "source": [
    "Here's the iteration routine."
   ]
  },
  {
   "cell_type": "code",
   "execution_count": 43,
   "id": "a04f4d53",
   "metadata": {},
   "outputs": [],
   "source": [
    "def value_iteration_ez_vmap(model, tol=1e-5):\n",
    "    β, R, γ, δ, w_grid, y_grid, Q = model\n",
    "    w_size, y_size = len(w_grid), len(y_grid)\n",
    "    vz = jnp.zeros((w_size, y_size))\n",
    "    v_star = successive_approx_jax(lambda v: T_ez(v, model), vz, tolerance=tol)\n",
    "    return v_star, get_greedy_ez(v_star, model)"
   ]
  },
  {
   "cell_type": "markdown",
   "id": "68a9e105",
   "metadata": {},
   "source": [
    "Let's see how long it takes to solve the model."
   ]
  },
  {
   "cell_type": "code",
   "execution_count": 44,
   "id": "f4ded08f",
   "metadata": {},
   "outputs": [],
   "source": [
    "model = create_ez_model()\n",
    "β, R, γ, δ, w_grid, y_grid, Q = model"
   ]
  },
  {
   "cell_type": "code",
   "execution_count": 45,
   "id": "356869bf",
   "metadata": {},
   "outputs": [
    {
     "name": "stdout",
     "output_type": "stream",
     "text": [
      "Starting VFI for the EZ case.\n",
      "VFI completed in 3.46101975440979 seconds.\n"
     ]
    }
   ],
   "source": [
    "print(\"Starting VFI for the EZ case.\")\n",
    "start_time = time.time()\n",
    "v_star_ez, σ_star_ez = value_iteration_ez_vmap(model)\n",
    "jax_ez_elapsed = time.time() - start_time\n",
    "print(f\"VFI completed in {jax_ez_elapsed} seconds.\")"
   ]
  },
  {
   "cell_type": "markdown",
   "id": "8364868f",
   "metadata": {},
   "source": [
    "Here's a plot of the policy function."
   ]
  },
  {
   "cell_type": "code",
   "execution_count": 46,
   "id": "fb16010e",
   "metadata": {},
   "outputs": [
    {
     "data": {
      "image/png": "[encoded data removed]",
      "text/plain": [
       "<Figure size 640x480 with 1 Axes>"
      ]
     },
     "metadata": {},
     "output_type": "display_data"
    }
   ],
   "source": [
    "fig, ax = plt.subplots()\n",
    "ax.plot(w_grid, w_grid, \"k--\", label=\"45\")\n",
    "ax.plot(w_grid, w_grid[σ_star_ez[:, 1]], label=\"$\\\\sigma^*(\\cdot, y_1)$\")\n",
    "ax.plot(w_grid, w_grid[σ_star_ez[:, -1]], label=\"$\\\\sigma^*(\\cdot, y_N)$\")\n",
    "ax.legend()\n",
    "plt.show()"
   ]
  },
  {
   "cell_type": "code",
   "execution_count": null,
   "id": "a35a345e",
   "metadata": {},
   "outputs": [],
   "source": []
  }
 ],
 "metadata": {
  "kernelspec": {
   "display_name": "Python 3 (ipykernel)",
   "language": "python",
   "name": "python3"
  },
  "language_info": {
   "codemirror_mode": {
    "name": "ipython",
    "version": 3
   },
   "file_extension": ".py",
   "mimetype": "text/x-python",
   "name": "python",
   "nbconvert_exporter": "python",
   "pygments_lexer": "ipython3",
   "version": "3.11.7"
  }
 },
 "nbformat": 4,
 "nbformat_minor": 5
}
