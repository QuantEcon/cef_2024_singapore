{
 "cells": [
  {
   "cell_type": "markdown",
   "id": "5b5c26c4",
   "metadata": {},
   "source": [
    "# An Introduction to JAX\n",
    "\n",
    "----\n",
    "\n",
    "#### John Stachurski\n",
    "\n",
    "#### Prepared for the CEF Workshop (June 2024)\n",
    "\n",
    "----\n",
    "\n",
    "\n",
    "This lecture provides a short introduction to [Google JAX](https://github.com/google/jax)."
   ]
  },
  {
   "cell_type": "markdown",
   "id": "5b39b218-d37a-4a12-83e5-55ea1fdc19df",
   "metadata": {},
   "source": [
    "Let's quickly check our hardware:"
   ]
  },
  {
   "cell_type": "code",
   "execution_count": 27,
   "id": "53bf9cea-9f2c-40b6-a795-c94e75b98d3a",
   "metadata": {},
   "outputs": [
    {
     "name": "stdout",
     "output_type": "stream",
     "text": [
      "CPU NODE SOCKET CORE L1d:L1i:L2:L3 ONLINE    MAXMHZ   MINMHZ      MHZ\n",
      "  0    0      0    0 0:0:0:0          yes 5000.0000 800.0000 1665.457\n",
      "  1    0      0    1 1:1:1:0          yes 5000.0000 800.0000  800.000\n",
      "  2    0      0    2 2:2:2:0          yes 5000.0000 800.0000  800.000\n",
      "  3    0      0    3 3:3:3:0          yes 5000.0000 800.0000 1096.023\n",
      "  4    0      0    4 4:4:4:0          yes 5000.0000 800.0000  900.007\n",
      "  5    0      0    5 5:5:5:0          yes 5000.0000 800.0000 4997.609\n",
      "  6    0      0    6 6:6:6:0          yes 5000.0000 800.0000 4700.767\n",
      "  7    0      0    7 7:7:7:0          yes 5000.0000 800.0000  800.000\n",
      "  8    0      0    0 0:0:0:0          yes 5000.0000 800.0000  800.000\n",
      "  9    0      0    1 1:1:1:0          yes 5000.0000 800.0000  800.000\n",
      " 10    0      0    2 2:2:2:0          yes 5000.0000 800.0000  875.310\n",
      " 11    0      0    3 3:3:3:0          yes 5000.0000 800.0000  954.845\n",
      " 12    0      0    4 4:4:4:0          yes 5000.0000 800.0000 1105.913\n",
      " 13    0      0    5 5:5:5:0          yes 5000.0000 800.0000  800.000\n",
      " 14    0      0    6 6:6:6:0          yes 5000.0000 800.0000  800.000\n",
      " 15    0      0    7 7:7:7:0          yes 5000.0000 800.0000  800.000\n"
     ]
    },
    {
     "name": "stderr",
     "output_type": "stream",
     "text": [
      "/home/john/anaconda3/lib/python3.11/pty.py:89: RuntimeWarning: os.fork() was called. os.fork() is incompatible with multithreaded code, and JAX is multithreaded, so this will likely lead to a deadlock.\n",
      "  pid, fd = os.forkpty()\n"
     ]
    }
   ],
   "source": [
    "!lscpu -e"
   ]
  },
  {
   "cell_type": "code",
   "execution_count": 28,
   "id": "8e88c8f1",
   "metadata": {},
   "outputs": [
    {
     "name": "stdout",
     "output_type": "stream",
     "text": [
      "Thu Jun 20 09:34:15 2024       \n",
      "+-----------------------------------------------------------------------------------------+\n",
      "| NVIDIA-SMI 550.67                 Driver Version: 550.67         CUDA Version: 12.4     |\n",
      "|-----------------------------------------+------------------------+----------------------+\n",
      "| GPU  Name                 Persistence-M | Bus-Id          Disp.A | Volatile Uncorr. ECC |\n",
      "| Fan  Temp   Perf          Pwr:Usage/Cap |           Memory-Usage | GPU-Util  Compute M. |\n",
      "|                                         |                        |               MIG M. |\n",
      "|=========================================+========================+======================|\n",
      "|   0  NVIDIA GeForce RTX 3080        Off |   00000000:3E:00.0 Off |                  N/A |\n",
      "| 30%   36C    P2             94W /  320W |    7745MiB /  10240MiB |      0%      Default |\n",
      "|                                         |                        |                  N/A |\n",
      "+-----------------------------------------+------------------------+----------------------+\n",
      "                                                                                         \n",
      "+-----------------------------------------------------------------------------------------+\n",
      "| Processes:                                                                              |\n",
      "|  GPU   GI   CI        PID   Type   Process name                              GPU Memory |\n",
      "|        ID   ID                                                               Usage      |\n",
      "|=========================================================================================|\n",
      "|    0   N/A  N/A      1184      G   /usr/lib/xorg/Xorg                              3MiB |\n",
      "|    0   N/A  N/A     31558      C   /home/john/anaconda3/bin/python              7732MiB |\n",
      "+-----------------------------------------------------------------------------------------+\n"
     ]
    }
   ],
   "source": [
    "!nvidia-smi"
   ]
  },
  {
   "cell_type": "markdown",
   "id": "dff82589-8dfa-4abb-bd31-ed0ed0068bf3",
   "metadata": {},
   "source": [
    "We'll use the following imports:"
   ]
  },
  {
   "cell_type": "code",
   "execution_count": 29,
   "id": "05ee2bbf-779b-45a1-b72d-c8b032b16174",
   "metadata": {},
   "outputs": [],
   "source": [
    "import numpy as np\n",
    "import jax\n",
    "import jax.numpy as jnp\n",
    "import matplotlib.pyplot as plt"
   ]
  },
  {
   "cell_type": "markdown",
   "id": "34b73cf5",
   "metadata": {},
   "source": [
    "## Quick Speed Test -- JAX vs NumPy\n",
    "\n",
    "Let's start with some speed comparisons between NumPy -- which is similar to Matlab -- and JAX.\n",
    "\n",
    "(After that we'll look at learning how to use JAX more systematically.)\n",
    "\n",
    "\n",
    "### Transformations\n",
    "\n",
    "Let's evaluate the cosine function at 50 points."
   ]
  },
  {
   "cell_type": "code",
   "execution_count": 30,
   "id": "a5bfc9c3",
   "metadata": {},
   "outputs": [
    {
     "data": {
      "image/png": "[encoded data removed]",
      "text/plain": [
       "<Figure size 640x480 with 1 Axes>"
      ]
     },
     "metadata": {},
     "output_type": "display_data"
    }
   ],
   "source": [
    "x = np.linspace(0, 10, 50)\n",
    "y = np.cos(x)\n",
    "\n",
    "fig, ax = plt.subplots()\n",
    "ax.scatter(x, y)\n",
    "plt.show()"
   ]
  },
  {
   "cell_type": "markdown",
   "id": "52fe18b5",
   "metadata": {},
   "source": [
    "Now suppose we want to evaluate the cosine function at many points."
   ]
  },
  {
   "cell_type": "code",
   "execution_count": 31,
   "id": "034ae1a4",
   "metadata": {},
   "outputs": [],
   "source": [
    "n = 50_000_000\n",
    "x = np.linspace(0, 10, n)"
   ]
  },
  {
   "cell_type": "markdown",
   "id": "f7f55515",
   "metadata": {},
   "source": [
    "#### With NumPy"
   ]
  },
  {
   "cell_type": "code",
   "execution_count": 32,
   "id": "ea920c17",
   "metadata": {},
   "outputs": [
    {
     "name": "stdout",
     "output_type": "stream",
     "text": [
      "CPU times: user 442 ms, sys: 18.1 ms, total: 460 ms\n",
      "Wall time: 457 ms\n"
     ]
    }
   ],
   "source": [
    "%time y = np.cos(x)"
   ]
  },
  {
   "cell_type": "code",
   "execution_count": 33,
   "id": "1b21c98b",
   "metadata": {},
   "outputs": [],
   "source": [
    "del x, y"
   ]
  },
  {
   "cell_type": "markdown",
   "id": "1b655795",
   "metadata": {},
   "source": [
    "#### With JAX"
   ]
  },
  {
   "cell_type": "code",
   "execution_count": 34,
   "id": "e41e8c6d",
   "metadata": {},
   "outputs": [],
   "source": [
    "x = jnp.linspace(0, 10, n)"
   ]
  },
  {
   "cell_type": "markdown",
   "id": "732605e9-ff09-4f28-ad3a-2533e0062d29",
   "metadata": {},
   "source": [
    "Here's how we call the function:"
   ]
  },
  {
   "cell_type": "code",
   "execution_count": 35,
   "id": "8c5cc6f1",
   "metadata": {},
   "outputs": [],
   "source": [
    "y = jnp.cos(x)"
   ]
  },
  {
   "cell_type": "markdown",
   "id": "047e790c-c4e3-4077-b609-9fbb2f5a31b1",
   "metadata": {},
   "source": [
    "Here's how we time it:"
   ]
  },
  {
   "cell_type": "code",
   "execution_count": 36,
   "id": "5099d287",
   "metadata": {},
   "outputs": [
    {
     "name": "stdout",
     "output_type": "stream",
     "text": [
      "CPU times: user 0 ns, sys: 1.25 ms, total: 1.25 ms\n",
      "Wall time: 1.17 ms\n"
     ]
    }
   ],
   "source": [
    "%time y = jnp.cos(x).block_until_ready()"
   ]
  },
  {
   "cell_type": "code",
   "execution_count": 37,
   "id": "0183da31",
   "metadata": {},
   "outputs": [],
   "source": [
    "del x, y"
   ]
  },
  {
   "cell_type": "markdown",
   "id": "8feb83f7",
   "metadata": {},
   "source": [
    "### Evaluating a more complicated function"
   ]
  },
  {
   "cell_type": "markdown",
   "id": "82a0e796-4408-41b8-a0c6-c53b986a9d2d",
   "metadata": {},
   "source": [
    "Let's try this more complex function instead of `cos`"
   ]
  },
  {
   "cell_type": "code",
   "execution_count": 38,
   "id": "095e566c",
   "metadata": {},
   "outputs": [],
   "source": [
    "def f(x):\n",
    "    y = np.cos(2 * x**2) + np.sqrt(np.abs(x)) + 2 * np.sin(x**4) - 0.1 * x**2\n",
    "    return y"
   ]
  },
  {
   "cell_type": "markdown",
   "id": "a9828a84",
   "metadata": {},
   "source": [
    "#### With NumPy"
   ]
  },
  {
   "cell_type": "code",
   "execution_count": 39,
   "id": "c4f41aa1",
   "metadata": {},
   "outputs": [],
   "source": [
    "x = np.linspace(0, 10, n)"
   ]
  },
  {
   "cell_type": "code",
   "execution_count": 40,
   "id": "b0c578a4",
   "metadata": {},
   "outputs": [
    {
     "name": "stdout",
     "output_type": "stream",
     "text": [
      "CPU times: user 1.78 s, sys: 171 ms, total: 1.95 s\n",
      "Wall time: 1.95 s\n"
     ]
    }
   ],
   "source": [
    "%time y = f(x)"
   ]
  },
  {
   "cell_type": "code",
   "execution_count": 41,
   "id": "49331c0b-0f23-4980-9551-2d4dd42141cd",
   "metadata": {},
   "outputs": [],
   "source": [
    "del x, y"
   ]
  },
  {
   "cell_type": "markdown",
   "id": "2b034728",
   "metadata": {},
   "source": [
    "#### With JAX"
   ]
  },
  {
   "cell_type": "code",
   "execution_count": 42,
   "id": "54c912bd",
   "metadata": {},
   "outputs": [],
   "source": [
    "@jax.jit\n",
    "def f(x):\n",
    "    y = jnp.cos(2 * x**2) + jnp.sqrt(jnp.abs(x)) + 2 * jnp.sin(x**4) - x**2\n",
    "    return y"
   ]
  },
  {
   "cell_type": "code",
   "execution_count": 43,
   "id": "b2b8d198",
   "metadata": {},
   "outputs": [],
   "source": [
    "x = jnp.linspace(0, 10, n)"
   ]
  },
  {
   "cell_type": "markdown",
   "id": "a99f65bb-0835-4fa9-a901-3705a3037af3",
   "metadata": {},
   "source": [
    "Here's how we call the function."
   ]
  },
  {
   "cell_type": "code",
   "execution_count": 44,
   "id": "45c333a3-e394-4af4-9846-3529bfdb3f4b",
   "metadata": {},
   "outputs": [],
   "source": [
    "y = f(x)"
   ]
  },
  {
   "cell_type": "code",
   "execution_count": 47,
   "id": "1008dad6",
   "metadata": {},
   "outputs": [
    {
     "name": "stdout",
     "output_type": "stream",
     "text": [
      "CPU times: user 2.94 ms, sys: 0 ns, total: 2.94 ms\n",
      "Wall time: 1.77 ms\n"
     ]
    }
   ],
   "source": [
    "%time y = f(x).block_until_ready()"
   ]
  },
  {
   "cell_type": "markdown",
   "id": "d0a2bb59-32fe-4607-acfa-5110178bab74",
   "metadata": {},
   "source": [
    "## JAX as a NumPy (or Matlab) replacement"
   ]
  },
  {
   "cell_type": "markdown",
   "id": "a6da601e-76e4-4a73-a321-a7eaa6032c9b",
   "metadata": {},
   "source": [
    "### Similarities"
   ]
  },
  {
   "cell_type": "markdown",
   "id": "66c39ae5-e133-41d7-b5f9-9c59d49024a3",
   "metadata": {},
   "source": [
    "In many ways, `jax.numpy` is similar to `numpy`"
   ]
  },
  {
   "cell_type": "code",
   "execution_count": 121,
   "id": "28fd2618",
   "metadata": {},
   "outputs": [],
   "source": [
    "a = jnp.array((1.0, 3.2, -1.5))"
   ]
  },
  {
   "cell_type": "code",
   "execution_count": 128,
   "id": "621a8841",
   "metadata": {},
   "outputs": [
    {
     "data": {
      "text/plain": [
       "Array([ 1. ,  3.2, -1.5], dtype=float32)"
      ]
     },
     "execution_count": 128,
     "metadata": {},
     "output_type": "execute_result"
    }
   ],
   "source": [
    "a"
   ]
  },
  {
   "cell_type": "code",
   "execution_count": 129,
   "id": "5bfd6d05",
   "metadata": {},
   "outputs": [
    {
     "data": {
      "text/plain": [
       "Array(2.6999998, dtype=float32)"
      ]
     },
     "execution_count": 129,
     "metadata": {},
     "output_type": "execute_result"
    }
   ],
   "source": [
    "jnp.sum(a)"
   ]
  },
  {
   "cell_type": "code",
   "execution_count": 130,
   "id": "7f2bbd7e",
   "metadata": {},
   "outputs": [
    {
     "data": {
      "text/plain": [
       "Array(0.9, dtype=float32)"
      ]
     },
     "execution_count": 130,
     "metadata": {},
     "output_type": "execute_result"
    }
   ],
   "source": [
    "jnp.mean(a)"
   ]
  },
  {
   "cell_type": "code",
   "execution_count": 131,
   "id": "dab4e7ba",
   "metadata": {},
   "outputs": [
    {
     "data": {
      "text/plain": [
       "Array(13.490001, dtype=float32)"
      ]
     },
     "execution_count": 131,
     "metadata": {},
     "output_type": "execute_result"
    }
   ],
   "source": [
    "jnp.dot(a, a)"
   ]
  },
  {
   "cell_type": "code",
   "execution_count": 132,
   "id": "f74c9b74",
   "metadata": {},
   "outputs": [
    {
     "data": {
      "text/plain": [
       "Array(13.490001, dtype=float32)"
      ]
     },
     "execution_count": 132,
     "metadata": {},
     "output_type": "execute_result"
    }
   ],
   "source": [
    "a @ a  # Equivalent"
   ]
  },
  {
   "cell_type": "markdown",
   "id": "d058c4b0",
   "metadata": {},
   "source": [
    "However, the array object `a` is not a NumPy array:"
   ]
  },
  {
   "cell_type": "code",
   "execution_count": 133,
   "id": "8e244024",
   "metadata": {},
   "outputs": [
    {
     "data": {
      "text/plain": [
       "jaxlib.xla_extension.ArrayImpl"
      ]
     },
     "execution_count": 133,
     "metadata": {},
     "output_type": "execute_result"
    }
   ],
   "source": [
    "type(a)"
   ]
  },
  {
   "cell_type": "markdown",
   "id": "a0b32d9e",
   "metadata": {},
   "source": [
    "Notice also that scalar-valued maps on arrays return JAX arrays."
   ]
  },
  {
   "cell_type": "code",
   "execution_count": 134,
   "id": "a3a72f43",
   "metadata": {},
   "outputs": [
    {
     "data": {
      "text/plain": [
       "Array(2.6999998, dtype=float32)"
      ]
     },
     "execution_count": 134,
     "metadata": {},
     "output_type": "execute_result"
    }
   ],
   "source": [
    "jnp.sum(a)"
   ]
  },
  {
   "cell_type": "markdown",
   "id": "52bb7466",
   "metadata": {},
   "source": [
    "Operations on higher dimensional arrays are also similar to NumPy:"
   ]
  },
  {
   "cell_type": "code",
   "execution_count": 135,
   "id": "708297db",
   "metadata": {},
   "outputs": [
    {
     "data": {
      "text/plain": [
       "Array([[1., 1.],\n",
       "       [1., 1.]], dtype=float32)"
      ]
     },
     "execution_count": 135,
     "metadata": {},
     "output_type": "execute_result"
    }
   ],
   "source": [
    "A = jnp.ones((2, 2))\n",
    "B = jnp.identity(2)\n",
    "A @ B"
   ]
  },
  {
   "cell_type": "code",
   "execution_count": 136,
   "id": "69aa0470",
   "metadata": {},
   "outputs": [
    {
     "data": {
      "text/plain": [
       "Array([[1., 0.],\n",
       "       [0., 1.]], dtype=float32)"
      ]
     },
     "execution_count": 136,
     "metadata": {},
     "output_type": "execute_result"
    }
   ],
   "source": [
    "jnp.linalg.inv(B)   # Inverse of identity is identity"
   ]
  },
  {
   "cell_type": "code",
   "execution_count": 137,
   "id": "5e6f4da9",
   "metadata": {},
   "outputs": [
    {
     "data": {
      "text/plain": [
       "Array([0.99999994, 0.99999994], dtype=float32)"
      ]
     },
     "execution_count": 137,
     "metadata": {},
     "output_type": "execute_result"
    }
   ],
   "source": [
    "result = jnp.linalg.eigh(B)  # Computes eigenvalues and eigenvectors\n",
    "result.eigenvalues"
   ]
  },
  {
   "cell_type": "code",
   "execution_count": 138,
   "id": "f3749d94",
   "metadata": {},
   "outputs": [
    {
     "data": {
      "text/plain": [
       "Array([[1., 0.],\n",
       "       [0., 1.]], dtype=float32)"
      ]
     },
     "execution_count": 138,
     "metadata": {},
     "output_type": "execute_result"
    }
   ],
   "source": [
    "result.eigenvectors"
   ]
  },
  {
   "cell_type": "markdown",
   "id": "1d726874",
   "metadata": {},
   "source": [
    "### Differences\n",
    "\n",
    "Let's now look at the differences between JAX and NumPy\n",
    "\n",
    "#### 32 bit floats\n",
    "\n",
    "JAX uses 32 bit floats by default.\n",
    "\n",
    "If necessary we can enforce 64 bit floats via"
   ]
  },
  {
   "cell_type": "code",
   "execution_count": 139,
   "id": "f9cbe210",
   "metadata": {},
   "outputs": [],
   "source": [
    "jax.config.update(\"jax_enable_x64\", True)"
   ]
  },
  {
   "cell_type": "markdown",
   "id": "6381b96c",
   "metadata": {},
   "source": [
    "Let's check this works:"
   ]
  },
  {
   "cell_type": "code",
   "execution_count": 140,
   "id": "8502b20e",
   "metadata": {},
   "outputs": [
    {
     "data": {
      "text/plain": [
       "Array([1., 1., 1.], dtype=float64)"
      ]
     },
     "execution_count": 140,
     "metadata": {},
     "output_type": "execute_result"
    }
   ],
   "source": [
    "jnp.ones(3)"
   ]
  },
  {
   "cell_type": "markdown",
   "id": "5a920bfc",
   "metadata": {},
   "source": [
    "#### Mutability\n",
    "\n",
    "\n",
    "For example, with NumPy we can write"
   ]
  },
  {
   "cell_type": "code",
   "execution_count": 141,
   "id": "0d430b98",
   "metadata": {},
   "outputs": [
    {
     "data": {
      "text/plain": [
       "array([0. , 0.5, 1. ])"
      ]
     },
     "execution_count": 141,
     "metadata": {},
     "output_type": "execute_result"
    }
   ],
   "source": [
    "import numpy as np\n",
    "a = np.linspace(0, 1, 3)\n",
    "a"
   ]
  },
  {
   "cell_type": "markdown",
   "id": "12888752",
   "metadata": {},
   "source": [
    "and then mutate the data in memory:"
   ]
  },
  {
   "cell_type": "code",
   "execution_count": 142,
   "id": "f1607634",
   "metadata": {},
   "outputs": [
    {
     "data": {
      "text/plain": [
       "array([1. , 0.5, 1. ])"
      ]
     },
     "execution_count": 142,
     "metadata": {},
     "output_type": "execute_result"
    }
   ],
   "source": [
    "a[0] = 1\n",
    "a"
   ]
  },
  {
   "cell_type": "markdown",
   "id": "f7c5d81d",
   "metadata": {},
   "source": [
    "In JAX this fails because arrays are immutable:"
   ]
  },
  {
   "cell_type": "code",
   "execution_count": 143,
   "id": "2478785f",
   "metadata": {},
   "outputs": [
    {
     "data": {
      "text/plain": [
       "Array([0. , 0.5, 1. ], dtype=float64)"
      ]
     },
     "execution_count": 143,
     "metadata": {},
     "output_type": "execute_result"
    }
   ],
   "source": [
    "a = jnp.linspace(0, 1, 3)\n",
    "a"
   ]
  },
  {
   "cell_type": "code",
   "execution_count": 144,
   "id": "11832fdd",
   "metadata": {
    "tags": [
     "raises-exception"
    ]
   },
   "outputs": [
    {
     "ename": "TypeError",
     "evalue": "'<class 'jaxlib.xla_extension.ArrayImpl'>' object does not support item assignment. JAX arrays are immutable. Instead of ``x[idx] = y``, use ``x = x.at[idx].set(y)`` or another .at[] method: https://jax.readthedocs.io/en/latest/_autosummary/jax.numpy.ndarray.at.html",
     "output_type": "error",
     "traceback": [
      "\u001b[0;31m---------------------------------------------------------------------------\u001b[0m",
      "\u001b[0;31mTypeError\u001b[0m                                 Traceback (most recent call last)",
      "Cell \u001b[0;32mIn[144], line 1\u001b[0m\n\u001b[0;32m----> 1\u001b[0m a[\u001b[38;5;241m0\u001b[39m] \u001b[38;5;241m=\u001b[39m \u001b[38;5;241m1\u001b[39m\n",
      "File \u001b[0;32m~/anaconda3/lib/python3.11/site-packages/jax/_src/numpy/array_methods.py:278\u001b[0m, in \u001b[0;36m_unimplemented_setitem\u001b[0;34m(self, i, x)\u001b[0m\n\u001b[1;32m    273\u001b[0m \u001b[38;5;28;01mdef\u001b[39;00m \u001b[38;5;21m_unimplemented_setitem\u001b[39m(\u001b[38;5;28mself\u001b[39m, i, x):\n\u001b[1;32m    274\u001b[0m   msg \u001b[38;5;241m=\u001b[39m (\u001b[38;5;124m\"\u001b[39m\u001b[38;5;124m'\u001b[39m\u001b[38;5;132;01m{}\u001b[39;00m\u001b[38;5;124m'\u001b[39m\u001b[38;5;124m object does not support item assignment. JAX arrays are \u001b[39m\u001b[38;5;124m\"\u001b[39m\n\u001b[1;32m    275\u001b[0m          \u001b[38;5;124m\"\u001b[39m\u001b[38;5;124mimmutable. Instead of ``x[idx] = y``, use ``x = x.at[idx].set(y)`` \u001b[39m\u001b[38;5;124m\"\u001b[39m\n\u001b[1;32m    276\u001b[0m          \u001b[38;5;124m\"\u001b[39m\u001b[38;5;124mor another .at[] method: \u001b[39m\u001b[38;5;124m\"\u001b[39m\n\u001b[1;32m    277\u001b[0m          \u001b[38;5;124m\"\u001b[39m\u001b[38;5;124mhttps://jax.readthedocs.io/en/latest/_autosummary/jax.numpy.ndarray.at.html\u001b[39m\u001b[38;5;124m\"\u001b[39m)\n\u001b[0;32m--> 278\u001b[0m   \u001b[38;5;28;01mraise\u001b[39;00m \u001b[38;5;167;01mTypeError\u001b[39;00m(msg\u001b[38;5;241m.\u001b[39mformat(\u001b[38;5;28mtype\u001b[39m(\u001b[38;5;28mself\u001b[39m)))\n",
      "\u001b[0;31mTypeError\u001b[0m: '<class 'jaxlib.xla_extension.ArrayImpl'>' object does not support item assignment. JAX arrays are immutable. Instead of ``x[idx] = y``, use ``x = x.at[idx].set(y)`` or another .at[] method: https://jax.readthedocs.io/en/latest/_autosummary/jax.numpy.ndarray.at.html"
     ]
    }
   ],
   "source": [
    "a[0] = 1   # uncommenting produces a TypeError"
   ]
  },
  {
   "cell_type": "markdown",
   "id": "d54283bb",
   "metadata": {},
   "source": [
    "Why???"
   ]
  },
  {
   "cell_type": "markdown",
   "id": "8cd9827e",
   "metadata": {},
   "source": [
    "## Random Numbers\n",
    "\n",
    "Random numbers are also a bit different in JAX.  \n",
    "\n",
    "(There are good reasons why, which we'll discuss later.)"
   ]
  },
  {
   "cell_type": "markdown",
   "id": "cc9de821",
   "metadata": {},
   "source": [
    "### Controlling the state\n",
    "\n",
    "In JAX, the state of the random number generator needs to be controlled explicitly.\n",
    "\n",
    "\n",
    "First we produce a key, which seeds the random number generator."
   ]
  },
  {
   "cell_type": "code",
   "execution_count": 45,
   "id": "6fc51b34",
   "metadata": {},
   "outputs": [],
   "source": [
    "key = jax.random.PRNGKey(1)"
   ]
  },
  {
   "cell_type": "code",
   "execution_count": 46,
   "id": "79728d3b",
   "metadata": {},
   "outputs": [
    {
     "data": {
      "text/plain": [
       "jaxlib.xla_extension.ArrayImpl"
      ]
     },
     "execution_count": 46,
     "metadata": {},
     "output_type": "execute_result"
    }
   ],
   "source": [
    "type(key)"
   ]
  },
  {
   "cell_type": "markdown",
   "id": "a9b7c2a8",
   "metadata": {},
   "source": [
    "Now we can use the key to generate some random numbers:"
   ]
  },
  {
   "cell_type": "code",
   "execution_count": 47,
   "id": "1948dac2",
   "metadata": {},
   "outputs": [
    {
     "data": {
      "text/plain": [
       "Array([[-1.35247421, -0.2712502 , -0.02920518],\n",
       "       [ 0.34706456,  0.5464053 , -1.52325812],\n",
       "       [ 0.41677264, -0.59710138, -0.5678208 ]], dtype=float64)"
      ]
     },
     "execution_count": 47,
     "metadata": {},
     "output_type": "execute_result"
    }
   ],
   "source": [
    "x = jax.random.normal(key, (3, 3))\n",
    "x"
   ]
  },
  {
   "cell_type": "markdown",
   "id": "9ee5776e",
   "metadata": {},
   "source": [
    "If we use the same key again, we initialize at the same seed, so the random numbers are the same:"
   ]
  },
  {
   "cell_type": "code",
   "execution_count": 48,
   "id": "a87b8c0e",
   "metadata": {},
   "outputs": [
    {
     "data": {
      "text/plain": [
       "Array([[-1.35247421, -0.2712502 , -0.02920518],\n",
       "       [ 0.34706456,  0.5464053 , -1.52325812],\n",
       "       [ 0.41677264, -0.59710138, -0.5678208 ]], dtype=float64)"
      ]
     },
     "execution_count": 48,
     "metadata": {},
     "output_type": "execute_result"
    }
   ],
   "source": [
    "jax.random.normal(key, (3, 3))"
   ]
  },
  {
   "cell_type": "markdown",
   "id": "5f7c50f3",
   "metadata": {},
   "source": [
    "### Generating fresh draws"
   ]
  },
  {
   "cell_type": "markdown",
   "id": "59a1301d",
   "metadata": {},
   "source": [
    "To produce a (quasi-) independent draw, we can use `split`"
   ]
  },
  {
   "cell_type": "code",
   "execution_count": 49,
   "id": "0204fad7",
   "metadata": {},
   "outputs": [],
   "source": [
    "new_keys = jax.random.split(key, 5)   # Generate 5 new keys"
   ]
  },
  {
   "cell_type": "code",
   "execution_count": 50,
   "id": "18e24d0a",
   "metadata": {},
   "outputs": [
    {
     "data": {
      "text/plain": [
       "5"
      ]
     },
     "execution_count": 50,
     "metadata": {},
     "output_type": "execute_result"
    }
   ],
   "source": [
    "len(new_keys)"
   ]
  },
  {
   "cell_type": "code",
   "execution_count": 51,
   "id": "228f4568",
   "metadata": {},
   "outputs": [
    {
     "name": "stdout",
     "output_type": "stream",
     "text": [
      "[0.93781894 0.49680704 0.87546579]\n",
      "[-0.98026784 -0.31413329  0.27581241]\n",
      "[ 0.6358272  -1.04788243  0.41596996]\n",
      "[ 1.68791384 -0.43438299 -1.11517741]\n",
      "[ 1.40907666 -1.55242027 -0.62338347]\n"
     ]
    }
   ],
   "source": [
    "for key in new_keys:\n",
    "    print(jax.random.normal(key, (3, )))"
   ]
  },
  {
   "cell_type": "markdown",
   "id": "d8a0faa1",
   "metadata": {},
   "source": [
    "## JIT compilation\n",
    "\n",
    "The JAX just-in-time (JIT) compiler generates efficient, parallelized machine\n",
    "code optimized for either the CPU or the GPU/TPU, depending on whether one of\n",
    "these accelerators is detected.\n"
   ]
  },
  {
   "cell_type": "code",
   "execution_count": 52,
   "id": "42d0694a",
   "metadata": {},
   "outputs": [],
   "source": [
    "def f(x):\n",
    "    a = jnp.sin(x) + jnp.cos(x**2)\n",
    "    return jnp.sum(a)"
   ]
  },
  {
   "cell_type": "markdown",
   "id": "35de3ebe",
   "metadata": {},
   "source": [
    "Let's build an array to call the function on."
   ]
  },
  {
   "cell_type": "code",
   "execution_count": 53,
   "id": "6939f260",
   "metadata": {},
   "outputs": [],
   "source": [
    "n = 50_000_000\n",
    "x = jnp.ones(n)"
   ]
  },
  {
   "cell_type": "markdown",
   "id": "7c36092f",
   "metadata": {},
   "source": [
    "How long does the function take to execute?"
   ]
  },
  {
   "cell_type": "code",
   "execution_count": 54,
   "id": "c871334e",
   "metadata": {},
   "outputs": [
    {
     "name": "stdout",
     "output_type": "stream",
     "text": [
      "CPU times: user 109 ms, sys: 0 ns, total: 109 ms\n",
      "Wall time: 190 ms\n"
     ]
    },
    {
     "data": {
      "text/plain": [
       "Array(69088664.53380185, dtype=float64)"
      ]
     },
     "execution_count": 54,
     "metadata": {},
     "output_type": "execute_result"
    }
   ],
   "source": [
    "%time f(x).block_until_ready()"
   ]
  },
  {
   "cell_type": "code",
   "execution_count": 55,
   "id": "2d8e5820",
   "metadata": {},
   "outputs": [
    {
     "name": "stdout",
     "output_type": "stream",
     "text": [
      "CPU times: user 1.53 ms, sys: 0 ns, total: 1.53 ms\n",
      "Wall time: 12.2 ms\n"
     ]
    },
    {
     "data": {
      "text/plain": [
       "Array(69088664.53380185, dtype=float64)"
      ]
     },
     "execution_count": 55,
     "metadata": {},
     "output_type": "execute_result"
    }
   ],
   "source": [
    "%time f(x).block_until_ready()"
   ]
  },
  {
   "cell_type": "markdown",
   "id": "dba318f2",
   "metadata": {},
   "source": [
    "What is JIT-compiled here?"
   ]
  },
  {
   "cell_type": "markdown",
   "id": "023b0238",
   "metadata": {},
   "source": [
    "### When does JAX recompile?\n",
    "\n",
    "Let's run `f()` on new data:"
   ]
  },
  {
   "cell_type": "code",
   "execution_count": 56,
   "id": "83724e86",
   "metadata": {},
   "outputs": [],
   "source": [
    "y = jnp.ones(n + 1)"
   ]
  },
  {
   "cell_type": "code",
   "execution_count": 57,
   "id": "522589bf",
   "metadata": {},
   "outputs": [
    {
     "name": "stdout",
     "output_type": "stream",
     "text": [
      "CPU times: user 65.6 ms, sys: 15.6 ms, total: 81.2 ms\n",
      "Wall time: 148 ms\n"
     ]
    },
    {
     "data": {
      "text/plain": [
       "Array(69088665.91557515, dtype=float64)"
      ]
     },
     "execution_count": 57,
     "metadata": {},
     "output_type": "execute_result"
    }
   ],
   "source": [
    "%time f(y).block_until_ready()"
   ]
  },
  {
   "cell_type": "markdown",
   "id": "d4ad7178",
   "metadata": {},
   "source": [
    "Notice that the execution time increases again --- why??!\n",
    "\n",
    "(This wouldn't happen with Julia/Numba, which recompile only if we change the\n",
    "*types* of variables in a function call.)"
   ]
  },
  {
   "cell_type": "code",
   "execution_count": 58,
   "id": "5ccfb7db",
   "metadata": {},
   "outputs": [
    {
     "name": "stdout",
     "output_type": "stream",
     "text": [
      "CPU times: user 1.96 ms, sys: 0 ns, total: 1.96 ms\n",
      "Wall time: 11.9 ms\n"
     ]
    },
    {
     "data": {
      "text/plain": [
       "Array(69088665.91557515, dtype=float64)"
      ]
     },
     "execution_count": 58,
     "metadata": {},
     "output_type": "execute_result"
    }
   ],
   "source": [
    "%time f(y).block_until_ready()"
   ]
  },
  {
   "cell_type": "markdown",
   "id": "575edc8b",
   "metadata": {},
   "source": [
    "And now runtime goes down again --- why?"
   ]
  },
  {
   "cell_type": "markdown",
   "id": "07ccfc1e",
   "metadata": {},
   "source": [
    "Note that the previous compiled versions are still available in memory\n",
    "too, and the following call is dispatched to the correct compiled code."
   ]
  },
  {
   "cell_type": "code",
   "execution_count": 59,
   "id": "3b70c203",
   "metadata": {},
   "outputs": [
    {
     "name": "stdout",
     "output_type": "stream",
     "text": [
      "CPU times: user 0 ns, sys: 1.23 ms, total: 1.23 ms\n",
      "Wall time: 12.3 ms\n"
     ]
    },
    {
     "data": {
      "text/plain": [
       "Array(69088664.53380185, dtype=float64)"
      ]
     },
     "execution_count": 59,
     "metadata": {},
     "output_type": "execute_result"
    }
   ],
   "source": [
    "%time f(x).block_until_ready()"
   ]
  },
  {
   "cell_type": "markdown",
   "id": "48837baf",
   "metadata": {},
   "source": [
    "### Compiling user-built functions\n",
    "\n",
    "As we saw above, we can also instruct JAX to compile an entire user-defined function.\n",
    "\n",
    "For example, consider"
   ]
  },
  {
   "cell_type": "code",
   "execution_count": 60,
   "id": "b9fe186a",
   "metadata": {},
   "outputs": [],
   "source": [
    "def g(x):\n",
    "    y = jnp.zeros_like(x)\n",
    "    for i in range(10):\n",
    "        y += x**i\n",
    "    return y"
   ]
  },
  {
   "cell_type": "code",
   "execution_count": 61,
   "id": "4830937e",
   "metadata": {},
   "outputs": [],
   "source": [
    "n = 1_000_000\n",
    "x = jnp.ones(n)"
   ]
  },
  {
   "cell_type": "markdown",
   "id": "a79ba80b",
   "metadata": {},
   "source": [
    "Let's time it."
   ]
  },
  {
   "cell_type": "code",
   "execution_count": 62,
   "id": "3cdf3689",
   "metadata": {},
   "outputs": [
    {
     "name": "stdout",
     "output_type": "stream",
     "text": [
      "CPU times: user 117 ms, sys: 8.81 ms, total: 126 ms\n",
      "Wall time: 201 ms\n"
     ]
    },
    {
     "data": {
      "text/plain": [
       "Array([10., 10., 10., ..., 10., 10., 10.], dtype=float64)"
      ]
     },
     "execution_count": 62,
     "metadata": {},
     "output_type": "execute_result"
    }
   ],
   "source": [
    "%time g(x).block_until_ready()"
   ]
  },
  {
   "cell_type": "code",
   "execution_count": 63,
   "id": "57a13e07",
   "metadata": {},
   "outputs": [
    {
     "name": "stdout",
     "output_type": "stream",
     "text": [
      "CPU times: user 4.67 ms, sys: 106 µs, total: 4.78 ms\n",
      "Wall time: 3.18 ms\n"
     ]
    },
    {
     "data": {
      "text/plain": [
       "Array([10., 10., 10., ..., 10., 10., 10.], dtype=float64)"
      ]
     },
     "execution_count": 63,
     "metadata": {},
     "output_type": "execute_result"
    }
   ],
   "source": [
    "%time g(x).block_until_ready()"
   ]
  },
  {
   "cell_type": "code",
   "execution_count": 64,
   "id": "604af1b7",
   "metadata": {},
   "outputs": [],
   "source": [
    "g_jit = jax.jit(g)   # target for JIT compilation"
   ]
  },
  {
   "cell_type": "markdown",
   "id": "ecbb8db1",
   "metadata": {},
   "source": [
    "Let's run once to compile it:"
   ]
  },
  {
   "cell_type": "code",
   "execution_count": 65,
   "id": "0a7ba60b",
   "metadata": {},
   "outputs": [
    {
     "data": {
      "text/plain": [
       "Array([10., 10., 10., ..., 10., 10., 10.], dtype=float64)"
      ]
     },
     "execution_count": 65,
     "metadata": {},
     "output_type": "execute_result"
    }
   ],
   "source": [
    "g_jit(x)"
   ]
  },
  {
   "cell_type": "markdown",
   "id": "e579f1d3",
   "metadata": {},
   "source": [
    "And now let's time it."
   ]
  },
  {
   "cell_type": "code",
   "execution_count": 66,
   "id": "add7fee0",
   "metadata": {},
   "outputs": [
    {
     "name": "stdout",
     "output_type": "stream",
     "text": [
      "CPU times: user 320 µs, sys: 52 µs, total: 372 µs\n",
      "Wall time: 344 µs\n"
     ]
    },
    {
     "data": {
      "text/plain": [
       "Array([10., 10., 10., ..., 10., 10., 10.], dtype=float64)"
      ]
     },
     "execution_count": 66,
     "metadata": {},
     "output_type": "execute_result"
    }
   ],
   "source": [
    "%time g_jit(x).block_until_ready()"
   ]
  },
  {
   "cell_type": "markdown",
   "id": "42c90cdc",
   "metadata": {},
   "source": [
    "Why do we get a speed gain?\n",
    "\n",
    "Incidentally, a more common syntax when targetting a function for the JIT\n",
    "compiler is"
   ]
  },
  {
   "cell_type": "code",
   "execution_count": 67,
   "id": "693a19f1",
   "metadata": {},
   "outputs": [],
   "source": [
    "@jax.jit\n",
    "def g_jit_2(x):\n",
    "    y = jnp.zeros_like(x)\n",
    "    for i in range(10):\n",
    "        y += x**i\n",
    "    return y"
   ]
  },
  {
   "cell_type": "code",
   "execution_count": 68,
   "id": "37eea1f2",
   "metadata": {},
   "outputs": [
    {
     "name": "stdout",
     "output_type": "stream",
     "text": [
      "CPU times: user 26.3 ms, sys: 4.38 ms, total: 30.7 ms\n",
      "Wall time: 26.2 ms\n"
     ]
    },
    {
     "data": {
      "text/plain": [
       "Array([10., 10., 10., ..., 10., 10., 10.], dtype=float64)"
      ]
     },
     "execution_count": 68,
     "metadata": {},
     "output_type": "execute_result"
    }
   ],
   "source": [
    "%time g_jit_2(x).block_until_ready()"
   ]
  },
  {
   "cell_type": "code",
   "execution_count": 69,
   "id": "a93bfaa6",
   "metadata": {},
   "outputs": [
    {
     "name": "stdout",
     "output_type": "stream",
     "text": [
      "CPU times: user 2.48 ms, sys: 0 ns, total: 2.48 ms\n",
      "Wall time: 1.55 ms\n"
     ]
    },
    {
     "data": {
      "text/plain": [
       "Array([10., 10., 10., ..., 10., 10., 10.], dtype=float64)"
      ]
     },
     "execution_count": 69,
     "metadata": {},
     "output_type": "execute_result"
    }
   ],
   "source": [
    "%time g_jit_2(x).block_until_ready()"
   ]
  },
  {
   "cell_type": "markdown",
   "id": "72ca0f5e",
   "metadata": {},
   "source": [
    "## Functional Programming\n",
    "\n",
    "From JAX's documentation:\n",
    "\n",
    "*When walking about the countryside of Italy, the people will not hesitate to tell you that JAX has “una anima di pura programmazione funzionale”.*\n",
    "\n",
    "In other words, JAX assumes a functional programming style.\n",
    "\n",
    "The major implication is that JAX functions should be pure.\n",
    "    \n",
    "A pure function \n",
    "\n",
    "* will always return the same result if invoked with the same inputs (no dependence on external state) and\n",
    "* have no side effects"
   ]
  },
  {
   "cell_type": "markdown",
   "id": "3afe13b8",
   "metadata": {},
   "source": [
    "### Examples: Python/NumPy/Numba style code is not generally pure"
   ]
  },
  {
   "cell_type": "markdown",
   "id": "3ba7fc89",
   "metadata": {},
   "source": [
    "#### Example 1"
   ]
  },
  {
   "cell_type": "markdown",
   "id": "a064625d",
   "metadata": {},
   "source": [
    "Here's an example to show that NumPy functions are *not* pure:"
   ]
  },
  {
   "cell_type": "code",
   "execution_count": 70,
   "id": "8b452231",
   "metadata": {},
   "outputs": [
    {
     "data": {
      "text/plain": [
       "array([-1.37754327, -0.98070141, -1.14174969])"
      ]
     },
     "execution_count": 70,
     "metadata": {},
     "output_type": "execute_result"
    }
   ],
   "source": [
    "np.random.randn(3)"
   ]
  },
  {
   "cell_type": "code",
   "execution_count": 71,
   "id": "ffe25f70",
   "metadata": {},
   "outputs": [
    {
     "data": {
      "text/plain": [
       "array([ 0.49418621, -0.71920933, -0.90311109])"
      ]
     },
     "execution_count": 71,
     "metadata": {},
     "output_type": "execute_result"
    }
   ],
   "source": [
    "np.random.randn(3)"
   ]
  },
  {
   "cell_type": "markdown",
   "id": "fdb0c941",
   "metadata": {},
   "source": [
    "This function returns the different results when called on the same inputs!\n",
    "\n",
    "The issue is that the function maintains state between function calls --- the state of the random number generator."
   ]
  },
  {
   "cell_type": "code",
   "execution_count": 72,
   "id": "2cd29f04",
   "metadata": {},
   "outputs": [
    {
     "data": {
      "text/plain": [
       "11"
      ]
     },
     "execution_count": 72,
     "metadata": {},
     "output_type": "execute_result"
    }
   ],
   "source": [
    "np.random.get_state()[2]"
   ]
  },
  {
   "cell_type": "code",
   "execution_count": 73,
   "id": "5ea77c19",
   "metadata": {},
   "outputs": [
    {
     "data": {
      "text/plain": [
       "array([ 0.12719694, -0.65333293, -1.38785266])"
      ]
     },
     "execution_count": 73,
     "metadata": {},
     "output_type": "execute_result"
    }
   ],
   "source": [
    "np.random.randn(3)"
   ]
  },
  {
   "cell_type": "code",
   "execution_count": 74,
   "id": "d3f43e58",
   "metadata": {},
   "outputs": [
    {
     "data": {
      "text/plain": [
       "19"
      ]
     },
     "execution_count": 74,
     "metadata": {},
     "output_type": "execute_result"
    }
   ],
   "source": [
    "np.random.get_state()[2]"
   ]
  },
  {
   "cell_type": "markdown",
   "id": "c3fe5a25",
   "metadata": {},
   "source": [
    "#### Example 2\n",
    "\n",
    "Is `f` pure?"
   ]
  },
  {
   "cell_type": "code",
   "execution_count": 75,
   "id": "aa37437b",
   "metadata": {},
   "outputs": [],
   "source": [
    "a = 10\n",
    "def f(x): \n",
    "    return a * x"
   ]
  },
  {
   "cell_type": "code",
   "execution_count": 76,
   "id": "90921134",
   "metadata": {},
   "outputs": [
    {
     "data": {
      "text/plain": [
       "10"
      ]
     },
     "execution_count": 76,
     "metadata": {},
     "output_type": "execute_result"
    }
   ],
   "source": [
    "f(1)"
   ]
  },
  {
   "cell_type": "markdown",
   "id": "b6600b43",
   "metadata": {},
   "source": [
    "Now let's change the global:"
   ]
  },
  {
   "cell_type": "code",
   "execution_count": 77,
   "id": "65be2b79",
   "metadata": {},
   "outputs": [],
   "source": [
    "a = 20"
   ]
  },
  {
   "cell_type": "code",
   "execution_count": 78,
   "id": "3c95f5dc",
   "metadata": {},
   "outputs": [
    {
     "data": {
      "text/plain": [
       "20"
      ]
     },
     "execution_count": 78,
     "metadata": {},
     "output_type": "execute_result"
    }
   ],
   "source": [
    "f(1)"
   ]
  },
  {
   "cell_type": "markdown",
   "id": "95b2a737",
   "metadata": {},
   "source": [
    "#### Example 3"
   ]
  },
  {
   "cell_type": "markdown",
   "id": "2e3395d0",
   "metadata": {},
   "source": [
    "Is this function pure?  Why? / Why not?"
   ]
  },
  {
   "cell_type": "code",
   "execution_count": 79,
   "id": "620eadd2",
   "metadata": {},
   "outputs": [
    {
     "data": {
      "text/plain": [
       "array([1., 1., 1., 1., 1.])"
      ]
     },
     "execution_count": 79,
     "metadata": {},
     "output_type": "execute_result"
    }
   ],
   "source": [
    "def f(x):  \n",
    "    x[0] = 42\n",
    "    return None\n",
    "\n",
    "x = np.ones(5)\n",
    "x"
   ]
  },
  {
   "cell_type": "code",
   "execution_count": 80,
   "id": "238b0545-e3a9-4af9-9af5-fc14cd8072c0",
   "metadata": {},
   "outputs": [],
   "source": [
    "f(x)"
   ]
  },
  {
   "cell_type": "code",
   "execution_count": 81,
   "id": "7ad3c40c-e9c9-46ae-9185-9dc13233531c",
   "metadata": {},
   "outputs": [
    {
     "data": {
      "text/plain": [
       "array([42.,  1.,  1.,  1.,  1.])"
      ]
     },
     "execution_count": 81,
     "metadata": {},
     "output_type": "execute_result"
    }
   ],
   "source": [
    "x"
   ]
  },
  {
   "cell_type": "markdown",
   "id": "5282278d",
   "metadata": {},
   "source": [
    "### Compiling impure functions\n",
    "\n",
    "JAX will *not* usually throw errors when compiling impure functions \n",
    "\n",
    "However, execution becomes unpredictable!\n",
    "\n",
    "Here's an illustration of this fact, using global variables:"
   ]
  },
  {
   "cell_type": "code",
   "execution_count": 82,
   "id": "b3c88a3d",
   "metadata": {},
   "outputs": [],
   "source": [
    "a = 1  # global\n",
    "\n",
    "@jax.jit\n",
    "def f(x):\n",
    "    return a + x"
   ]
  },
  {
   "cell_type": "code",
   "execution_count": 83,
   "id": "af1f850b",
   "metadata": {},
   "outputs": [],
   "source": [
    "x = jnp.ones(2)"
   ]
  },
  {
   "cell_type": "code",
   "execution_count": 84,
   "id": "c8086bd7",
   "metadata": {},
   "outputs": [
    {
     "data": {
      "text/plain": [
       "Array([2., 2.], dtype=float64)"
      ]
     },
     "execution_count": 84,
     "metadata": {},
     "output_type": "execute_result"
    }
   ],
   "source": [
    "f(x)"
   ]
  },
  {
   "cell_type": "markdown",
   "id": "79469fd6",
   "metadata": {},
   "source": [
    "In the code above, the global value `a=1` is fused into the jitted function.\n",
    "\n",
    "Even if we change `a`, the output of `f` will not be affected --- as long as the same compiled version is called."
   ]
  },
  {
   "cell_type": "code",
   "execution_count": 85,
   "id": "278b5bb0",
   "metadata": {},
   "outputs": [],
   "source": [
    "a = 42"
   ]
  },
  {
   "cell_type": "code",
   "execution_count": 86,
   "id": "4828a019",
   "metadata": {},
   "outputs": [
    {
     "data": {
      "text/plain": [
       "Array([2., 2.], dtype=float64)"
      ]
     },
     "execution_count": 86,
     "metadata": {},
     "output_type": "execute_result"
    }
   ],
   "source": [
    "f(x)"
   ]
  },
  {
   "cell_type": "markdown",
   "id": "32c5a5af",
   "metadata": {},
   "source": [
    "Notice that the change in the value of `a` takes effect in the code below:"
   ]
  },
  {
   "cell_type": "code",
   "execution_count": 87,
   "id": "f6ff45c5",
   "metadata": {},
   "outputs": [],
   "source": [
    "x = jnp.ones(3)"
   ]
  },
  {
   "cell_type": "code",
   "execution_count": 88,
   "id": "a11ac9c3",
   "metadata": {},
   "outputs": [
    {
     "data": {
      "text/plain": [
       "Array([43., 43., 43.], dtype=float64)"
      ]
     },
     "execution_count": 88,
     "metadata": {},
     "output_type": "execute_result"
    }
   ],
   "source": [
    "f(x)"
   ]
  },
  {
   "cell_type": "markdown",
   "id": "05e0feef",
   "metadata": {},
   "source": [
    "Why?"
   ]
  },
  {
   "cell_type": "markdown",
   "id": "4d6f6fd1",
   "metadata": {},
   "source": [
    "#### Moral"
   ]
  },
  {
   "cell_type": "markdown",
   "id": "96080beb",
   "metadata": {},
   "source": [
    "Moral of the story: write pure functions when using JAX!"
   ]
  },
  {
   "cell_type": "markdown",
   "id": "7cd6f660",
   "metadata": {},
   "source": [
    "## Writing vectorized code\n",
    "\n",
    "Consider the function\n",
    "\n",
    "$$\n",
    "    f(x,y) = \\frac{\\cos(x^2 + y^2)}{1 + x^2 + y^2}\n",
    "$$\n",
    "\n",
    "Suppose that we want to evaluate this function on a square grid of $x$ and $y$ points.\n",
    "\n",
    "\n",
    "### A slow version with loops\n",
    "\n",
    "Here's a slow `for` loop version, which we run in a setting where `len(x) = len(y)` is very small."
   ]
  },
  {
   "cell_type": "code",
   "execution_count": 89,
   "id": "f0edadec",
   "metadata": {},
   "outputs": [],
   "source": [
    "@jax.jit\n",
    "def f(x, y):\n",
    "    return jnp.cos(x**2 + y**2) / (1 + x**2 + y**2)\n",
    "\n",
    "n = 80\n",
    "x = jnp.linspace(-2, 2, n)\n",
    "y = x\n",
    "\n",
    "z_loops = np.empty((n, n))"
   ]
  },
  {
   "cell_type": "code",
   "execution_count": 90,
   "id": "d3f19dea",
   "metadata": {},
   "outputs": [
    {
     "name": "stdout",
     "output_type": "stream",
     "text": [
      "CPU times: user 2.71 s, sys: 559 ms, total: 3.27 s\n",
      "Wall time: 2.51 s\n"
     ]
    }
   ],
   "source": [
    "%%time\n",
    "for i in range(n):\n",
    "    for j in range(n):\n",
    "        z_loops[i, j] = f(x[i], y[j])"
   ]
  },
  {
   "cell_type": "markdown",
   "id": "82e361f2",
   "metadata": {},
   "source": [
    "Even for this small grid, the run time is slow.\n"
   ]
  },
  {
   "cell_type": "markdown",
   "id": "3cbb9f11",
   "metadata": {},
   "source": [
    "OK, so how can we do the same operation in vectorized form?\n",
    "\n",
    "If you are new to vectorization, you might guess that we can simply write"
   ]
  },
  {
   "cell_type": "code",
   "execution_count": 91,
   "id": "d013fc28",
   "metadata": {},
   "outputs": [],
   "source": [
    "z_bad = f(x, y)"
   ]
  },
  {
   "cell_type": "markdown",
   "id": "7ebc267f",
   "metadata": {},
   "source": [
    "But this gives us the wrong result because JAX doesn't understand the nested for loop."
   ]
  },
  {
   "cell_type": "code",
   "execution_count": 92,
   "id": "f33d3c8d",
   "metadata": {},
   "outputs": [
    {
     "data": {
      "text/plain": [
       "(80,)"
      ]
     },
     "execution_count": 92,
     "metadata": {},
     "output_type": "execute_result"
    }
   ],
   "source": [
    "z_bad.shape"
   ]
  },
  {
   "cell_type": "code",
   "execution_count": 93,
   "id": "7c249775",
   "metadata": {},
   "outputs": [
    {
     "data": {
      "text/plain": [
       "(80, 80)"
      ]
     },
     "execution_count": 93,
     "metadata": {},
     "output_type": "execute_result"
    }
   ],
   "source": [
    "z_loops.shape"
   ]
  },
  {
   "cell_type": "markdown",
   "id": "7b3faeeb",
   "metadata": {},
   "source": [
    "### Vectorization attempt 1"
   ]
  },
  {
   "cell_type": "markdown",
   "id": "27cea2a4",
   "metadata": {},
   "source": [
    "To get the right shape and the correct nested for loop calculation, we can use a `meshgrid` operation that originated in MATLAB and was replicated in NumPy and then JAX:"
   ]
  },
  {
   "cell_type": "code",
   "execution_count": 94,
   "id": "9e3687ad",
   "metadata": {},
   "outputs": [],
   "source": [
    "x_mesh, y_mesh = jnp.meshgrid(x, y)"
   ]
  },
  {
   "cell_type": "markdown",
   "id": "b1b26b01",
   "metadata": {},
   "source": [
    "Now we get what we want and the execution time is fast."
   ]
  },
  {
   "cell_type": "code",
   "execution_count": 95,
   "id": "c8e3d38c",
   "metadata": {},
   "outputs": [],
   "source": [
    "z_mesh = f(x_mesh, y_mesh) "
   ]
  },
  {
   "cell_type": "markdown",
   "id": "7855f67e",
   "metadata": {},
   "source": [
    "Let's confirm that we got the right answer."
   ]
  },
  {
   "cell_type": "code",
   "execution_count": 96,
   "id": "afe3b4c5",
   "metadata": {},
   "outputs": [
    {
     "data": {
      "text/plain": [
       "Array(True, dtype=bool)"
      ]
     },
     "execution_count": 96,
     "metadata": {},
     "output_type": "execute_result"
    }
   ],
   "source": [
    "jnp.allclose(z_mesh, z_loops)"
   ]
  },
  {
   "cell_type": "markdown",
   "id": "03234bca",
   "metadata": {},
   "source": [
    "Now we can set up a serious grid and run the same calculation (on the larger grid) in a short amount of time."
   ]
  },
  {
   "cell_type": "code",
   "execution_count": 97,
   "id": "63cefcd3",
   "metadata": {},
   "outputs": [],
   "source": [
    "n = 6000\n",
    "x = jnp.linspace(-2, 2, n)\n",
    "y = x\n",
    "x_mesh, y_mesh = jnp.meshgrid(x, y)"
   ]
  },
  {
   "cell_type": "code",
   "execution_count": 98,
   "id": "443d876e",
   "metadata": {},
   "outputs": [
    {
     "name": "stdout",
     "output_type": "stream",
     "text": [
      "CPU times: user 25.7 ms, sys: 0 ns, total: 25.7 ms\n",
      "Wall time: 46.6 ms\n"
     ]
    }
   ],
   "source": [
    "%time z_mesh = f(x_mesh, y_mesh) "
   ]
  },
  {
   "cell_type": "code",
   "execution_count": 99,
   "id": "82f20636",
   "metadata": {},
   "outputs": [
    {
     "name": "stdout",
     "output_type": "stream",
     "text": [
      "CPU times: user 143 µs, sys: 0 ns, total: 143 µs\n",
      "Wall time: 153 µs\n"
     ]
    }
   ],
   "source": [
    "%time z_mesh = f(x_mesh, y_mesh) "
   ]
  },
  {
   "cell_type": "markdown",
   "id": "d512b141",
   "metadata": {},
   "source": [
    "But there is one problem here: the mesh grids use a lot of memory."
   ]
  },
  {
   "cell_type": "code",
   "execution_count": 100,
   "id": "b21e6b37",
   "metadata": {},
   "outputs": [
    {
     "data": {
      "text/plain": [
       "576.0"
      ]
     },
     "execution_count": 100,
     "metadata": {},
     "output_type": "execute_result"
    }
   ],
   "source": [
    "(x_mesh.nbytes + y_mesh.nbytes) / 1_000_000  # MB of memory"
   ]
  },
  {
   "cell_type": "markdown",
   "id": "d6048ac3",
   "metadata": {},
   "source": [
    "By comparison, the flat array `x` is just"
   ]
  },
  {
   "cell_type": "code",
   "execution_count": 101,
   "id": "5e69850f",
   "metadata": {},
   "outputs": [
    {
     "data": {
      "text/plain": [
       "0.048"
      ]
     },
     "execution_count": 101,
     "metadata": {},
     "output_type": "execute_result"
    }
   ],
   "source": [
    "x.nbytes / 1_000_000   # and y is just a pointer to x"
   ]
  },
  {
   "cell_type": "code",
   "execution_count": 102,
   "id": "f2d84345",
   "metadata": {},
   "outputs": [],
   "source": [
    "x_mesh = None\n",
    "y_mesh = None"
   ]
  },
  {
   "cell_type": "markdown",
   "id": "59a56a91",
   "metadata": {},
   "source": [
    "### Vectorization attempt 2"
   ]
  },
  {
   "cell_type": "markdown",
   "id": "db5ca424",
   "metadata": {},
   "source": [
    "We can achieve a similar effect through NumPy style broadcasting rules."
   ]
  },
  {
   "cell_type": "code",
   "execution_count": 103,
   "id": "ece3a7ca",
   "metadata": {},
   "outputs": [],
   "source": [
    "x_reshaped = jnp.reshape(x, (n, 1))   # Give x another dimension (column)\n",
    "y_reshaped = jnp.reshape(y, (1, n))   # Give y another dimension (row)"
   ]
  },
  {
   "cell_type": "markdown",
   "id": "f8d1430b",
   "metadata": {},
   "source": [
    "When we evaluate $f$ on these reshaped arrays, we replicate the nested for loops in the original version."
   ]
  },
  {
   "cell_type": "code",
   "execution_count": 104,
   "id": "1a2c981d",
   "metadata": {},
   "outputs": [
    {
     "name": "stdout",
     "output_type": "stream",
     "text": [
      "CPU times: user 31.9 ms, sys: 3.26 ms, total: 35.1 ms\n",
      "Wall time: 55.7 ms\n"
     ]
    }
   ],
   "source": [
    "%time z_reshaped = f(x_reshaped, y_reshaped)"
   ]
  },
  {
   "cell_type": "code",
   "execution_count": 105,
   "id": "3cabb89d",
   "metadata": {},
   "outputs": [
    {
     "name": "stdout",
     "output_type": "stream",
     "text": [
      "CPU times: user 294 µs, sys: 51 µs, total: 345 µs\n",
      "Wall time: 368 µs\n"
     ]
    }
   ],
   "source": [
    "%time z_reshaped = f(x_reshaped, y_reshaped)"
   ]
  },
  {
   "cell_type": "markdown",
   "id": "a74e0d51",
   "metadata": {},
   "source": [
    "Let's check that we got the same result"
   ]
  },
  {
   "cell_type": "code",
   "execution_count": 106,
   "id": "ee65cdc0",
   "metadata": {},
   "outputs": [
    {
     "data": {
      "text/plain": [
       "Array(True, dtype=bool)"
      ]
     },
     "execution_count": 106,
     "metadata": {},
     "output_type": "execute_result"
    }
   ],
   "source": [
    "jnp.allclose(z_reshaped, z_mesh)"
   ]
  },
  {
   "cell_type": "markdown",
   "id": "70512f9a",
   "metadata": {},
   "source": [
    "The memory usage for the inputs is much more moderate."
   ]
  },
  {
   "cell_type": "code",
   "execution_count": 107,
   "id": "c80a9dfb",
   "metadata": {},
   "outputs": [
    {
     "data": {
      "text/plain": [
       "0.096"
      ]
     },
     "execution_count": 107,
     "metadata": {},
     "output_type": "execute_result"
    }
   ],
   "source": [
    "(x_reshaped.nbytes + y_reshaped.nbytes) / 1_000_000"
   ]
  },
  {
   "cell_type": "markdown",
   "id": "855341da",
   "metadata": {},
   "source": [
    "### Vectorization attempt 3\n",
    "\n",
    "\n",
    "There's another approach to vectorization we can pursue, using [jax.vmap](https://jax.readthedocs.io/en/latest/_autosummary/jax.vmap.html)"
   ]
  },
  {
   "cell_type": "code",
   "execution_count": 108,
   "id": "aceb3d6b",
   "metadata": {},
   "outputs": [],
   "source": [
    "f = jax.vmap(f, in_axes=(None, 0))   # vectorize in y\n",
    "f = jax.vmap(f, in_axes=(0, None))   # and then vectorize in x"
   ]
  },
  {
   "cell_type": "markdown",
   "id": "dcfb63a7",
   "metadata": {},
   "source": [
    "With this construction, we can now call the function $f$ on flat (low memory) arrays."
   ]
  },
  {
   "cell_type": "code",
   "execution_count": 109,
   "id": "62eedc10",
   "metadata": {},
   "outputs": [
    {
     "name": "stdout",
     "output_type": "stream",
     "text": [
      "CPU times: user 26.9 ms, sys: 455 µs, total: 27.3 ms\n",
      "Wall time: 48.8 ms\n"
     ]
    }
   ],
   "source": [
    "%time z_vmap = f(x, y)"
   ]
  },
  {
   "cell_type": "code",
   "execution_count": 110,
   "id": "c4c6f9f1",
   "metadata": {},
   "outputs": [
    {
     "name": "stdout",
     "output_type": "stream",
     "text": [
      "CPU times: user 777 µs, sys: 133 µs, total: 910 µs\n",
      "Wall time: 943 µs\n"
     ]
    }
   ],
   "source": [
    "%time z_vmap = f(x, y)"
   ]
  },
  {
   "cell_type": "markdown",
   "id": "57f5c5ed",
   "metadata": {},
   "source": [
    "Let's check we produce the correct answer:"
   ]
  },
  {
   "cell_type": "code",
   "execution_count": 111,
   "id": "237c126f",
   "metadata": {},
   "outputs": [
    {
     "data": {
      "text/plain": [
       "Array(True, dtype=bool)"
      ]
     },
     "execution_count": 111,
     "metadata": {},
     "output_type": "execute_result"
    }
   ],
   "source": [
    "jnp.allclose(z_vmap, z_mesh)"
   ]
  },
  {
   "cell_type": "markdown",
   "id": "4bb86460",
   "metadata": {},
   "source": [
    "Let's finish by cleaning up."
   ]
  },
  {
   "cell_type": "code",
   "execution_count": 112,
   "id": "f3bc70e7",
   "metadata": {},
   "outputs": [],
   "source": [
    "del z_mesh\n",
    "del z_vmap\n",
    "del z_reshaped"
   ]
  },
  {
   "cell_type": "markdown",
   "id": "a4cb38dc",
   "metadata": {},
   "source": [
    "### Exercises"
   ]
  },
  {
   "cell_type": "markdown",
   "id": "a30258de",
   "metadata": {},
   "source": [
    "Compute an approximation to $\\pi$ by simulation:\n",
    "\n",
    "1. draw $n$ observations of a bivariate uniform on the unit square\n",
    "2. count the fraction that fall in the unit circle (radius 0.5) centered on (0.5, 0.5)\n",
    "3. multiply the result by 4\n",
    "\n",
    "Use JAX"
   ]
  },
  {
   "cell_type": "code",
   "execution_count": 113,
   "id": "1e51ae46",
   "metadata": {},
   "outputs": [
    {
     "name": "stdout",
     "output_type": "stream",
     "text": [
      "Solution below 🐠\n",
      "Solution below 🐠\n",
      "Solution below 🐠\n",
      "Solution below 🐠\n",
      "Solution below 🐠\n",
      "Solution below 🐠\n",
      "Solution below 🐠\n",
      "Solution below 🐠\n",
      "Solution below 🐠\n",
      "Solution below 🐠\n",
      "Solution below 🐠\n",
      "Solution below 🐠\n"
     ]
    }
   ],
   "source": [
    "for i in range(12):\n",
    "    print(\"Solution below 🐠\")"
   ]
  },
  {
   "cell_type": "code",
   "execution_count": 114,
   "id": "eeb0e30a",
   "metadata": {},
   "outputs": [],
   "source": [
    "def approx_pi(n, key):\n",
    "    u = jax.random.uniform(key, (2, n))\n",
    "    distances = jnp.sqrt((u[0, :] - 0.5)**2 + (u[1, :] - 0.5)**2)\n",
    "    fraction_in_circle = jnp.mean(distances < 0.5)\n",
    "    return fraction_in_circle * 4  # dividing by radius**2\n",
    "\n",
    "n = 1_000_000 # sample size for Monte Carlo simulation\n",
    "key = jax.random.PRNGKey(1234)"
   ]
  },
  {
   "cell_type": "code",
   "execution_count": 115,
   "id": "c7e1ad54",
   "metadata": {},
   "outputs": [
    {
     "name": "stdout",
     "output_type": "stream",
     "text": [
      "CPU times: user 112 ms, sys: 0 ns, total: 112 ms\n",
      "Wall time: 184 ms\n"
     ]
    },
    {
     "data": {
      "text/plain": [
       "Array(3.142108, dtype=float32)"
      ]
     },
     "execution_count": 115,
     "metadata": {},
     "output_type": "execute_result"
    }
   ],
   "source": [
    "%time approx_pi(n, key)"
   ]
  },
  {
   "cell_type": "code",
   "execution_count": 116,
   "id": "40dddf97",
   "metadata": {},
   "outputs": [
    {
     "name": "stdout",
     "output_type": "stream",
     "text": [
      "CPU times: user 3.46 ms, sys: 268 µs, total: 3.73 ms\n",
      "Wall time: 1.97 ms\n"
     ]
    },
    {
     "data": {
      "text/plain": [
       "Array(3.142108, dtype=float32)"
      ]
     },
     "execution_count": 116,
     "metadata": {},
     "output_type": "execute_result"
    }
   ],
   "source": [
    "%time approx_pi(n, key)"
   ]
  },
  {
   "cell_type": "code",
   "execution_count": 117,
   "id": "9e438e03",
   "metadata": {},
   "outputs": [],
   "source": [
    "approx_pi_jitted = jax.jit(approx_pi, static_argnums=(0,))"
   ]
  },
  {
   "cell_type": "code",
   "execution_count": 118,
   "id": "2b18218a",
   "metadata": {},
   "outputs": [
    {
     "name": "stdout",
     "output_type": "stream",
     "text": [
      "CPU times: user 57.2 ms, sys: 326 µs, total: 57.5 ms\n",
      "Wall time: 99.6 ms\n"
     ]
    },
    {
     "data": {
      "text/plain": [
       "Array(3.142108, dtype=float32)"
      ]
     },
     "execution_count": 118,
     "metadata": {},
     "output_type": "execute_result"
    }
   ],
   "source": [
    "%time approx_pi_jitted(n, key)"
   ]
  },
  {
   "cell_type": "code",
   "execution_count": 119,
   "id": "db1e4a1e",
   "metadata": {},
   "outputs": [
    {
     "name": "stdout",
     "output_type": "stream",
     "text": [
      "CPU times: user 174 µs, sys: 0 ns, total: 174 µs\n",
      "Wall time: 250 µs\n"
     ]
    },
    {
     "data": {
      "text/plain": [
       "Array(3.142108, dtype=float32)"
      ]
     },
     "execution_count": 119,
     "metadata": {},
     "output_type": "execute_result"
    }
   ],
   "source": [
    "%time approx_pi_jitted(n, key)"
   ]
  },
  {
   "cell_type": "markdown",
   "id": "1475cacd",
   "metadata": {},
   "source": [
    "**Exercise**\n",
    "\n",
    "In a previous notebook we used Monte Carlo to price a European call option and\n",
    "constructed a solution using Numba.\n",
    "\n",
    "The code looked like this:"
   ]
  },
  {
   "cell_type": "code",
   "execution_count": 120,
   "id": "21aeef18",
   "metadata": {},
   "outputs": [],
   "source": [
    "import numba\n",
    "from numpy.random import randn\n",
    "M = 10_000_000\n",
    "\n",
    "n, β, K = 20, 0.99, 100\n",
    "μ, ρ, ν, S0, h0 = 0.0001, 0.1, 0.001, 10, 0\n",
    "\n",
    "@numba.jit(parallel=True)\n",
    "def compute_call_price_parallel(β=β,\n",
    "                                μ=μ,\n",
    "                                S0=S0,\n",
    "                                h0=h0,\n",
    "                                K=K,\n",
    "                                n=n,\n",
    "                                ρ=ρ,\n",
    "                                ν=ν,\n",
    "                                M=M):\n",
    "    current_sum = 0.0\n",
    "    # For each sample path\n",
    "    for m in numba.prange(M):\n",
    "        s = np.log(S0)\n",
    "        h = h0\n",
    "        # Simulate forward in time\n",
    "        for t in range(n):\n",
    "            s = s + μ + np.exp(h) * randn()\n",
    "            h = ρ * h + ν * randn()\n",
    "        # And add the value max{S_n - K, 0} to current_sum\n",
    "        current_sum += np.maximum(np.exp(s) - K, 0)\n",
    "        \n",
    "    return β**n * current_sum / M"
   ]
  },
  {
   "cell_type": "markdown",
   "id": "4f651f61",
   "metadata": {},
   "source": [
    "Let's run it once to compile it:"
   ]
  },
  {
   "cell_type": "code",
   "execution_count": 121,
   "id": "ea3ca458",
   "metadata": {},
   "outputs": [
    {
     "data": {
      "text/plain": [
       "148712.07481427447"
      ]
     },
     "execution_count": 121,
     "metadata": {},
     "output_type": "execute_result"
    }
   ],
   "source": [
    "compute_call_price_parallel()"
   ]
  },
  {
   "cell_type": "markdown",
   "id": "c426fb32",
   "metadata": {},
   "source": [
    "And now let's time it:"
   ]
  },
  {
   "cell_type": "code",
   "execution_count": 122,
   "id": "28f10928",
   "metadata": {},
   "outputs": [
    {
     "name": "stdout",
     "output_type": "stream",
     "text": [
      "CPU times: user 14.5 s, sys: 0 ns, total: 14.5 s\n",
      "Wall time: 916 ms\n"
     ]
    },
    {
     "data": {
      "text/plain": [
       "155885.53034715902"
      ]
     },
     "execution_count": 122,
     "metadata": {},
     "output_type": "execute_result"
    }
   ],
   "source": [
    "%%time \n",
    "compute_call_price_parallel()"
   ]
  },
  {
   "cell_type": "markdown",
   "id": "ea407feb",
   "metadata": {},
   "source": [
    "Try writing a version of this operation for JAX, using all the same\n",
    "parameters.\n",
    "\n",
    "If you are running your code on a GPU, you should be able to achieve\n",
    "significantly faster execution."
   ]
  },
  {
   "cell_type": "code",
   "execution_count": 123,
   "id": "bdfbcb53",
   "metadata": {},
   "outputs": [
    {
     "name": "stdout",
     "output_type": "stream",
     "text": [
      "Solution below 🐠\n",
      "Solution below 🐠\n",
      "Solution below 🐠\n",
      "Solution below 🐠\n",
      "Solution below 🐠\n",
      "Solution below 🐠\n",
      "Solution below 🐠\n",
      "Solution below 🐠\n",
      "Solution below 🐠\n",
      "Solution below 🐠\n",
      "Solution below 🐠\n",
      "Solution below 🐠\n"
     ]
    }
   ],
   "source": [
    "for i in range(12):\n",
    "    print(\"Solution below 🐠\")"
   ]
  },
  {
   "cell_type": "markdown",
   "id": "32aaddee",
   "metadata": {},
   "source": [
    "**Solution**\n",
    "\n",
    "Here is one solution:"
   ]
  },
  {
   "cell_type": "code",
   "execution_count": 124,
   "id": "975c4f5f",
   "metadata": {},
   "outputs": [],
   "source": [
    "@jax.jit\n",
    "def compute_call_price_jax(β=β,\n",
    "                           μ=μ,\n",
    "                           S0=S0,\n",
    "                           h0=h0,\n",
    "                           K=K,\n",
    "                           n=n,\n",
    "                           ρ=ρ,\n",
    "                           ν=ν,\n",
    "                           M=M,\n",
    "                           key=jax.random.PRNGKey(1)):\n",
    "\n",
    "    s = jnp.full(M, np.log(S0))\n",
    "    h = jnp.full(M, h0)\n",
    "    for t in range(n):\n",
    "        key, subkey = jax.random.split(key)\n",
    "        Z = jax.random.normal(subkey, (2, M))\n",
    "        s = s + μ + jnp.exp(h) * Z[0, :]\n",
    "        h = ρ * h + ν * Z[1, :]\n",
    "    expectation = jnp.mean(jnp.maximum(jnp.exp(s) - K, 0))\n",
    "        \n",
    "    return β**n * expectation"
   ]
  },
  {
   "cell_type": "markdown",
   "id": "d9ac461e",
   "metadata": {},
   "source": [
    "Let's run it once to compile it:"
   ]
  },
  {
   "cell_type": "code",
   "execution_count": 125,
   "id": "b376b21d",
   "metadata": {},
   "outputs": [
    {
     "data": {
      "text/plain": [
       "Array(180876.48840921, dtype=float64)"
      ]
     },
     "execution_count": 125,
     "metadata": {},
     "output_type": "execute_result"
    }
   ],
   "source": [
    "compute_call_price_jax()"
   ]
  },
  {
   "cell_type": "markdown",
   "id": "33e4fcb4",
   "metadata": {},
   "source": [
    "And now let's time it:"
   ]
  },
  {
   "cell_type": "code",
   "execution_count": 126,
   "id": "db7eae8f",
   "metadata": {},
   "outputs": [
    {
     "name": "stdout",
     "output_type": "stream",
     "text": [
      "CPU times: user 0 ns, sys: 2.84 ms, total: 2.84 ms\n",
      "Wall time: 247 ms\n"
     ]
    },
    {
     "data": {
      "text/plain": [
       "Array(180876.48840921, dtype=float64)"
      ]
     },
     "execution_count": 126,
     "metadata": {},
     "output_type": "execute_result"
    }
   ],
   "source": [
    "%%time \n",
    "compute_call_price_jax().block_until_ready()"
   ]
  },
  {
   "cell_type": "code",
   "execution_count": null,
   "id": "748bc1e2",
   "metadata": {},
   "outputs": [],
   "source": []
  }
 ],
 "metadata": {
  "kernelspec": {
   "display_name": "Python 3 (ipykernel)",
   "language": "python",
   "name": "python3"
  },
  "language_info": {
   "codemirror_mode": {
    "name": "ipython",
    "version": 3
   },
   "file_extension": ".py",
   "mimetype": "text/x-python",
   "name": "python",
   "nbconvert_exporter": "python",
   "pygments_lexer": "ipython3",
   "version": "3.11.7"
  }
 },
 "nbformat": 4,
 "nbformat_minor": 5
}
