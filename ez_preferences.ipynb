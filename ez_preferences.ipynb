{
 "cells": [
  {
   "cell_type": "markdown",
   "id": "35e3cc4a",
   "metadata": {},
   "source": [
    "# Recursive Utility: Solution Methods \n",
    "\n",
    "------\n",
    "\n",
    "#### Prepared for the CBC Workshop May 2024\n",
    "#### John Stachurski\n",
    "\n",
    "------"
   ]
  },
  {
   "cell_type": "markdown",
   "id": "9f525dda",
   "metadata": {},
   "source": [
    "## Outline\n",
    "\n",
    "In some dynamic models, lifetime utility is nonlinear and defined recursively.\n",
    "\n",
    "*  models with Epstein-Zin preferences\n",
    "*  risk-sensitive preferences\n",
    "*  models with ambiguity aversion\n",
    "*  robust control models\n",
    "*  adversarial agents\n",
    "\n",
    "In this lecture we explore how to compute lifetime utility in some of these settings.\n",
    "\n",
    "Our main focus will be the Epstein-Zin setting.\n",
    "\n",
    "Uncomment if necessary:"
   ]
  },
  {
   "cell_type": "code",
   "execution_count": 1,
   "id": "134b40ad",
   "metadata": {},
   "outputs": [],
   "source": [
    "#!pip install quantecon"
   ]
  },
  {
   "cell_type": "markdown",
   "id": "fb5c8211",
   "metadata": {},
   "source": [
    "We will use the following imports."
   ]
  },
  {
   "cell_type": "code",
   "execution_count": 2,
   "id": "d3426b5b",
   "metadata": {},
   "outputs": [],
   "source": [
    "import jax\n",
    "import jax.numpy as jnp\n",
    "import matplotlib.pyplot as plt\n",
    "import numpy as np\n",
    "from collections import namedtuple\n",
    "import time\n",
    "import quantecon as qe\n",
    "\n",
    "jax.config.update(\"jax_enable_x64\", True)"
   ]
  },
  {
   "cell_type": "markdown",
   "id": "350a6b65",
   "metadata": {},
   "source": [
    "Looking for a GPU:"
   ]
  },
  {
   "cell_type": "code",
   "execution_count": 3,
   "id": "b92e8e65",
   "metadata": {},
   "outputs": [
    {
     "name": "stdout",
     "output_type": "stream",
     "text": [
      "Thu May 16 22:00:31 2024       \n",
      "+-----------------------------------------------------------------------------------------+\n",
      "| NVIDIA-SMI 550.54.15              Driver Version: 550.54.15      CUDA Version: 12.4     |\n",
      "|-----------------------------------------+------------------------+----------------------+\n",
      "| GPU  Name                 Persistence-M | Bus-Id          Disp.A | Volatile Uncorr. ECC |\n",
      "| Fan  Temp   Perf          Pwr:Usage/Cap |           Memory-Usage | GPU-Util  Compute M. |\n",
      "|                                         |                        |               MIG M. |\n",
      "|=========================================+========================+======================|\n",
      "|   0  NVIDIA GeForce RTX 3080        Off |   00000000:3E:00.0 Off |                  N/A |\n",
      "| 30%   30C    P3            106W /  320W |       6MiB /  10240MiB |      0%      Default |\n",
      "|                                         |                        |                  N/A |\n",
      "+-----------------------------------------+------------------------+----------------------+\n",
      "                                                                                         \n",
      "+-----------------------------------------------------------------------------------------+\n",
      "| Processes:                                                                              |\n",
      "|  GPU   GI   CI        PID   Type   Process name                              GPU Memory |\n",
      "|        ID   ID                                                               Usage      |\n",
      "|=========================================================================================|\n",
      "|    0   N/A  N/A      1252      G   /usr/lib/xorg/Xorg                              3MiB |\n",
      "+-----------------------------------------------------------------------------------------+\n"
     ]
    },
    {
     "name": "stderr",
     "output_type": "stream",
     "text": [
      "/home/john/anaconda3/lib/python3.11/pty.py:89: RuntimeWarning: os.fork() was called. os.fork() is incompatible with multithreaded code, and JAX is multithreaded, so this will likely lead to a deadlock.\n",
      "  pid, fd = os.forkpty()\n"
     ]
    }
   ],
   "source": [
    "!nvidia-smi"
   ]
  },
  {
   "cell_type": "markdown",
   "id": "5d9bc6ae-b1e4-436c-832d-850bfab64f78",
   "metadata": {},
   "source": [
    "## Newton-Kantorovich iteration"
   ]
  },
  {
   "cell_type": "markdown",
   "id": "24b77b70-20fb-4d88-a1b9-0b879ac67125",
   "metadata": {},
   "source": [
    "Here's a quick reminder on how to use Newton's method in $\\mathbb R^n$.\n",
    "\n",
    "Suppose we have a function $F \\colon \\mathbb R^n \\to \\mathbb R^n$ and we seek a $v \\in \\mathbb R^n$ with $Fv=0$.\n",
    "\n",
    "Newton's method takes a guess $v_0$ and updates it by\n",
    "\n",
    "* computing a first order approximation $\\hat F$ to $F$ at $v_0$ and\n",
    "* finding the $v_1$ such that $\\hat F(v_1) = 0$.\n",
    "\n",
    "The process then repeats, now starting from $v_1$, etc.\n",
    "\n",
    "The first order approximation of $F$ at $v_0$ is\n",
    "\n",
    "$$\n",
    "\\hat Fv = Fv_0 + J (v - v_0)\n",
    "$$\n",
    "\n",
    "where $J$ is the Jacobian of $F$ at $v_0$.\n",
    "\n",
    "Setting $\\hat Fv_1 = 0$ yields $Jv_1 = Jv_0 - Fv_0$.  Rearranging gives\n",
    "\n",
    "$$\n",
    "   v_1 = v_0 - J^{-1} F v_0\n",
    "$$\n",
    "\n",
    "We use this update rule below."
   ]
  },
  {
   "cell_type": "markdown",
   "id": "a2461fc2",
   "metadata": {},
   "source": [
    "## Epstein-Zin Model\n",
    "\n",
    "\n",
    "### The EZ recursion\n",
    "\n",
    "For Epstein--Zin preferences, lifetime utility from time $t$ onwards is given by\n",
    "\n",
    "$$\n",
    "V_t = \\left\\{\n",
    "        C_t^\\rho + \\beta (\\mathbb E_t V_{t+1}^\\gamma)^{\\rho/\\gamma} \n",
    "      \\right\\}^{1/\\rho}\n",
    "$$\n",
    "\n",
    "Here\n",
    "\n",
    "* $(C_t)$ is a consumption path that is being valued by the agent\n",
    "* $\\beta \\in (0,1)$ and $\\gamma, \\rho$ are nonzero\n",
    "* $\\mathbb E_t$ is time $t$ expectation\n",
    "* $V_t$ is lifetime utility generated by $C_t, C_{t+1}, C_{t+2}, \\ldots$\n",
    "  \n",
    "One way to understand the recursion above is to write it as\n",
    "\n",
    "$$\n",
    "V_t = \\left\\{\n",
    "        C_t^\\rho + \\beta (\\mathcal E_t V_{t+1})^\\rho\n",
    "      \\right\\}^{1/\\rho}\n",
    "$$\n",
    "\n",
    "where $\\mathcal E$ computes the ``risk-adjusted expectation'' \n",
    "\n",
    "$$\n",
    "\\mathcal E Y = (\\mathbb E Y^\\gamma)^{1/\\gamma}\n",
    "$$\n",
    "\n",
    "* $\\gamma$ governs risk aversion\n",
    "* $\\rho$ governs elasticity of intertemporal substitution"
   ]
  },
  {
   "cell_type": "markdown",
   "id": "1b258620",
   "metadata": {},
   "source": [
    "### A Markov Formulation\n",
    "\n",
    "We suppose $C_t = c(X_t)$ where $X_t$ is a Markov process taking values in state\n",
    "space $S$.\n",
    "\n",
    "We guess the solution has the form $V_t = v(X_t)$ for all $t$, where $v$ is some\n",
    "function over $S$.\n",
    "\n",
    "In this case we can write the above equation as\n",
    "\n",
    "$$\n",
    "v(X_t) = \\left\\{\n",
    "        c(X_t)^\\rho + \\beta (\\mathbb E_t v(X_{t+1})^\\gamma)^{\\rho/\\gamma} \n",
    "      \\right\\}^{1/\\rho}\n",
    "$$\n",
    "\n",
    "Let's suppose that $(X_t)$ is a Markov chain with transition matrix $P$.\n",
    "\n",
    "It suffices to find a $v \\colon S \\to \\mathbb R$ such that\n",
    "\n",
    "$$\n",
    "    v(x) \n",
    "    = \\left\\{\n",
    "        c(x)^\\rho + \\beta \\left[\\sum_{x'} v(x')^\\gamma P(x, x')\\right]^{\\rho/\\gamma} \n",
    "      \\right\\}^{1/\\rho}\n",
    "    \\qquad (x \\in S)\n",
    "$$\n",
    "\n",
    "\n",
    "We define the operator $K$ sending $v$ into $Kv$ by\n",
    "\n",
    "$$\n",
    "    (Kv)(x) \n",
    "    = \\left\\{\n",
    "        c(x)^\\rho + \\beta \\left[\\sum_{x'} v(x')^\\gamma P(x, x')\\right]^{\\rho/\\gamma} \n",
    "      \\right\\}^{1/\\rho}\n",
    "$$\n",
    "\n",
    "We seek a fixed point of $v$ (i.e., a $v$ with $Kv=v$)."
   ]
  },
  {
   "cell_type": "markdown",
   "id": "8f286fa8",
   "metadata": {},
   "source": [
    "## Solvers\n",
    "\n",
    "To solve for a fixed point of $K$ we use two methods.\n",
    "\n",
    "The first is successive approximation (also called fixed point iteration): pick any $v$ and then iterate with $K$.\n",
    "\n",
    "The second is Newton's method, which is used to find the $v \\in \\mathbb R^n$ such that $Fv = 0$.\n",
    "\n",
    "We can use Newton's method to find a fixed point of $K$ by computing a zero of $Fv = Kv - v$.\n",
    "\n",
    "As discussed above, Newton's method for finding a zero of $F$ is to iterate on\n",
    "\n",
    "$$\n",
    "v_{k+1} = v_k - J(v_k)^{-1} F(v_k) \n",
    "$$\n",
    "\n",
    "where $J(v)$ is the Jacobian of $F$ evaluated at $v$.\n",
    "\n",
    "In general\n",
    "\n",
    "* Newton's method has a faster rate of convergence (quadratic vs linear)\n",
    "* Successive approximation is more robust and can be quicker due to smaller constant terms in the rate of convergence.\n",
    "\n",
    "Here are our two solvers."
   ]
  },
  {
   "cell_type": "code",
   "execution_count": 4,
   "id": "fea97512",
   "metadata": {},
   "outputs": [],
   "source": [
    "def successive_approx(K, v_init, max_iter=50_000, tol=1e-8):\n",
    "    \"Compute the fixed point of K by iterating from guess v_init.\"\n",
    "    \n",
    "    i, error = 0, tol + 1\n",
    "    v = v_init\n",
    "    while error > tol and i < max_iter:\n",
    "        v_new = K(v)\n",
    "        error = np.max(np.abs(v_new - v))\n",
    "        i += 1\n",
    "        v = v_new\n",
    "    return v, i\n",
    "\n",
    "\n",
    "def newton_solver(K, v_init, max_iter=10_000, tol=1e-8):\n",
    "    \"\"\"\n",
    "    Apply Newton's algorithm to find a fixed point of K. \n",
    "\n",
    "    We use a root-finding operation on F(v) = K(v) - v, which requires \n",
    "    iterating with the map \n",
    "\n",
    "        Q(v) = v - J(v)^{-1} F(v).\n",
    "\n",
    "    Here J(v) is the Jacobian of F evaluated at v.\n",
    "\n",
    "    \"\"\"\n",
    "    F = lambda v: K(v) - v\n",
    "    @jax.jit\n",
    "    def Q(v):\n",
    "        J = jax.jacobian(F) \n",
    "        return v - jnp.linalg.solve(J(v), F(v))\n",
    "    return successive_approx(Q, v_init, tol=tol, max_iter=max_iter)"
   ]
  },
  {
   "cell_type": "markdown",
   "id": "92600873",
   "metadata": {},
   "source": [
    "### Solution\n",
    "\n",
    "In solving the model, we need to specify the function $c$ in $C_t = c(X_t)$ and the state process.\n",
    "\n",
    "For the state process we use a Tauchen discretization of \n",
    "\n",
    "$$\n",
    "    X_{t+1} = \\alpha X_t + \\sigma Z_{t+1},\n",
    "    \\qquad \\{Z_t\\} \\text{ is IID and } N(0, 1)\n",
    "$$\n",
    "\n",
    "We assume that $c(x) = \\exp(x)$."
   ]
  },
  {
   "cell_type": "code",
   "execution_count": 5,
   "id": "4b3cfbb5",
   "metadata": {},
   "outputs": [],
   "source": [
    "c = jnp.exp"
   ]
  },
  {
   "cell_type": "markdown",
   "id": "9f9fd948",
   "metadata": {},
   "source": [
    "Here's the model."
   ]
  },
  {
   "cell_type": "code",
   "execution_count": 6,
   "id": "d4893bf3",
   "metadata": {},
   "outputs": [],
   "source": [
    "Model = namedtuple('Model', ('ρ', 'γ', 'β', 'α', 'σ', 'x_vals', 'c_vals', 'P'))\n",
    "\n",
    "def create_ez_model(ρ=1.6,\n",
    "                    γ=-2.0,\n",
    "                    α=0.9,\n",
    "                    β=0.998,\n",
    "                    σ=0.1,\n",
    "                    n=1_000):\n",
    "    mc = qe.tauchen(n, α, σ)\n",
    "    x_vals, P = jnp.exp(mc.state_values), mc.P\n",
    "    c_vals = c(x_vals)\n",
    "    P = jnp.array(P)\n",
    "    return Model(ρ, γ, β, α, σ, x_vals, c_vals, P)"
   ]
  },
  {
   "cell_type": "markdown",
   "id": "b47dc3ac",
   "metadata": {},
   "source": [
    "Here's the operator $K$."
   ]
  },
  {
   "cell_type": "code",
   "execution_count": 7,
   "id": "ca18ed46",
   "metadata": {},
   "outputs": [],
   "source": [
    "@jax.jit\n",
    "def K(v, model):\n",
    "    ρ, γ, β, α, σ, x_vals, c_vals, P = model\n",
    "    return (c_vals**ρ + β * (P @ v**γ)**(ρ / γ))**(1 / ρ)"
   ]
  },
  {
   "cell_type": "markdown",
   "id": "5b1068bd",
   "metadata": {},
   "source": [
    "Let's solve it using the two different solvers and see which is faster."
   ]
  },
  {
   "cell_type": "code",
   "execution_count": 8,
   "id": "f61f5200",
   "metadata": {},
   "outputs": [],
   "source": [
    "model = create_ez_model()\n",
    "ρ, γ, β, α, σ, x_vals, c_vals, P = model\n",
    "v_init = c_vals"
   ]
  },
  {
   "cell_type": "code",
   "execution_count": 9,
   "id": "63fee432",
   "metadata": {},
   "outputs": [
    {
     "name": "stdout",
     "output_type": "stream",
     "text": [
      "Successive approximation converged in 8409 iterations.\n",
      "Execution time = 2.7868 seconds.\n"
     ]
    }
   ],
   "source": [
    "start_time = time.time()\n",
    "v_sa, num_iter = successive_approx(lambda v: K(v, model), v_init)\n",
    "sa_time = time.time() - start_time\n",
    "print(f\"Successive approximation converged in {num_iter} iterations.\")\n",
    "print(f\"Execution time = {sa_time:.5} seconds.\")"
   ]
  },
  {
   "cell_type": "code",
   "execution_count": 10,
   "id": "1fad2fa5",
   "metadata": {},
   "outputs": [
    {
     "name": "stdout",
     "output_type": "stream",
     "text": [
      "Successive approximation converged in 9 iterations.\n",
      "Execution time = 0.37644 seconds.\n"
     ]
    }
   ],
   "source": [
    "start_time = time.time()\n",
    "v_newton, num_iter = newton_solver(lambda v: K(v, model), v_init)\n",
    "newton_time = time.time() - start_time\n",
    "print(f\"Successive approximation converged in {num_iter} iterations.\")\n",
    "print(f\"Execution time = {newton_time:.5} seconds.\")"
   ]
  },
  {
   "cell_type": "code",
   "execution_count": 11,
   "id": "abc5f419",
   "metadata": {},
   "outputs": [
    {
     "name": "stdout",
     "output_type": "stream",
     "text": [
      "Successive approx time / Newton time = 7.403116574504105\n"
     ]
    }
   ],
   "source": [
    "print(f\"Successive approx time / Newton time = {sa_time / newton_time}\")"
   ]
  },
  {
   "cell_type": "code",
   "execution_count": 12,
   "id": "5dc69104",
   "metadata": {},
   "outputs": [
    {
     "data": {
      "image/png": "[encoded data removed]",
      "text/plain": [
       "<Figure size 640x480 with 1 Axes>"
      ]
     },
     "metadata": {},
     "output_type": "display_data"
    }
   ],
   "source": [
    "fig, ax = plt.subplots()\n",
    "ax.plot(x_vals, v_sa, label='successive approx', ls='--')\n",
    "ax.plot(x_vals, v_newton, lw=1, label='newton')\n",
    "ax.legend()\n",
    "plt.show()"
   ]
  },
  {
   "cell_type": "markdown",
   "id": "411005c5",
   "metadata": {},
   "source": [
    "## Exercise\n",
    "\n",
    "Step $\\sigma$ through `0.05, 0.075, 0.1, 0.125`, in each case computing the solution and plotting lifetime utility (all on the same figure).\n",
    "\n",
    "How does increasing volatility affect lifetime utility?\n",
    "\n",
    "(You might find that lifetime utility goes up with $\\sigma$, even though the agent is risk-averse ($\\gamma < 0$).  Can you explain this?)"
   ]
  },
  {
   "cell_type": "code",
   "execution_count": 13,
   "id": "25e71b03",
   "metadata": {},
   "outputs": [],
   "source": [
    "# Put your code here."
   ]
  },
  {
   "cell_type": "code",
   "execution_count": 14,
   "id": "41f0a0ec",
   "metadata": {},
   "outputs": [
    {
     "name": "stdout",
     "output_type": "stream",
     "text": [
      "Solution below! 🐾\n",
      "Solution below! 🐾\n",
      "Solution below! 🐾\n",
      "Solution below! 🐾\n",
      "Solution below! 🐾\n",
      "Solution below! 🐾\n",
      "Solution below! 🐾\n",
      "Solution below! 🐾\n",
      "Solution below! 🐾\n",
      "Solution below! 🐾\n",
      "Solution below! 🐾\n",
      "Solution below! 🐾\n",
      "Solution below! 🐾\n",
      "Solution below! 🐾\n",
      "Solution below! 🐾\n",
      "Solution below! 🐾\n",
      "Solution below! 🐾\n",
      "Solution below! 🐾\n"
     ]
    }
   ],
   "source": [
    "for i in range(18):\n",
    "    print(\"Solution below! 🐾\")"
   ]
  },
  {
   "cell_type": "code",
   "execution_count": 15,
   "id": "e372b9f0",
   "metadata": {},
   "outputs": [
    {
     "data": {
      "image/png": "[encoded data removed]",
      "text/plain": [
       "<Figure size 640x480 with 1 Axes>"
      ]
     },
     "metadata": {},
     "output_type": "display_data"
    }
   ],
   "source": [
    "v_init = c_vals\n",
    "sig_vals = 0.05, 0.075, 0.1, 0.125\n",
    "\n",
    "fig, ax = plt.subplots()\n",
    "for σ in sig_vals:\n",
    "    model= create_ez_model(σ=σ, γ=0.5)\n",
    "    v, _ = newton_solver(lambda v: K(v, model), v_init)\n",
    "    v_init = v\n",
    "    ax.plot(x_vals, v, label=f\"$\\sigma = {σ:.4}$\")\n",
    "ax.legend(frameon=False)\n",
    "plt.show()\n",
    "    "
   ]
  },
  {
   "cell_type": "code",
   "execution_count": null,
   "id": "8adef288",
   "metadata": {},
   "outputs": [],
   "source": []
  }
 ],
 "metadata": {
  "kernelspec": {
   "display_name": "Python 3 (ipykernel)",
   "language": "python",
   "name": "python3"
  },
  "language_info": {
   "codemirror_mode": {
    "name": "ipython",
    "version": 3
   },
   "file_extension": ".py",
   "mimetype": "text/x-python",
   "name": "python",
   "nbconvert_exporter": "python",
   "pygments_lexer": "ipython3",
   "version": "3.11.7"
  }
 },
 "nbformat": 4,
 "nbformat_minor": 5
}
