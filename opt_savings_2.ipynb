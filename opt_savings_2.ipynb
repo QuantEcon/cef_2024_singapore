{
 "cells": [
  {
   "cell_type": "markdown",
   "id": "dbb3e175",
   "metadata": {},
   "source": [
    "# Optimal Savings II: Alternative Algorithms\n",
    "\n",
    "-----\n",
    "\n",
    "#### John Stachurski\n",
    "\n",
    "#### Prepared for the CBC Workshop (May 2024)\n",
    "\n",
    "-----\n",
    "\n",
    "In `opt_savings_1.ipynb` we solved a simple version of the household optimal\n",
    "savings problem via value function iteration (VFI) using JAX.\n",
    "\n",
    "In this lecture we tackle exactly the same problem while adding in two\n",
    "alternative algorithms:\n",
    "\n",
    "* optimistic policy iteration (OPI) and\n",
    "* Howard policy iteration (HPI).\n",
    "\n",
    "\n",
    "\n",
    "Details on VFI, HPI and OPI can be found in [this book](https://dp.quantecon.org).\n",
    "\n",
    "----\n",
    "\n",
    "Uncomment if necessary:"
   ]
  },
  {
   "cell_type": "code",
   "execution_count": 1,
   "id": "8f4dfa8f",
   "metadata": {},
   "outputs": [],
   "source": [
    "#!pip install quantecon"
   ]
  },
  {
   "cell_type": "markdown",
   "id": "8e6a7428",
   "metadata": {},
   "source": [
    "We will use the following imports:"
   ]
  },
  {
   "cell_type": "code",
   "execution_count": 2,
   "id": "53346453",
   "metadata": {},
   "outputs": [],
   "source": [
    "import quantecon as qe\n",
    "import jax\n",
    "import jax.numpy as jnp\n",
    "from collections import namedtuple\n",
    "import matplotlib.pyplot as plt\n",
    "import time"
   ]
  },
  {
   "cell_type": "markdown",
   "id": "b05334e4",
   "metadata": {},
   "source": [
    "Let's check the GPU we are running."
   ]
  },
  {
   "cell_type": "code",
   "execution_count": 3,
   "id": "d5ee13d1",
   "metadata": {},
   "outputs": [
    {
     "name": "stdout",
     "output_type": "stream",
     "text": [
      "Thu May 16 18:33:37 2024       \n",
      "+-----------------------------------------------------------------------------------------+\n",
      "| NVIDIA-SMI 550.54.15              Driver Version: 550.54.15      CUDA Version: 12.4     |\n",
      "|-----------------------------------------+------------------------+----------------------+\n",
      "| GPU  Name                 Persistence-M | Bus-Id          Disp.A | Volatile Uncorr. ECC |\n",
      "| Fan  Temp   Perf          Pwr:Usage/Cap |           Memory-Usage | GPU-Util  Compute M. |\n",
      "|                                         |                        |               MIG M. |\n",
      "|=========================================+========================+======================|\n",
      "|   0  NVIDIA GeForce RTX 3080        Off |   00000000:3E:00.0 Off |                  N/A |\n",
      "| 30%   30C    P8             26W /  320W |       6MiB /  10240MiB |      0%      Default |\n",
      "|                                         |                        |                  N/A |\n",
      "+-----------------------------------------+------------------------+----------------------+\n",
      "                                                                                         \n",
      "+-----------------------------------------------------------------------------------------+\n",
      "| Processes:                                                                              |\n",
      "|  GPU   GI   CI        PID   Type   Process name                              GPU Memory |\n",
      "|        ID   ID                                                               Usage      |\n",
      "|=========================================================================================|\n",
      "|    0   N/A  N/A      1252      G   /usr/lib/xorg/Xorg                              3MiB |\n",
      "+-----------------------------------------------------------------------------------------+\n"
     ]
    },
    {
     "name": "stderr",
     "output_type": "stream",
     "text": [
      "/home/john/anaconda3/lib/python3.11/pty.py:89: RuntimeWarning: os.fork() was called. os.fork() is incompatible with multithreaded code, and JAX is multithreaded, so this will likely lead to a deadlock.\n",
      "  pid, fd = os.forkpty()\n"
     ]
    }
   ],
   "source": [
    "!nvidia-smi"
   ]
  },
  {
   "cell_type": "markdown",
   "id": "41a38d3b",
   "metadata": {},
   "source": [
    "We'll use 64 bit floats to gain extra precision."
   ]
  },
  {
   "cell_type": "code",
   "execution_count": 4,
   "id": "7b6ea816",
   "metadata": {},
   "outputs": [],
   "source": [
    "jax.config.update(\"jax_enable_x64\", True)"
   ]
  },
  {
   "cell_type": "markdown",
   "id": "53922e04",
   "metadata": {},
   "source": [
    "## Model primitives\n",
    "\n",
    "We start with a namedtuple to store parameters and arrays"
   ]
  },
  {
   "cell_type": "code",
   "execution_count": 5,
   "id": "eaa4c5bc",
   "metadata": {},
   "outputs": [],
   "source": [
    "Model = namedtuple('Model', ('β', 'R', 'γ', 'w_grid', 'y_grid', 'Q'))"
   ]
  },
  {
   "cell_type": "markdown",
   "id": "bb774997",
   "metadata": {},
   "source": [
    "The following code is repeated from `opt_savings_1`."
   ]
  },
  {
   "cell_type": "code",
   "execution_count": 6,
   "id": "c59f0eeb",
   "metadata": {},
   "outputs": [],
   "source": [
    "def create_consumption_model(R=1.01,                    # Gross interest rate\n",
    "                             β=0.98,                    # Discount factor\n",
    "                             γ=2,                       # CRRA parameter\n",
    "                             w_min=0.01,                # Min wealth\n",
    "                             w_max=5.0,                 # Max wealth\n",
    "                             w_size=150,                # Grid size\n",
    "                             ρ=0.9, ν=0.1, y_size=100): # Income parameters\n",
    "    \"\"\"\n",
    "    A function that takes in parameters and returns parameters and grids \n",
    "    for the optimal savings problem.\n",
    "    \"\"\"\n",
    "    w_grid = jnp.linspace(w_min, w_max, w_size)\n",
    "    mc = qe.tauchen(n=y_size, rho=ρ, sigma=ν)\n",
    "    y_grid, Q = jnp.exp(mc.state_values), jax.device_put(mc.P)\n",
    "    return Model(β, R, γ, w_grid, y_grid, Q)"
   ]
  },
  {
   "cell_type": "markdown",
   "id": "f03ae9d4",
   "metadata": {},
   "source": [
    "Here's the right hand side of the Bellman equation:"
   ]
  },
  {
   "cell_type": "code",
   "execution_count": 7,
   "id": "37d78802",
   "metadata": {},
   "outputs": [],
   "source": [
    "def _B(v, model, i, j, ip):\n",
    "    \"\"\"\n",
    "    The right-hand side of the Bellman equation before maximization, which takes\n",
    "    the form\n",
    "\n",
    "        B(w, y, w′) = u(Rw + y - w′) + β Σ_y′ v(w′, y′) Q(y, y′)\n",
    "\n",
    "    The indices are (i, j, ip) -> (w, y, w′).\n",
    "    \"\"\"\n",
    "    β, R, γ, w_grid, y_grid, Q = model\n",
    "    w, y, wp  = w_grid[i], y_grid[j], w_grid[ip]\n",
    "    c = R * w + y - wp\n",
    "    EV = jnp.sum(v[ip, :] * Q[j, :]) \n",
    "    return jnp.where(c > 0, c**(1-γ)/(1-γ) + β * EV, -jnp.inf)"
   ]
  },
  {
   "cell_type": "markdown",
   "id": "c1b32a71",
   "metadata": {},
   "source": [
    "Now we successively apply `vmap` to vectorize $B$ by simulating nested loops."
   ]
  },
  {
   "cell_type": "code",
   "execution_count": 11,
   "id": "c65159ae",
   "metadata": {},
   "outputs": [],
   "source": [
    "B_vmap = jax.vmap(_B,     in_axes=(None, None, None, None,  0   ))\n",
    "B_vmap = jax.vmap(B_vmap, in_axes=(None, None, None, 0,     None))\n",
    "B_vmap = jax.vmap(B_vmap, in_axes=(None, None, 0,    None,  None))"
   ]
  },
  {
   "cell_type": "markdown",
   "id": "58259f13",
   "metadata": {},
   "source": [
    "Here's a fully vectorized version of $B$."
   ]
  },
  {
   "cell_type": "code",
   "execution_count": 12,
   "id": "7a228ab3",
   "metadata": {},
   "outputs": [],
   "source": [
    "@jax.jit\n",
    "def B(v, model):\n",
    "    β, R, γ, w_grid, y_grid, Q = model\n",
    "    w_size, y_size = len(w_grid), len(y_grid)\n",
    "    w_indices, y_indices = jnp.arange(w_size), jnp.arange(y_size)\n",
    "    return B_vmap(v, model, w_indices, y_indices, w_indices)"
   ]
  },
  {
   "cell_type": "markdown",
   "id": "dfa6718c",
   "metadata": {},
   "source": [
    "## Operators\n",
    "\n",
    "\n",
    "Here's the Bellman operator $T$"
   ]
  },
  {
   "cell_type": "code",
   "execution_count": 13,
   "id": "660f10d6",
   "metadata": {},
   "outputs": [],
   "source": [
    "@jax.jit\n",
    "def T(v, model):\n",
    "    \"The Bellman operator.\"\n",
    "    return jnp.max(B(v, model), axis=-1)"
   ]
  },
  {
   "cell_type": "markdown",
   "id": "2142c672",
   "metadata": {},
   "source": [
    "The next function computes a $v$-greedy policy given $v$"
   ]
  },
  {
   "cell_type": "code",
   "execution_count": 14,
   "id": "7d2c05e0",
   "metadata": {},
   "outputs": [],
   "source": [
    "@jax.jit\n",
    "def get_greedy(v, modeld):\n",
    "    \"Computes a v-greedy policy, returned as a set of indices.\"\n",
    "    return jnp.argmax(B(v, model), axis=-1)"
   ]
  },
  {
   "cell_type": "markdown",
   "id": "6b5e9b09",
   "metadata": {},
   "source": [
    "We define a function to compute the current rewards $r_\\sigma$ given policy $\\sigma$,\n",
    "which is defined as the vector\n",
    "\n",
    "$$\n",
    "    r_\\sigma(w, y) := r(w, y, \\sigma(w, y)) \n",
    "$$"
   ]
  },
  {
   "cell_type": "code",
   "execution_count": 15,
   "id": "a7af21db",
   "metadata": {},
   "outputs": [],
   "source": [
    "def _compute_r_σ(σ, model, i, j):\n",
    "    \"\"\"\n",
    "    With indices (i, j) -> (w, y) and wp = σ[i, j], compute \n",
    "        \n",
    "        r_σ[i, j] = u(Rw + y - wp)   \n",
    "\n",
    "    which gives current rewards under policy σ.\n",
    "    \"\"\"\n",
    "\n",
    "    # Unpack model\n",
    "    β, R, γ, w_grid, y_grid, Q = model\n",
    "    # Compute r_σ[i, j]\n",
    "    w, y, wp = w_grid[i], y_grid[j], w_grid[σ[i, j]]\n",
    "    c = R * w + y - wp\n",
    "    r_σ = c**(1-γ)/(1-γ)\n",
    "\n",
    "    return r_σ"
   ]
  },
  {
   "cell_type": "markdown",
   "id": "04fb04ec",
   "metadata": {},
   "source": [
    "Now we successively apply `vmap` to simulate nested loops."
   ]
  },
  {
   "cell_type": "code",
   "execution_count": 16,
   "id": "5aa48973",
   "metadata": {},
   "outputs": [],
   "source": [
    "compute_r_σ_vmap = jax.vmap(_compute_r_σ,     in_axes=(None, None, None, 0))\n",
    "compute_r_σ_vmap = jax.vmap(compute_r_σ_vmap, in_axes=(None, None, 0,    None))"
   ]
  },
  {
   "cell_type": "markdown",
   "id": "177580af",
   "metadata": {},
   "source": [
    "Here's a fully vectorized version of $r_\\sigma$."
   ]
  },
  {
   "cell_type": "code",
   "execution_count": 17,
   "id": "6219b1f4",
   "metadata": {},
   "outputs": [],
   "source": [
    "@jax.jit\n",
    "def compute_r_σ(σ, model):\n",
    "    β, R, γ, w_grid, y_grid, Q = model\n",
    "    w_size, y_size = len(w_grid), len(y_grid)\n",
    "    w_indices, y_indices = jnp.arange(w_size), jnp.arange(y_size)\n",
    "    return compute_r_σ_vmap(σ, model, w_indices, y_indices)"
   ]
  },
  {
   "cell_type": "markdown",
   "id": "961e60fa",
   "metadata": {},
   "source": [
    "Now we define the policy operator $T_\\sigma$ going through similar steps"
   ]
  },
  {
   "cell_type": "code",
   "execution_count": 18,
   "id": "faeeb9b3",
   "metadata": {},
   "outputs": [],
   "source": [
    "def _T_σ(v, σ, model, i, j):\n",
    "    \"The σ-policy operator.\"\n",
    "\n",
    "    # Unpack model\n",
    "    β, R, γ, w_grid, y_grid, Q = model\n",
    "\n",
    "    r_σ  = _compute_r_σ(σ, model, i, j)\n",
    "    # Calculate the expected sum Σ_jp v[σ[i, j], jp] * Q[i, j, jp]\n",
    "    EV = jnp.sum(v[σ[i, j], :] * Q[j, :])\n",
    "\n",
    "    return r_σ + β * EV\n",
    "\n",
    "\n",
    "T_σ_vmap = jax.vmap(_T_σ,     in_axes=(None, None, None, None, 0))\n",
    "T_σ_vmap = jax.vmap(T_σ_vmap, in_axes=(None, None, None, 0,    None))\n",
    "\n",
    "\n",
    "@jax.jit\n",
    "def T_σ(v, σ, model):\n",
    "    β, R, γ, w_grid, y_grid, Q = model\n",
    "    w_size, y_size = len(w_grid), len(y_grid)\n",
    "    w_indices, y_indices = jnp.arange(w_size), jnp.arange(y_size)\n",
    "    return T_σ_vmap(v, σ, model, w_indices, y_indices)"
   ]
  },
  {
   "cell_type": "markdown",
   "id": "90321e77",
   "metadata": {},
   "source": [
    "The function below computes the value $v_\\sigma$ of following policy $\\sigma$.\n",
    "\n",
    "This lifetime value is a function $v_\\sigma$ that satisfies\n",
    "\n",
    "$$\n",
    "v_\\sigma(w, y) = r_\\sigma(w, y) + \\beta \\sum_{y'} v_\\sigma(\\sigma(w, y), y') Q(y, y')\n",
    "$$\n",
    "\n",
    "or, equivalently,\n",
    "\n",
    "\n",
    "$$\n",
    "v_\\sigma(w, y)  - \\beta \\sum_{y'} v_\\sigma(\\sigma(w, y), y') Q(y, y') = r_\\sigma(w, y)\n",
    "$$\n",
    "\n",
    "We wish to solve this equation for $v_\\sigma$.\n",
    "\n",
    "Suppose we define the linear operator $L_\\sigma$ by\n",
    "\n",
    "$$ \n",
    "(L_\\sigma v)(w, y) = v(w, y) - \\beta \\sum_{y'} v(\\sigma(w, y), y') Q(y, y')\n",
    "$$\n",
    "\n",
    "With this notation, the problem is to solve for $v$ via\n",
    "\n",
    "$$\n",
    "(L_{\\sigma} v)(w, y) = r_\\sigma(w, y)\n",
    "$$\n",
    "\n",
    "In vector form this is $L_\\sigma v = r_\\sigma$, which tells us that the function\n",
    "we seek is\n",
    "\n",
    "$$ \n",
    "v_\\sigma = L_\\sigma^{-1} r_\\sigma \n",
    "$$\n",
    "\n",
    "JAX allows us to solve linear systems defined in terms of operators; the first\n",
    "step is to define the function $L_{\\sigma}$."
   ]
  },
  {
   "cell_type": "code",
   "execution_count": 19,
   "id": "23b81eac",
   "metadata": {},
   "outputs": [],
   "source": [
    "def _L_σ(v, σ, model, i, j):\n",
    "    \"\"\"\n",
    "    Here we set up the linear map v -> L_σ v, where \n",
    "\n",
    "        (L_σ v)(w, y) = v(w, y) - β Σ_y′ v(σ(w, y), y′) Q(y, y′)\n",
    "\n",
    "    The indices are i -> w and j -> y.\n",
    "    \"\"\"\n",
    "    # Unpack\n",
    "    β, R, γ, w_grid, y_grid, Q = model\n",
    "    # Compute and return v[i, j] - β Σ_jp v[σ[i, j], jp] * Q[j, jp]\n",
    "    return v[i, j]  - β * jnp.sum(v[σ[i, j], :] * Q[j, :])\n",
    "\n",
    "L_σ_vmap = jax.vmap(_L_σ,     in_axes=(None, None, None, None, 0))\n",
    "L_σ_vmap = jax.vmap(L_σ_vmap, in_axes=(None, None, None, 0,    None))\n",
    "\n",
    "@jax.jit\n",
    "def L_σ(v, σ, model):\n",
    "    β, R, γ, w_grid, y_grid, Q = model\n",
    "    w_size, y_size = len(w_grid), len(y_grid)\n",
    "    w_indices, y_indices = jnp.arange(w_size), jnp.arange(y_size)\n",
    "    return L_σ_vmap(v, σ, model, w_indices, y_indices)"
   ]
  },
  {
   "cell_type": "markdown",
   "id": "2efcd8fe",
   "metadata": {},
   "source": [
    "Now we can define a function to compute $v_{\\sigma}$"
   ]
  },
  {
   "cell_type": "code",
   "execution_count": 20,
   "id": "a3679f99",
   "metadata": {},
   "outputs": [],
   "source": [
    "@jax.jit\n",
    "def get_value(σ, model):\n",
    "    \"Get the value v_σ of policy σ by inverting the linear map L_σ.\"\n",
    "\n",
    "    r_σ = compute_r_σ(σ, model)\n",
    "    partial_L_σ = lambda v: L_σ(v, σ, model)\n",
    "    return jax.scipy.sparse.linalg.bicgstab(partial_L_σ, r_σ)[0]"
   ]
  },
  {
   "cell_type": "markdown",
   "id": "b7843e78",
   "metadata": {},
   "source": [
    "## Iteration\n",
    "\n",
    "\n",
    "We use successive approximation for VFI."
   ]
  },
  {
   "cell_type": "code",
   "execution_count": 21,
   "id": "157f52d3",
   "metadata": {},
   "outputs": [],
   "source": [
    "def successive_approx_jax(T,                     # Operator (callable)\n",
    "                          x_0,                   # Initial condition                \n",
    "                          tol=1e-6,              # Error tolerance\n",
    "                          max_iter=10_000):      # Max iteration bound\n",
    "    def update(inputs):\n",
    "        k, x, error = inputs\n",
    "        x_new = T(x)\n",
    "        error = jnp.max(jnp.abs(x_new - x))\n",
    "        return k + 1, x_new, error\n",
    "\n",
    "    def condition_function(inputs):\n",
    "        k, x, error = inputs\n",
    "        return jnp.logical_and(error > tol, k < max_iter)\n",
    "\n",
    "    k, x, error = jax.lax.while_loop(condition_function, \n",
    "                                     update, \n",
    "                                     (1, x_0, tol + 1))\n",
    "    return x\n",
    "\n",
    "successive_approx_jax = jax.jit(successive_approx_jax, static_argnums=(0,))"
   ]
  },
  {
   "cell_type": "markdown",
   "id": "9a7b5d84",
   "metadata": {},
   "source": [
    "For OPI we'll add a compiled routine that computes $T_σ^m v$."
   ]
  },
  {
   "cell_type": "code",
   "execution_count": 22,
   "id": "09c8121f",
   "metadata": {},
   "outputs": [],
   "source": [
    "@jax.jit\n",
    "def iterate_policy_operator(σ, v, m, model):\n",
    "\n",
    "    def update(i, v):\n",
    "        v = T_σ(v, σ, model)\n",
    "        return v\n",
    "    \n",
    "    v = jax.lax.fori_loop(0, m, update, v)\n",
    "    return v"
   ]
  },
  {
   "cell_type": "markdown",
   "id": "f6c4df7d",
   "metadata": {},
   "source": [
    "## Solvers\n",
    "\n",
    "Now we define the solvers, which implement VFI, HPI and OPI.\n",
    "\n",
    "Here's VFI."
   ]
  },
  {
   "cell_type": "code",
   "execution_count": 23,
   "id": "efc29ffa",
   "metadata": {},
   "outputs": [],
   "source": [
    "def value_function_iteration(model, tol=1e-4):\n",
    "    \"\"\"\n",
    "    Implements value function iteration.\n",
    "    \"\"\"\n",
    "    β, R, γ, w_grid, y_grid, Q = model\n",
    "    sizes = len(w_grid), len(y_grid)\n",
    "    vz = jnp.zeros(sizes)\n",
    "    _T = lambda v: T(v, model)\n",
    "    v_star = successive_approx_jax(_T, vz, tol=tol)\n",
    "    return get_greedy(v_star, model)"
   ]
  },
  {
   "cell_type": "markdown",
   "id": "c7ac7b8f",
   "metadata": {},
   "source": [
    "For OPI we will use a compiled JAX `lax.while_loop` operation to speed execution."
   ]
  },
  {
   "cell_type": "code",
   "execution_count": 25,
   "id": "b7adc1cf",
   "metadata": {},
   "outputs": [],
   "source": [
    "@jax.jit\n",
    "def opi_loop(model, m, tol, max_iter):\n",
    "    \"\"\"\n",
    "    Implements optimistic policy iteration (see dp.quantecon.org) with \n",
    "    step size m.\n",
    "\n",
    "    \"\"\"\n",
    "    β, R, γ, w_grid, y_grid, Q = model\n",
    "    sizes = len(w_grid), len(y_grid)\n",
    "    v_init = jnp.zeros(sizes)\n",
    "\n",
    "    def condition_function(inputs):\n",
    "        i, v, error = inputs\n",
    "        return jnp.logical_and(error > tol, i < max_iter)\n",
    "\n",
    "    def update(inputs):\n",
    "        i, v, error = inputs\n",
    "        last_v = v\n",
    "        σ = get_greedy(v, model)\n",
    "        v = iterate_policy_operator(σ, v, m, model)\n",
    "        error = jnp.max(jnp.abs(v - last_v))\n",
    "        i += 1\n",
    "        return i, v, error\n",
    "\n",
    "    num_iter, v, error = jax.lax.while_loop(condition_function,\n",
    "                                            update,\n",
    "                                            (0, v_init, tol + 1))\n",
    "\n",
    "    return get_greedy(v, model)"
   ]
  },
  {
   "cell_type": "markdown",
   "id": "b1e14dbc",
   "metadata": {},
   "source": [
    "Here's a friendly interface to OPI"
   ]
  },
  {
   "cell_type": "code",
   "execution_count": 26,
   "id": "3d3e08b9",
   "metadata": {},
   "outputs": [],
   "source": [
    "def optimistic_policy_iteration(model, m=10, tol=1e-4, max_iter=10_000):\n",
    "    σ_star = opi_loop(model, m, tol, max_iter)\n",
    "    return σ_star"
   ]
  },
  {
   "cell_type": "markdown",
   "id": "220e94c6",
   "metadata": {},
   "source": [
    "Here's HPI."
   ]
  },
  {
   "cell_type": "code",
   "execution_count": 27,
   "id": "5deddcdc",
   "metadata": {},
   "outputs": [],
   "source": [
    "def howard_policy_iteration(model, tol=1e-4, maxiter=250):\n",
    "    \"\"\"\n",
    "    Implements Howard policy iteration (see dp.quantecon.org)\n",
    "    \"\"\"\n",
    "    β, R, γ, w_grid, y_grid, Q = model\n",
    "    sizes = len(w_grid), len(y_grid)\n",
    "    v_σ = jnp.zeros(sizes)\n",
    "    i, error = 0, 1.0\n",
    "    while error > tol and i < maxiter:\n",
    "        σ = get_greedy(v_σ, model)\n",
    "        v_σ_new = get_value(σ, model)\n",
    "        error = jnp.max(jnp.abs(v_σ_new - v_σ))\n",
    "        v_σ = v_σ_new\n",
    "        i = i + 1\n",
    "        print(f\"Concluded loop {i} with error {error}.\")\n",
    "    return σ"
   ]
  },
  {
   "cell_type": "markdown",
   "id": "52fc0230",
   "metadata": {},
   "source": [
    "## Plots\n",
    "\n",
    "Create a model for consumption, perform policy iteration, and plot the resulting optimal policy function."
   ]
  },
  {
   "cell_type": "code",
   "execution_count": 28,
   "id": "72db0d59",
   "metadata": {},
   "outputs": [],
   "source": [
    "model = create_consumption_model()\n",
    "β, R, γ, w_grid, y_grid, Q = model"
   ]
  },
  {
   "cell_type": "code",
   "execution_count": 29,
   "id": "a9331112",
   "metadata": {},
   "outputs": [
    {
     "name": "stdout",
     "output_type": "stream",
     "text": [
      "Concluded loop 1 with error 58.057814844603136.\n",
      "Concluded loop 2 with error 3.048231827690195.\n",
      "Concluded loop 3 with error 1.8430762677072394.\n",
      "Concluded loop 4 with error 1.2226486858397578.\n",
      "Concluded loop 5 with error 0.50185384807763.\n",
      "Concluded loop 6 with error 0.12063608435527584.\n",
      "Concluded loop 7 with error 0.01380189058068737.\n",
      "Concluded loop 8 with error 0.0006069507737862523.\n",
      "Concluded loop 9 with error 5.241054093829689e-05.\n"
     ]
    },
    {
     "data": {
      "image/png": "[encoded data removed]",
      "text/plain": [
       "<Figure size 640x480 with 1 Axes>"
      ]
     },
     "metadata": {},
     "output_type": "display_data"
    }
   ],
   "source": [
    "σ_star = howard_policy_iteration(model)\n",
    "\n",
    "fig, ax = plt.subplots()\n",
    "ax.plot(w_grid, w_grid, \"k--\", label=\"45\")\n",
    "ax.plot(w_grid, w_grid[σ_star[:, 1]], label=\"$\\\\sigma^*(\\cdot, y_1)$\")\n",
    "ax.plot(w_grid, w_grid[σ_star[:, -1]], label=\"$\\\\sigma^*(\\cdot, y_N)$\")\n",
    "ax.legend()\n",
    "plt.show()"
   ]
  },
  {
   "cell_type": "markdown",
   "id": "585863e4",
   "metadata": {},
   "source": [
    "## Tests\n",
    "\n",
    "Let's create an instance of the model."
   ]
  },
  {
   "cell_type": "code",
   "execution_count": 30,
   "id": "e56a9b7f",
   "metadata": {},
   "outputs": [],
   "source": [
    "model = create_consumption_model()"
   ]
  },
  {
   "cell_type": "markdown",
   "id": "3e7b87a4",
   "metadata": {},
   "source": [
    "Here's a function that runs any one of the algorithms and returns the result and\n",
    "elapsed time."
   ]
  },
  {
   "cell_type": "code",
   "execution_count": 31,
   "id": "046280d3",
   "metadata": {},
   "outputs": [],
   "source": [
    "def run_algorithm(algorithm, model, **kwargs):\n",
    "    start_time = time.time()\n",
    "    result = algorithm(model, **kwargs)\n",
    "    end_time = time.time()\n",
    "    elapsed_time = end_time - start_time\n",
    "    print(f\"{algorithm.__name__} completed in {elapsed_time:.2f} seconds.\")\n",
    "    return result, elapsed_time"
   ]
  },
  {
   "cell_type": "markdown",
   "id": "ead6d1a4",
   "metadata": {},
   "source": [
    "Here's a quick test of each model.\n",
    "\n",
    "HPI first run:"
   ]
  },
  {
   "cell_type": "code",
   "execution_count": 32,
   "id": "0edd6c9f",
   "metadata": {},
   "outputs": [
    {
     "name": "stdout",
     "output_type": "stream",
     "text": [
      "Concluded loop 1 with error 58.057814844603136.\n",
      "Concluded loop 2 with error 3.048231827690195.\n",
      "Concluded loop 3 with error 1.8430762677072394.\n",
      "Concluded loop 4 with error 1.2226486858397578.\n",
      "Concluded loop 5 with error 0.50185384807763.\n",
      "Concluded loop 6 with error 0.12063608435527584.\n",
      "Concluded loop 7 with error 0.01380189058068737.\n",
      "Concluded loop 8 with error 0.0006069507737862523.\n",
      "Concluded loop 9 with error 5.241054093829689e-05.\n",
      "howard_policy_iteration completed in 0.08 seconds.\n"
     ]
    }
   ],
   "source": [
    "σ_pi, pi_time = run_algorithm(howard_policy_iteration, \n",
    "                              model)"
   ]
  },
  {
   "cell_type": "markdown",
   "id": "5a06e0fe",
   "metadata": {},
   "source": [
    "HPI second run:"
   ]
  },
  {
   "cell_type": "code",
   "execution_count": 33,
   "id": "42639d21",
   "metadata": {},
   "outputs": [
    {
     "name": "stdout",
     "output_type": "stream",
     "text": [
      "Concluded loop 1 with error 58.057814844603136.\n",
      "Concluded loop 2 with error 3.048231827690195.\n",
      "Concluded loop 3 with error 1.8430762677072394.\n",
      "Concluded loop 4 with error 1.2226486858397578.\n",
      "Concluded loop 5 with error 0.50185384807763.\n",
      "Concluded loop 6 with error 0.12063608435527584.\n",
      "Concluded loop 7 with error 0.01380189058068737.\n",
      "Concluded loop 8 with error 0.0006069507737862523.\n",
      "Concluded loop 9 with error 5.241054093829689e-05.\n",
      "howard_policy_iteration completed in 0.06 seconds.\n"
     ]
    }
   ],
   "source": [
    "σ_pi, pi_time = run_algorithm(howard_policy_iteration, \n",
    "                              model)"
   ]
  },
  {
   "cell_type": "markdown",
   "id": "28d9968c",
   "metadata": {},
   "source": [
    "VFI first run:"
   ]
  },
  {
   "cell_type": "code",
   "execution_count": 34,
   "id": "23922abd",
   "metadata": {},
   "outputs": [
    {
     "name": "stdout",
     "output_type": "stream",
     "text": [
      "Starting VFI.\n",
      "value_function_iteration completed in 0.23 seconds.\n"
     ]
    }
   ],
   "source": [
    "print(\"Starting VFI.\")\n",
    "σ_vfi, vfi_time = run_algorithm(value_function_iteration, \n",
    "                                model, tol=1e-4)"
   ]
  },
  {
   "cell_type": "markdown",
   "id": "8adc2a2b",
   "metadata": {},
   "source": [
    "VFI second run:"
   ]
  },
  {
   "cell_type": "code",
   "execution_count": 35,
   "id": "6a7cd3a3",
   "metadata": {},
   "outputs": [
    {
     "name": "stdout",
     "output_type": "stream",
     "text": [
      "Starting VFI.\n",
      "value_function_iteration completed in 0.18 seconds.\n"
     ]
    }
   ],
   "source": [
    "print(\"Starting VFI.\")\n",
    "σ_vfi, vfi_time = run_algorithm(value_function_iteration, \n",
    "                                model, tol=1e-4)"
   ]
  },
  {
   "cell_type": "markdown",
   "id": "9a876e7d",
   "metadata": {},
   "source": [
    "OPI first run:"
   ]
  },
  {
   "cell_type": "code",
   "execution_count": 40,
   "id": "38e306ba",
   "metadata": {},
   "outputs": [
    {
     "name": "stdout",
     "output_type": "stream",
     "text": [
      "Starting OPI with m = 100.\n",
      "optimistic_policy_iteration completed in 0.11 seconds.\n"
     ]
    }
   ],
   "source": [
    "m = 100\n",
    "print(f\"Starting OPI with m = {m}.\")\n",
    "σ_opi, opi_time = run_algorithm(optimistic_policy_iteration, \n",
    "                                model, m=m, tol=1e-4)"
   ]
  },
  {
   "cell_type": "markdown",
   "id": "72708125",
   "metadata": {},
   "source": [
    "OPI second run:"
   ]
  },
  {
   "cell_type": "code",
   "execution_count": 41,
   "id": "b76a3b18",
   "metadata": {},
   "outputs": [
    {
     "name": "stdout",
     "output_type": "stream",
     "text": [
      "Starting OPI with m = 100.\n",
      "optimistic_policy_iteration completed in 0.08 seconds.\n"
     ]
    }
   ],
   "source": [
    "m = 100\n",
    "print(f\"Starting OPI with m = {m}.\")\n",
    "σ_opi, opi_time = run_algorithm(optimistic_policy_iteration, \n",
    "                                model, m=m, tol=1e-4)"
   ]
  },
  {
   "cell_type": "markdown",
   "id": "6f267034",
   "metadata": {},
   "source": [
    "Now let's run OPI at a range of $m$ values and plot the execution time along\n",
    "side the execution time for VFI and HPI."
   ]
  },
  {
   "cell_type": "code",
   "execution_count": 42,
   "id": "13a19e6b",
   "metadata": {},
   "outputs": [
    {
     "name": "stdout",
     "output_type": "stream",
     "text": [
      "Concluded loop 1 with error 58.057814844603136.\n",
      "Concluded loop 2 with error 3.048231827690195.\n",
      "Concluded loop 3 with error 1.8430762677072394.\n",
      "Concluded loop 4 with error 1.2226486858397578.\n",
      "Concluded loop 5 with error 0.50185384807763.\n",
      "Concluded loop 6 with error 0.12063608435527584.\n",
      "Concluded loop 7 with error 0.01380189058068737.\n",
      "Concluded loop 8 with error 0.0006069507737862523.\n",
      "Concluded loop 9 with error 5.241054093829689e-05.\n",
      "howard_policy_iteration completed in 0.05 seconds.\n",
      "value_function_iteration completed in 0.18 seconds.\n",
      "optimistic_policy_iteration completed in 0.15 seconds.\n",
      "optimistic_policy_iteration completed in 0.05 seconds.\n",
      "optimistic_policy_iteration completed in 0.05 seconds.\n",
      "optimistic_policy_iteration completed in 0.05 seconds.\n",
      "optimistic_policy_iteration completed in 0.06 seconds.\n",
      "optimistic_policy_iteration completed in 0.07 seconds.\n",
      "optimistic_policy_iteration completed in 0.07 seconds.\n",
      "optimistic_policy_iteration completed in 0.08 seconds.\n",
      "optimistic_policy_iteration completed in 0.09 seconds.\n",
      "optimistic_policy_iteration completed in 0.10 seconds.\n"
     ]
    }
   ],
   "source": [
    "σ_pi, pi_time = run_algorithm(howard_policy_iteration, model)\n",
    "σ_vfi, vfi_time = run_algorithm(value_function_iteration, model, tol=1e-4)\n",
    "m_vals = range(1, 200, 20)\n",
    "opi_times = []\n",
    "for m in m_vals:\n",
    "    σ_opi, opi_time = run_algorithm(optimistic_policy_iteration, \n",
    "                                    model, m=m, tol=1e-4)\n",
    "    opi_times.append(opi_time)"
   ]
  },
  {
   "cell_type": "markdown",
   "id": "94b57c96",
   "metadata": {},
   "source": [
    "Here's the plot."
   ]
  },
  {
   "cell_type": "code",
   "execution_count": 43,
   "id": "45b94e4a",
   "metadata": {},
   "outputs": [
    {
     "data": {
      "image/png": "[encoded data removed]",
      "text/plain": [
       "<Figure size 640x480 with 1 Axes>"
      ]
     },
     "metadata": {},
     "output_type": "display_data"
    }
   ],
   "source": [
    "fig, ax = plt.subplots()\n",
    "ax.plot(m_vals, \n",
    "        jnp.full(len(m_vals), pi_time), \n",
    "        lw=2, label=\"Howard policy iteration\")\n",
    "ax.plot(m_vals, \n",
    "        jnp.full(len(m_vals), vfi_time), \n",
    "        lw=2, label=\"value function iteration\")\n",
    "ax.plot(m_vals, opi_times, \n",
    "        lw=2, label=\"optimistic policy iteration\")\n",
    "ax.legend(frameon=False)\n",
    "ax.set_xlabel(\"$m$\")\n",
    "ax.set_ylabel(\"time\")\n",
    "plt.show()"
   ]
  },
  {
   "cell_type": "code",
   "execution_count": null,
   "id": "0430136b-2ce1-4292-97f6-be23151fa01f",
   "metadata": {},
   "outputs": [],
   "source": []
  }
 ],
 "metadata": {
  "kernelspec": {
   "display_name": "Python 3 (ipykernel)",
   "language": "python",
   "name": "python3"
  },
  "language_info": {
   "codemirror_mode": {
    "name": "ipython",
    "version": 3
   },
   "file_extension": ".py",
   "mimetype": "text/x-python",
   "name": "python",
   "nbconvert_exporter": "python",
   "pygments_lexer": "ipython3",
   "version": "3.11.7"
  }
 },
 "nbformat": 4,
 "nbformat_minor": 5
}
